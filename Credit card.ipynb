{
 "cells": [
  {
   "cell_type": "code",
   "execution_count": 86,
   "id": "7ff8f94e",
   "metadata": {},
   "outputs": [],
   "source": [
    "#import the packages\n",
    "import numpy as np\n",
    "import pandas as pd\n",
    "import datetime as dt\n",
    "from datetime import datetime\n",
    "import matplotlib.pyplot as plt\n",
    "import scipy.stats as stats\n",
    "import seaborn as sns"
   ]
  },
  {
   "cell_type": "code",
   "execution_count": 5,
   "id": "ee2e4ca5",
   "metadata": {},
   "outputs": [],
   "source": [
    "#import the datasets\n",
    "cust=pd.read_excel('Credit Card Data.xlsx',sheet_name='Customer Acqusition')\n",
    "spend=pd.read_excel('Credit Card Data.xlsx',sheet_name='Spend')\n",
    "repay=pd.read_excel('Credit Card Data.xlsx',sheet_name='Repayment')"
   ]
  },
  {
   "cell_type": "code",
   "execution_count": 6,
   "id": "6802d870",
   "metadata": {},
   "outputs": [
    {
     "data": {
      "text/html": [
       "<div>\n",
       "<style scoped>\n",
       "    .dataframe tbody tr th:only-of-type {\n",
       "        vertical-align: middle;\n",
       "    }\n",
       "\n",
       "    .dataframe tbody tr th {\n",
       "        vertical-align: top;\n",
       "    }\n",
       "\n",
       "    .dataframe thead th {\n",
       "        text-align: right;\n",
       "    }\n",
       "</style>\n",
       "<table border=\"1\" class=\"dataframe\">\n",
       "  <thead>\n",
       "    <tr style=\"text-align: right;\">\n",
       "      <th></th>\n",
       "      <th>No</th>\n",
       "      <th>Customer</th>\n",
       "      <th>Age</th>\n",
       "      <th>City</th>\n",
       "      <th>Product</th>\n",
       "      <th>Limit</th>\n",
       "      <th>Company</th>\n",
       "      <th>Segment</th>\n",
       "    </tr>\n",
       "  </thead>\n",
       "  <tbody>\n",
       "    <tr>\n",
       "      <th>0</th>\n",
       "      <td>1</td>\n",
       "      <td>A1</td>\n",
       "      <td>34.012349</td>\n",
       "      <td>BANGALORE</td>\n",
       "      <td>Gold</td>\n",
       "      <td>500000</td>\n",
       "      <td>C1</td>\n",
       "      <td>Self Employed</td>\n",
       "    </tr>\n",
       "    <tr>\n",
       "      <th>1</th>\n",
       "      <td>2</td>\n",
       "      <td>A2</td>\n",
       "      <td>50.497350</td>\n",
       "      <td>CALCUTTA</td>\n",
       "      <td>Silver</td>\n",
       "      <td>100000</td>\n",
       "      <td>C2</td>\n",
       "      <td>Salaried_MNC</td>\n",
       "    </tr>\n",
       "    <tr>\n",
       "      <th>2</th>\n",
       "      <td>3</td>\n",
       "      <td>A3</td>\n",
       "      <td>35.855817</td>\n",
       "      <td>COCHIN</td>\n",
       "      <td>Platimum</td>\n",
       "      <td>10000</td>\n",
       "      <td>C3</td>\n",
       "      <td>Salaried_Pvt</td>\n",
       "    </tr>\n",
       "    <tr>\n",
       "      <th>3</th>\n",
       "      <td>4</td>\n",
       "      <td>A4</td>\n",
       "      <td>27.356821</td>\n",
       "      <td>BOMBAY</td>\n",
       "      <td>Platimum</td>\n",
       "      <td>10001</td>\n",
       "      <td>C4</td>\n",
       "      <td>Govt</td>\n",
       "    </tr>\n",
       "    <tr>\n",
       "      <th>4</th>\n",
       "      <td>5</td>\n",
       "      <td>A5</td>\n",
       "      <td>22.021249</td>\n",
       "      <td>BANGALORE</td>\n",
       "      <td>Platimum</td>\n",
       "      <td>10002</td>\n",
       "      <td>C5</td>\n",
       "      <td>Normal Salary</td>\n",
       "    </tr>\n",
       "  </tbody>\n",
       "</table>\n",
       "</div>"
      ],
      "text/plain": [
       "   No Customer        Age       City   Product   Limit Company        Segment\n",
       "0   1       A1  34.012349  BANGALORE      Gold  500000      C1  Self Employed\n",
       "1   2       A2  50.497350   CALCUTTA    Silver  100000      C2   Salaried_MNC\n",
       "2   3       A3  35.855817     COCHIN  Platimum   10000      C3   Salaried_Pvt\n",
       "3   4       A4  27.356821     BOMBAY  Platimum   10001      C4           Govt\n",
       "4   5       A5  22.021249  BANGALORE  Platimum   10002      C5  Normal Salary"
      ]
     },
     "execution_count": 6,
     "metadata": {},
     "output_type": "execute_result"
    }
   ],
   "source": [
    "cust.head()"
   ]
  },
  {
   "cell_type": "code",
   "execution_count": 7,
   "id": "effcfd77",
   "metadata": {},
   "outputs": [
    {
     "data": {
      "text/html": [
       "<div>\n",
       "<style scoped>\n",
       "    .dataframe tbody tr th:only-of-type {\n",
       "        vertical-align: middle;\n",
       "    }\n",
       "\n",
       "    .dataframe tbody tr th {\n",
       "        vertical-align: top;\n",
       "    }\n",
       "\n",
       "    .dataframe thead th {\n",
       "        text-align: right;\n",
       "    }\n",
       "</style>\n",
       "<table border=\"1\" class=\"dataframe\">\n",
       "  <thead>\n",
       "    <tr style=\"text-align: right;\">\n",
       "      <th></th>\n",
       "      <th>Sl No:</th>\n",
       "      <th>Customer</th>\n",
       "      <th>Month</th>\n",
       "      <th>Type</th>\n",
       "      <th>Amount</th>\n",
       "    </tr>\n",
       "  </thead>\n",
       "  <tbody>\n",
       "    <tr>\n",
       "      <th>0</th>\n",
       "      <td>1</td>\n",
       "      <td>A1</td>\n",
       "      <td>2004-01-12</td>\n",
       "      <td>JEWELLERY</td>\n",
       "      <td>344054.980813</td>\n",
       "    </tr>\n",
       "    <tr>\n",
       "      <th>1</th>\n",
       "      <td>2</td>\n",
       "      <td>A1</td>\n",
       "      <td>2004-01-03</td>\n",
       "      <td>PETRO</td>\n",
       "      <td>467747.601626</td>\n",
       "    </tr>\n",
       "    <tr>\n",
       "      <th>2</th>\n",
       "      <td>3</td>\n",
       "      <td>A1</td>\n",
       "      <td>2004-01-15</td>\n",
       "      <td>CLOTHES</td>\n",
       "      <td>86878.954735</td>\n",
       "    </tr>\n",
       "    <tr>\n",
       "      <th>3</th>\n",
       "      <td>4</td>\n",
       "      <td>A1</td>\n",
       "      <td>2004-01-25</td>\n",
       "      <td>FOOD</td>\n",
       "      <td>269175.011875</td>\n",
       "    </tr>\n",
       "    <tr>\n",
       "      <th>4</th>\n",
       "      <td>5</td>\n",
       "      <td>A1</td>\n",
       "      <td>2005-01-17</td>\n",
       "      <td>CAMERA</td>\n",
       "      <td>3406.639477</td>\n",
       "    </tr>\n",
       "  </tbody>\n",
       "</table>\n",
       "</div>"
      ],
      "text/plain": [
       "   Sl No: Customer      Month       Type         Amount\n",
       "0       1       A1 2004-01-12  JEWELLERY  344054.980813\n",
       "1       2       A1 2004-01-03      PETRO  467747.601626\n",
       "2       3       A1 2004-01-15    CLOTHES   86878.954735\n",
       "3       4       A1 2004-01-25       FOOD  269175.011875\n",
       "4       5       A1 2005-01-17     CAMERA    3406.639477"
      ]
     },
     "execution_count": 7,
     "metadata": {},
     "output_type": "execute_result"
    }
   ],
   "source": [
    "spend.head()"
   ]
  },
  {
   "cell_type": "code",
   "execution_count": 8,
   "id": "bb3d1f7c",
   "metadata": {},
   "outputs": [
    {
     "data": {
      "text/html": [
       "<div>\n",
       "<style scoped>\n",
       "    .dataframe tbody tr th:only-of-type {\n",
       "        vertical-align: middle;\n",
       "    }\n",
       "\n",
       "    .dataframe tbody tr th {\n",
       "        vertical-align: top;\n",
       "    }\n",
       "\n",
       "    .dataframe thead th {\n",
       "        text-align: right;\n",
       "    }\n",
       "</style>\n",
       "<table border=\"1\" class=\"dataframe\">\n",
       "  <thead>\n",
       "    <tr style=\"text-align: right;\">\n",
       "      <th></th>\n",
       "      <th>SL No:</th>\n",
       "      <th>Customer</th>\n",
       "      <th>Month</th>\n",
       "      <th>Amount</th>\n",
       "    </tr>\n",
       "  </thead>\n",
       "  <tbody>\n",
       "    <tr>\n",
       "      <th>0</th>\n",
       "      <td>1</td>\n",
       "      <td>A1</td>\n",
       "      <td>2004-01-12</td>\n",
       "      <td>338932.141919</td>\n",
       "    </tr>\n",
       "    <tr>\n",
       "      <th>1</th>\n",
       "      <td>2</td>\n",
       "      <td>A1</td>\n",
       "      <td>2004-01-03</td>\n",
       "      <td>131778.688758</td>\n",
       "    </tr>\n",
       "    <tr>\n",
       "      <th>2</th>\n",
       "      <td>3</td>\n",
       "      <td>A1</td>\n",
       "      <td>2004-01-15</td>\n",
       "      <td>485981.516736</td>\n",
       "    </tr>\n",
       "    <tr>\n",
       "      <th>3</th>\n",
       "      <td>4</td>\n",
       "      <td>A1</td>\n",
       "      <td>2004-01-25</td>\n",
       "      <td>452865.826385</td>\n",
       "    </tr>\n",
       "    <tr>\n",
       "      <th>4</th>\n",
       "      <td>5</td>\n",
       "      <td>A1</td>\n",
       "      <td>2005-01-17</td>\n",
       "      <td>154684.838196</td>\n",
       "    </tr>\n",
       "  </tbody>\n",
       "</table>\n",
       "</div>"
      ],
      "text/plain": [
       "   SL No: Customer      Month         Amount\n",
       "0       1       A1 2004-01-12  338932.141919\n",
       "1       2       A1 2004-01-03  131778.688758\n",
       "2       3       A1 2004-01-15  485981.516736\n",
       "3       4       A1 2004-01-25  452865.826385\n",
       "4       5       A1 2005-01-17  154684.838196"
      ]
     },
     "execution_count": 8,
     "metadata": {},
     "output_type": "execute_result"
    }
   ],
   "source": [
    "repay.head()"
   ]
  },
  {
   "cell_type": "code",
   "execution_count": 11,
   "id": "5e3bf0dd",
   "metadata": {},
   "outputs": [
    {
     "data": {
      "text/plain": [
       "No            int64\n",
       "Customer     object\n",
       "Age         float64\n",
       "City         object\n",
       "Product      object\n",
       "Limit         int64\n",
       "Company      object\n",
       "Segment      object\n",
       "dtype: object"
      ]
     },
     "execution_count": 11,
     "metadata": {},
     "output_type": "execute_result"
    }
   ],
   "source": [
    "cust.dtypes"
   ]
  },
  {
   "cell_type": "code",
   "execution_count": 9,
   "id": "f25162c1",
   "metadata": {},
   "outputs": [
    {
     "data": {
      "text/plain": [
       "No          0\n",
       "Customer    0\n",
       "Age         0\n",
       "City        0\n",
       "Product     0\n",
       "Limit       0\n",
       "Company     0\n",
       "Segment     0\n",
       "dtype: int64"
      ]
     },
     "execution_count": 9,
     "metadata": {},
     "output_type": "execute_result"
    }
   ],
   "source": [
    "cust.isna().sum()"
   ]
  },
  {
   "cell_type": "markdown",
   "id": "2a5a934d",
   "metadata": {},
   "source": [
    "### 1. In the above dataset,\n",
    " a. In case age is less than 18, replace it with mean of age values.\n"
   ]
  },
  {
   "cell_type": "code",
   "execution_count": 15,
   "id": "d0ece344",
   "metadata": {},
   "outputs": [],
   "source": [
    "cust['Age']=np.where(cust['Age'] < 18,cust['Age'].mean(),cust['Age'])"
   ]
  },
  {
   "cell_type": "markdown",
   "id": "0bace6be",
   "metadata": {},
   "source": [
    "### b. In case spend amount is more than the limit, replace it with 50% of that customer’s limit. \n",
    "(customer’s limit provided in acquisition table is the per transaction limit on his card)"
   ]
  },
  {
   "cell_type": "code",
   "execution_count": 20,
   "id": "eabc735f",
   "metadata": {},
   "outputs": [],
   "source": [
    "#merging cust data and spend data\n",
    "data1=pd.merge(cust,spend,on='Customer',how='inner')\n",
    "#merging data1 and repay data\n",
    "data=pd.merge(data1,repay,on='Customer',how='inner')"
   ]
  },
  {
   "cell_type": "code",
   "execution_count": 106,
   "id": "1d8349b9",
   "metadata": {},
   "outputs": [
    {
     "data": {
      "text/html": [
       "<div>\n",
       "<style scoped>\n",
       "    .dataframe tbody tr th:only-of-type {\n",
       "        vertical-align: middle;\n",
       "    }\n",
       "\n",
       "    .dataframe tbody tr th {\n",
       "        vertical-align: top;\n",
       "    }\n",
       "\n",
       "    .dataframe thead th {\n",
       "        text-align: right;\n",
       "    }\n",
       "</style>\n",
       "<table border=\"1\" class=\"dataframe\">\n",
       "  <thead>\n",
       "    <tr style=\"text-align: right;\">\n",
       "      <th></th>\n",
       "      <th>No</th>\n",
       "      <th>Customer</th>\n",
       "      <th>Age</th>\n",
       "      <th>City</th>\n",
       "      <th>Product</th>\n",
       "      <th>Limit</th>\n",
       "      <th>Company</th>\n",
       "      <th>Segment</th>\n",
       "      <th>DOB</th>\n",
       "      <th>Sl No:</th>\n",
       "      <th>...</th>\n",
       "      <th>Type</th>\n",
       "      <th>Amount_x</th>\n",
       "      <th>SL No:</th>\n",
       "      <th>Month_y</th>\n",
       "      <th>Amount_y</th>\n",
       "      <th>month_name_x</th>\n",
       "      <th>month_name_y</th>\n",
       "      <th>monthly_profit</th>\n",
       "      <th>interest</th>\n",
       "      <th>year_x</th>\n",
       "    </tr>\n",
       "  </thead>\n",
       "  <tbody>\n",
       "    <tr>\n",
       "      <th>0</th>\n",
       "      <td>1</td>\n",
       "      <td>A1</td>\n",
       "      <td>344054.980813</td>\n",
       "      <td>BANGALORE</td>\n",
       "      <td>Gold</td>\n",
       "      <td>500000</td>\n",
       "      <td>C1</td>\n",
       "      <td>Self Employed</td>\n",
       "      <td>1989.987651</td>\n",
       "      <td>1</td>\n",
       "      <td>...</td>\n",
       "      <td>JEWELLERY</td>\n",
       "      <td>344054.980813</td>\n",
       "      <td>1</td>\n",
       "      <td>2004-01-12</td>\n",
       "      <td>338932.141919</td>\n",
       "      <td>1</td>\n",
       "      <td>1</td>\n",
       "      <td>-5122.838893</td>\n",
       "      <td>-5122.838893</td>\n",
       "      <td>2004</td>\n",
       "    </tr>\n",
       "    <tr>\n",
       "      <th>1</th>\n",
       "      <td>1</td>\n",
       "      <td>A1</td>\n",
       "      <td>344054.980813</td>\n",
       "      <td>BANGALORE</td>\n",
       "      <td>Gold</td>\n",
       "      <td>500000</td>\n",
       "      <td>C1</td>\n",
       "      <td>Self Employed</td>\n",
       "      <td>1989.987651</td>\n",
       "      <td>1</td>\n",
       "      <td>...</td>\n",
       "      <td>JEWELLERY</td>\n",
       "      <td>344054.980813</td>\n",
       "      <td>2</td>\n",
       "      <td>2004-01-03</td>\n",
       "      <td>131778.688758</td>\n",
       "      <td>1</td>\n",
       "      <td>1</td>\n",
       "      <td>-212276.292055</td>\n",
       "      <td>-212276.292055</td>\n",
       "      <td>2004</td>\n",
       "    </tr>\n",
       "    <tr>\n",
       "      <th>2</th>\n",
       "      <td>1</td>\n",
       "      <td>A1</td>\n",
       "      <td>344054.980813</td>\n",
       "      <td>BANGALORE</td>\n",
       "      <td>Gold</td>\n",
       "      <td>500000</td>\n",
       "      <td>C1</td>\n",
       "      <td>Self Employed</td>\n",
       "      <td>1989.987651</td>\n",
       "      <td>1</td>\n",
       "      <td>...</td>\n",
       "      <td>JEWELLERY</td>\n",
       "      <td>344054.980813</td>\n",
       "      <td>3</td>\n",
       "      <td>2004-01-15</td>\n",
       "      <td>485981.516736</td>\n",
       "      <td>1</td>\n",
       "      <td>1</td>\n",
       "      <td>141926.535923</td>\n",
       "      <td>4115.869542</td>\n",
       "      <td>2004</td>\n",
       "    </tr>\n",
       "    <tr>\n",
       "      <th>3</th>\n",
       "      <td>1</td>\n",
       "      <td>A1</td>\n",
       "      <td>344054.980813</td>\n",
       "      <td>BANGALORE</td>\n",
       "      <td>Gold</td>\n",
       "      <td>500000</td>\n",
       "      <td>C1</td>\n",
       "      <td>Self Employed</td>\n",
       "      <td>1989.987651</td>\n",
       "      <td>1</td>\n",
       "      <td>...</td>\n",
       "      <td>JEWELLERY</td>\n",
       "      <td>344054.980813</td>\n",
       "      <td>4</td>\n",
       "      <td>2004-01-25</td>\n",
       "      <td>452865.826385</td>\n",
       "      <td>1</td>\n",
       "      <td>1</td>\n",
       "      <td>108810.845572</td>\n",
       "      <td>3155.514522</td>\n",
       "      <td>2004</td>\n",
       "    </tr>\n",
       "    <tr>\n",
       "      <th>4</th>\n",
       "      <td>1</td>\n",
       "      <td>A1</td>\n",
       "      <td>344054.980813</td>\n",
       "      <td>BANGALORE</td>\n",
       "      <td>Gold</td>\n",
       "      <td>500000</td>\n",
       "      <td>C1</td>\n",
       "      <td>Self Employed</td>\n",
       "      <td>1989.987651</td>\n",
       "      <td>1</td>\n",
       "      <td>...</td>\n",
       "      <td>JEWELLERY</td>\n",
       "      <td>344054.980813</td>\n",
       "      <td>5</td>\n",
       "      <td>2005-01-17</td>\n",
       "      <td>154684.838196</td>\n",
       "      <td>1</td>\n",
       "      <td>1</td>\n",
       "      <td>-189370.142617</td>\n",
       "      <td>-189370.142617</td>\n",
       "      <td>2004</td>\n",
       "    </tr>\n",
       "  </tbody>\n",
       "</table>\n",
       "<p>5 rows × 21 columns</p>\n",
       "</div>"
      ],
      "text/plain": [
       "   No Customer            Age       City Product   Limit Company  \\\n",
       "0   1       A1  344054.980813  BANGALORE    Gold  500000      C1   \n",
       "1   1       A1  344054.980813  BANGALORE    Gold  500000      C1   \n",
       "2   1       A1  344054.980813  BANGALORE    Gold  500000      C1   \n",
       "3   1       A1  344054.980813  BANGALORE    Gold  500000      C1   \n",
       "4   1       A1  344054.980813  BANGALORE    Gold  500000      C1   \n",
       "\n",
       "         Segment          DOB  Sl No:  ...       Type       Amount_x  SL No:  \\\n",
       "0  Self Employed  1989.987651       1  ...  JEWELLERY  344054.980813       1   \n",
       "1  Self Employed  1989.987651       1  ...  JEWELLERY  344054.980813       2   \n",
       "2  Self Employed  1989.987651       1  ...  JEWELLERY  344054.980813       3   \n",
       "3  Self Employed  1989.987651       1  ...  JEWELLERY  344054.980813       4   \n",
       "4  Self Employed  1989.987651       1  ...  JEWELLERY  344054.980813       5   \n",
       "\n",
       "     Month_y       Amount_y  month_name_x  month_name_y  monthly_profit  \\\n",
       "0 2004-01-12  338932.141919             1             1    -5122.838893   \n",
       "1 2004-01-03  131778.688758             1             1  -212276.292055   \n",
       "2 2004-01-15  485981.516736             1             1   141926.535923   \n",
       "3 2004-01-25  452865.826385             1             1   108810.845572   \n",
       "4 2005-01-17  154684.838196             1             1  -189370.142617   \n",
       "\n",
       "        interest  year_x  \n",
       "0   -5122.838893    2004  \n",
       "1 -212276.292055    2004  \n",
       "2    4115.869542    2004  \n",
       "3    3155.514522    2004  \n",
       "4 -189370.142617    2004  \n",
       "\n",
       "[5 rows x 21 columns]"
      ]
     },
     "execution_count": 106,
     "metadata": {},
     "output_type": "execute_result"
    }
   ],
   "source": [
    "data.head()"
   ]
  },
  {
   "cell_type": "code",
   "execution_count": 25,
   "id": "1a851d37",
   "metadata": {},
   "outputs": [],
   "source": [
    "data['Amount_x']=np.where(data['Amount_x'] > data['Limit'],0.5 * data['Limit'],data['Amount_x'])"
   ]
  },
  {
   "cell_type": "markdown",
   "id": "a9f86fb5",
   "metadata": {},
   "source": [
    "###  c. Incase the repayment amount is more than the limit, replace the repayment with the limit.\n"
   ]
  },
  {
   "cell_type": "code",
   "execution_count": 26,
   "id": "92ce7e6e",
   "metadata": {},
   "outputs": [],
   "source": [
    "data['Amount_y']=np.where(data['Amount_y'] > data['Limit'], data['Limit'],data['Amount_y'])"
   ]
  },
  {
   "cell_type": "markdown",
   "id": "9347213c",
   "metadata": {},
   "source": [
    "### 2. From the above dataset create the following summaries:\n",
    " a. How many distinct customers exist?\n"
   ]
  },
  {
   "cell_type": "code",
   "execution_count": 28,
   "id": "520e6ddf",
   "metadata": {},
   "outputs": [
    {
     "data": {
      "text/plain": [
       "100"
      ]
     },
     "execution_count": 28,
     "metadata": {},
     "output_type": "execute_result"
    }
   ],
   "source": [
    "data.Customer.nunique()"
   ]
  },
  {
   "cell_type": "markdown",
   "id": "b55cc440",
   "metadata": {},
   "source": [
    "###  b. How many distinct categories exist?"
   ]
  },
  {
   "cell_type": "code",
   "execution_count": 29,
   "id": "69a4f89f",
   "metadata": {},
   "outputs": [
    {
     "data": {
      "text/plain": [
       "3"
      ]
     },
     "execution_count": 29,
     "metadata": {},
     "output_type": "execute_result"
    }
   ],
   "source": [
    "data.Product.nunique()"
   ]
  },
  {
   "cell_type": "markdown",
   "id": "f8209c8d",
   "metadata": {},
   "source": [
    "###  c. What is the average monthly spend by customers?"
   ]
  },
  {
   "cell_type": "code",
   "execution_count": 36,
   "id": "1f9400ef",
   "metadata": {},
   "outputs": [],
   "source": [
    "data['month_name_x']=data['Month_x'].dt.month"
   ]
  },
  {
   "cell_type": "code",
   "execution_count": 39,
   "id": "b08a9654",
   "metadata": {},
   "outputs": [],
   "source": [
    "monthly_spend=data.groupby(['Customer','month_name_x'])['Amount_x'].sum().reset_index()\n",
    "avg_monthly_spend=monthly_spend.groupby('Customer')['Amount_x'].mean()"
   ]
  },
  {
   "cell_type": "code",
   "execution_count": 40,
   "id": "89c810a1",
   "metadata": {},
   "outputs": [
    {
     "data": {
      "text/plain": [
       "Customer\n",
       "A1      1.396354e+07\n",
       "A10     7.976486e+06\n",
       "A100    4.625130e+04\n",
       "A11     1.174216e+07\n",
       "A12     1.911220e+07\n",
       "            ...     \n",
       "A95     2.819752e+05\n",
       "A96     9.436918e+04\n",
       "A97     5.000000e+03\n",
       "A98     5.000500e+03\n",
       "A99     5.001000e+03\n",
       "Name: Amount_x, Length: 100, dtype: float64"
      ]
     },
     "execution_count": 40,
     "metadata": {},
     "output_type": "execute_result"
    }
   ],
   "source": [
    "avg_monthly_spend"
   ]
  },
  {
   "cell_type": "markdown",
   "id": "71643e9e",
   "metadata": {},
   "source": [
    "###  d. What is the average monthly repayment by customers?\n"
   ]
  },
  {
   "cell_type": "code",
   "execution_count": 42,
   "id": "7faaaa22",
   "metadata": {},
   "outputs": [],
   "source": [
    "data['month_name_y']=data['Month_y'].dt.month"
   ]
  },
  {
   "cell_type": "code",
   "execution_count": 43,
   "id": "032d81be",
   "metadata": {},
   "outputs": [],
   "source": [
    "monthly_repay=data.groupby(['Customer','month_name_y'])['Amount_y'].sum().reset_index()\n",
    "avg_monthly_repay=monthly_repay.groupby('Customer')['Amount_y'].mean()"
   ]
  },
  {
   "cell_type": "code",
   "execution_count": 44,
   "id": "6bc3aef4",
   "metadata": {},
   "outputs": [
    {
     "data": {
      "text/plain": [
       "Customer\n",
       "A1      1.461171e+07\n",
       "A10     1.633539e+07\n",
       "A100    1.000000e+05\n",
       "A11     1.095117e+07\n",
       "A12     2.283113e+07\n",
       "            ...     \n",
       "A95     3.813704e+05\n",
       "A96     1.000000e+05\n",
       "A97     1.000000e+04\n",
       "A98     1.000100e+04\n",
       "A99     1.000200e+04\n",
       "Name: Amount_y, Length: 100, dtype: float64"
      ]
     },
     "execution_count": 44,
     "metadata": {},
     "output_type": "execute_result"
    }
   ],
   "source": [
    "avg_monthly_repay"
   ]
  },
  {
   "cell_type": "markdown",
   "id": "f4a7165b",
   "metadata": {},
   "source": [
    "###  e. If the monthly rate of interest is 2.9%, what is the profit for the bank for each month? \n",
    "(Profit is defined as interest earned on Monthly Profit. Monthly Profit = Monthly repayment \n",
    "– Monthly spend. Interest is earned only on positive profits and not on negative amounts)\n"
   ]
  },
  {
   "cell_type": "code",
   "execution_count": 46,
   "id": "0b849a4a",
   "metadata": {},
   "outputs": [],
   "source": [
    "data['monthly_profit']=data['Amount_y']-data['Amount_x']"
   ]
  },
  {
   "cell_type": "code",
   "execution_count": 47,
   "id": "bf052bd7",
   "metadata": {},
   "outputs": [],
   "source": [
    "data['interest']=np.where(data['monthly_profit'] > 0,0.029 * data['monthly_profit'],data['monthly_profit'])"
   ]
  },
  {
   "cell_type": "code",
   "execution_count": null,
   "id": "7f6e4571",
   "metadata": {},
   "outputs": [],
   "source": [
    "monthly_profit = data.groupby('month_name_x')['interest'].sum()\n",
    "monthly_profit"
   ]
  },
  {
   "cell_type": "markdown",
   "id": "afc6122c",
   "metadata": {},
   "source": [
    "### f. What are the top 5 product types?"
   ]
  },
  {
   "cell_type": "code",
   "execution_count": 57,
   "id": "f70d0950",
   "metadata": {},
   "outputs": [
    {
     "data": {
      "text/plain": [
       "Type\n",
       "PETRO           4829\n",
       "CAMERA          4237\n",
       "FOOD            4056\n",
       "AIR TICKET      3537\n",
       "TRAIN TICKET    3387\n",
       "Name: Product, dtype: int64"
      ]
     },
     "execution_count": 57,
     "metadata": {},
     "output_type": "execute_result"
    }
   ],
   "source": [
    "data.groupby('Type')['Product'].count().sort_values(ascending=False).head(5)"
   ]
  },
  {
   "cell_type": "markdown",
   "id": "6a99ac60",
   "metadata": {},
   "source": [
    "### g. Which city is having maximum spend?\n"
   ]
  },
  {
   "cell_type": "code",
   "execution_count": 59,
   "id": "55b07802",
   "metadata": {},
   "outputs": [
    {
     "data": {
      "text/plain": [
       "City\n",
       "COCHIN    1.253554e+09\n",
       "Name: Amount_x, dtype: float64"
      ]
     },
     "execution_count": 59,
     "metadata": {},
     "output_type": "execute_result"
    }
   ],
   "source": [
    "data.groupby('City')['Amount_x'].sum().sort_values(ascending=False).head(1)"
   ]
  },
  {
   "cell_type": "markdown",
   "id": "daf327f8",
   "metadata": {},
   "source": [
    "###  h. Which age group is spending more money?\n"
   ]
  },
  {
   "cell_type": "code",
   "execution_count": 60,
   "id": "f5abf65d",
   "metadata": {},
   "outputs": [
    {
     "data": {
      "text/plain": [
       "Age\n",
       "82.801780        1.490432e+03\n",
       "430.187089       1.333580e+04\n",
       "445.527229       8.465017e+03\n",
       "1011.175312      3.134643e+04\n",
       "1103.636275      4.193818e+04\n",
       "                     ...     \n",
       "498998.715662    1.546896e+07\n",
       "499462.120788    1.548333e+07\n",
       "499889.614388    1.549658e+07\n",
       "499917.418986    1.549744e+07\n",
       "499980.650083    8.999652e+06\n",
       "Name: Amount_x, Length: 916, dtype: float64"
      ]
     },
     "execution_count": 60,
     "metadata": {},
     "output_type": "execute_result"
    }
   ],
   "source": [
    "data.groupby('Age')['Amount_x'].sum()"
   ]
  },
  {
   "cell_type": "markdown",
   "id": "61c5f97f",
   "metadata": {},
   "source": [
    "### i. Who are the top 10 customers in terms of repayment?"
   ]
  },
  {
   "cell_type": "code",
   "execution_count": 64,
   "id": "670fd41d",
   "metadata": {},
   "outputs": [
    {
     "data": {
      "text/plain": [
       "Customer\n",
       "A61    3.675662e+08\n",
       "A60    3.483897e+08\n",
       "A42    2.767827e+08\n",
       "A13    2.633883e+08\n",
       "A38    2.543654e+08\n",
       "A43    2.472570e+08\n",
       "A40    2.378257e+08\n",
       "A14    2.373129e+08\n",
       "A44    2.367619e+08\n",
       "A12    2.283113e+08\n",
       "Name: Amount_y, dtype: float64"
      ]
     },
     "execution_count": 64,
     "metadata": {},
     "output_type": "execute_result"
    }
   ],
   "source": [
    "data.groupby('Customer')['Amount_y'].sum().sort_values(ascending=False).head(10)\n"
   ]
  },
  {
   "cell_type": "markdown",
   "id": "5ee8f17a",
   "metadata": {},
   "source": [
    "### 3. Calculate the city wise spend on each product on yearly basis. Also include a graphical representation for the same."
   ]
  },
  {
   "cell_type": "code",
   "execution_count": 67,
   "id": "285fe0cd",
   "metadata": {},
   "outputs": [],
   "source": [
    "data['year_x']=data['Month_x'].dt.year"
   ]
  },
  {
   "cell_type": "code",
   "execution_count": 76,
   "id": "8ba9a763",
   "metadata": {},
   "outputs": [],
   "source": [
    "city_wise_spend=data.groupby(['City','Product','year_x'])['Amount_x'].sum().reset_index()"
   ]
  },
  {
   "cell_type": "code",
   "execution_count": 92,
   "id": "8265172d",
   "metadata": {},
   "outputs": [
    {
     "data": {
      "text/plain": [
       "<Axes: xlabel='year_x', ylabel='Amount_x'>"
      ]
     },
     "execution_count": 92,
     "metadata": {},
     "output_type": "execute_result"
    },
    {
     "data": {
      "image/png": "[encoded data removed]",
      "text/plain": [
       "<Figure size 640x480 with 1 Axes>"
      ]
     },
     "metadata": {},
     "output_type": "display_data"
    }
   ],
   "source": [
    "sns.lineplot(data=city_wise_spend, x='year_x', y='Amount_x', hue='City')  "
   ]
  },
  {
   "cell_type": "markdown",
   "id": "ae770968",
   "metadata": {},
   "source": [
    "### 4. Create graphs for\n",
    " a. Monthly comparison of total spends, city wise\n"
   ]
  },
  {
   "cell_type": "code",
   "execution_count": 89,
   "id": "c720ee57",
   "metadata": {},
   "outputs": [],
   "source": [
    "agg_data=data.groupby(['City','month_name_x'])['Amount_x'].sum().reset_index()"
   ]
  },
  {
   "cell_type": "code",
   "execution_count": 105,
   "id": "644cbbde",
   "metadata": {},
   "outputs": [
    {
     "data": {
      "text/plain": [
       "<Axes: xlabel='month_name_x', ylabel='Amount_x'>"
      ]
     },
     "execution_count": 105,
     "metadata": {},
     "output_type": "execute_result"
    },
    {
     "data": {
      "image/png": "[encoded data removed]",
      "text/plain": [
       "<Figure size 640x480 with 1 Axes>"
      ]
     },
     "metadata": {},
     "output_type": "display_data"
    }
   ],
   "source": [
    "sns.lineplot(data=agg_data, x='month_name_x', y='Amount_x', hue='City')"
   ]
  },
  {
   "cell_type": "markdown",
   "id": "312db922",
   "metadata": {},
   "source": [
    "###  b. Comparison of yearly spend on air tickets"
   ]
  },
  {
   "cell_type": "code",
   "execution_count": 98,
   "id": "66e67000",
   "metadata": {},
   "outputs": [],
   "source": [
    "air_tick=data[data['Type']=='AIR TICKET']\n",
    "agg_data1=air_tick.groupby('year_x')['Amount_x'].sum().reset_index()"
   ]
  },
  {
   "cell_type": "code",
   "execution_count": 100,
   "id": "363415f4",
   "metadata": {},
   "outputs": [
    {
     "data": {
      "text/plain": [
       "<Axes: xlabel='year_x', ylabel='Amount_x'>"
      ]
     },
     "execution_count": 100,
     "metadata": {},
     "output_type": "execute_result"
    },
    {
     "data": {
      "image/png": "[encoded data removed]",
      "text/plain": [
       "<Figure size 640x480 with 1 Axes>"
      ]
     },
     "metadata": {},
     "output_type": "display_data"
    }
   ],
   "source": [
    "sns.scatterplot(x=\"year_x\",y=\"Amount_x\",data=agg_data1)"
   ]
  },
  {
   "cell_type": "markdown",
   "id": "454cde33",
   "metadata": {},
   "source": [
    "###  c. Comparison of monthly spend for each product (look for any seasonality that exists in terms of spend)"
   ]
  },
  {
   "cell_type": "code",
   "execution_count": 101,
   "id": "f13db600",
   "metadata": {},
   "outputs": [],
   "source": [
    "agg_data2=data.groupby(['month_name_x','Product'])['Amount_x'].sum().reset_index()"
   ]
  },
  {
   "cell_type": "code",
   "execution_count": 103,
   "id": "bad458fa",
   "metadata": {},
   "outputs": [
    {
     "data": {
      "text/plain": [
       "<Axes: xlabel='month_name_x', ylabel='Amount_x'>"
      ]
     },
     "execution_count": 103,
     "metadata": {},
     "output_type": "execute_result"
    },
    {
     "data": {
      "image/png": "[encoded data removed]",
      "text/plain": [
       "<Figure size 640x480 with 1 Axes>"
      ]
     },
     "metadata": {},
     "output_type": "display_data"
    }
   ],
   "source": [
    "sns.barplot(data=agg_data2, x='month_name_x', y='Amount_x', hue='Product')"
   ]
  },
  {
   "cell_type": "markdown",
   "id": "991431ad",
   "metadata": {},
   "source": [
    "### 5. Write user defined PYTHON function to perform the following analysis:\n",
    "You need to find top 10 customers for each city in terms of their repayment amount by \n",
    "different products and by different time periods i.e. year or month. The user should be able \n",
    "to specify the product (Gold/Silver/Platinum) and time period (yearly or monthly) and the \n",
    "function should automatically take these inputs while identifying the top 10 customers."
   ]
  },
  {
   "cell_type": "code",
   "execution_count": 107,
   "id": "b4005aaa",
   "metadata": {},
   "outputs": [],
   "source": [
    "def info(product,time):\n",
    "    req_data=data[(data['Product']==product) & (data['month_name_y']==time)]\n",
    "    agg_data=req_data.groupby(['Customer','City'])['Amount_y'].sum().sort_values(ascending=False).head(10)\n",
    "    return agg_data"
   ]
  },
  {
   "cell_type": "code",
   "execution_count": 110,
   "id": "39bc567a",
   "metadata": {},
   "outputs": [
    {
     "name": "stdout",
     "output_type": "stream",
     "text": [
      "enter productGold\n",
      "enter time1\n"
     ]
    },
    {
     "data": {
      "text/plain": [
       "Customer  City      \n",
       "A60       CALCUTTA      1.028460e+08\n",
       "A42       BOMBAY        9.297462e+07\n",
       "A61       COCHIN        8.132795e+07\n",
       "A43       BANGALORE     6.536348e+07\n",
       "A45       COCHIN        6.406517e+07\n",
       "A13       BANGALORE     5.451311e+07\n",
       "A27       CHENNAI       5.251206e+07\n",
       "A44       DELHI         5.135237e+07\n",
       "A12       BOMBAY        4.984704e+07\n",
       "A28       TRIVANDRUM    3.834248e+07\n",
       "Name: Amount_y, dtype: float64"
      ]
     },
     "execution_count": 110,
     "metadata": {},
     "output_type": "execute_result"
    }
   ],
   "source": [
    "product=input('enter product')\n",
    "time=int(input('enter time'))\n",
    "info(product,time)"
   ]
  },
  {
   "cell_type": "code",
   "execution_count": null,
   "id": "891d1784",
   "metadata": {},
   "outputs": [],
   "source": []
  }
 ],
 "metadata": {
  "kernelspec": {
   "display_name": "Python 3 (ipykernel)",
   "language": "python",
   "name": "python3"
  },
  "language_info": {
   "codemirror_mode": {
    "name": "ipython",
    "version": 3
   },
   "file_extension": ".py",
   "mimetype": "text/x-python",
   "name": "python",
   "nbconvert_exporter": "python",
   "pygments_lexer": "ipython3",
   "version": "3.11.5"
  }
 },
 "nbformat": 4,
 "nbformat_minor": 5
}
