{
 "cells": [
  {
   "cell_type": "code",
   "execution_count": 1,
   "id": "9844c491",
   "metadata": {},
   "outputs": [],
   "source": [
    "# import packages\n",
    "import pandas as pd\n",
    "import numpy as np\n",
    "import matplotlib.pyplot as plt\n",
    "import datetime as dt\n",
    "from datetime import datetime\n",
    "import seaborn as sns"
   ]
  },
  {
   "cell_type": "code",
   "execution_count": 2,
   "id": "934007a3",
   "metadata": {},
   "outputs": [],
   "source": [
    "# import datasets\n",
    "cust=pd.read_csv('CUSTOMERS.csv')\n",
    "seller=pd.read_csv('SELLERS.csv')\n",
    "prod=pd.read_csv('PRODUCTS.csv')\n",
    "order=pd.read_csv('ORDERS.csv')\n",
    "order_review=pd.read_csv('ORDER_REVIEW_RATINGS.csv')\n",
    "item=pd.read_csv('ORDER_ITEMS.csv')\n",
    "payment=pd.read_csv('ORDER_PAYMENTS.csv')\n",
    "loc=pd.read_csv('GEO_LOCATION.csv')"
   ]
  },
  {
   "cell_type": "markdown",
   "id": "fc8b5cbe",
   "metadata": {},
   "source": [
    "#1. Perform Detailed exploratory analysis\n",
    "#a. Define & calculate high level metrics like (Total Revenue, Total quantity, Total \n",
    "#products, Total categories, Total sellers, Total locations, Total channels, Total \n",
    "#payment methods etc…) "
   ]
  },
  {
   "cell_type": "code",
   "execution_count": 3,
   "id": "1d00a212",
   "metadata": {},
   "outputs": [
    {
     "data": {
      "text/plain": [
       "16008872.12"
      ]
     },
     "execution_count": 3,
     "metadata": {},
     "output_type": "execute_result"
    }
   ],
   "source": [
    "# total revenue\n",
    "tot_rev=payment['payment_value'].sum()\n",
    "tot_rev"
   ]
  },
  {
   "cell_type": "code",
   "execution_count": 4,
   "id": "50329cff",
   "metadata": {},
   "outputs": [
    {
     "data": {
      "text/plain": [
       "112650"
      ]
     },
     "execution_count": 4,
     "metadata": {},
     "output_type": "execute_result"
    }
   ],
   "source": [
    "# total quantity\n",
    "tot_quan=item['order_item_id'].count()\n",
    "tot_quan"
   ]
  },
  {
   "cell_type": "code",
   "execution_count": 5,
   "id": "f42550b6",
   "metadata": {},
   "outputs": [
    {
     "data": {
      "text/plain": [
       "32951"
      ]
     },
     "execution_count": 5,
     "metadata": {},
     "output_type": "execute_result"
    }
   ],
   "source": [
    "# total products\n",
    "tot_pro=prod['product_id'].count()\n",
    "tot_pro"
   ]
  },
  {
   "cell_type": "code",
   "execution_count": 6,
   "id": "302814bd",
   "metadata": {},
   "outputs": [
    {
     "data": {
      "text/plain": [
       "71"
      ]
     },
     "execution_count": 6,
     "metadata": {},
     "output_type": "execute_result"
    }
   ],
   "source": [
    "# total categories\n",
    "tot_cat=prod['product_category_name'].nunique()\n",
    "tot_cat"
   ]
  },
  {
   "cell_type": "code",
   "execution_count": 7,
   "id": "655080cd",
   "metadata": {},
   "outputs": [
    {
     "data": {
      "text/plain": [
       "3095"
      ]
     },
     "execution_count": 7,
     "metadata": {},
     "output_type": "execute_result"
    }
   ],
   "source": [
    "# total sellers\n",
    "tot_sellers=seller['seller_id'].count()\n",
    "tot_sellers"
   ]
  },
  {
   "cell_type": "code",
   "execution_count": 8,
   "id": "5d1b1438",
   "metadata": {},
   "outputs": [
    {
     "data": {
      "text/plain": [
       "20"
      ]
     },
     "execution_count": 8,
     "metadata": {},
     "output_type": "execute_result"
    }
   ],
   "source": [
    "# total locations\n",
    "tot_loc=loc['geolocation_state'].nunique()\n",
    "tot_loc"
   ]
  },
  {
   "cell_type": "code",
   "execution_count": 10,
   "id": "73487bb1",
   "metadata": {},
   "outputs": [
    {
     "data": {
      "text/plain": [
       "5"
      ]
     },
     "execution_count": 10,
     "metadata": {},
     "output_type": "execute_result"
    }
   ],
   "source": [
    "# total payment methods\n",
    "tot_pay_methods=payment['payment_type'].nunique()\n",
    "tot_pay_methods"
   ]
  },
  {
   "cell_type": "markdown",
   "id": "77856e20",
   "metadata": {},
   "source": [
    "#b. Understanding how many new customers acquired every month"
   ]
  },
  {
   "cell_type": "code",
   "execution_count": 11,
   "id": "15eababb",
   "metadata": {},
   "outputs": [
    {
     "name": "stdout",
     "output_type": "stream",
     "text": [
      "<class 'pandas.core.frame.DataFrame'>\n",
      "RangeIndex: 99441 entries, 0 to 99440\n",
      "Data columns (total 8 columns):\n",
      " #   Column                         Non-Null Count  Dtype \n",
      "---  ------                         --------------  ----- \n",
      " 0   order_id                       99441 non-null  object\n",
      " 1   customer_id                    99441 non-null  object\n",
      " 2   order_status                   99441 non-null  object\n",
      " 3   order_purchase_timestamp       99441 non-null  object\n",
      " 4   order_approved_at              99281 non-null  object\n",
      " 5   order_delivered_carrier_date   97658 non-null  object\n",
      " 6   order_delivered_customer_date  96476 non-null  object\n",
      " 7   order_estimated_delivery_date  99441 non-null  object\n",
      "dtypes: object(8)\n",
      "memory usage: 6.1+ MB\n"
     ]
    }
   ],
   "source": [
    "order.info()"
   ]
  },
  {
   "cell_type": "code",
   "execution_count": 12,
   "id": "8aba2dc7",
   "metadata": {},
   "outputs": [],
   "source": [
    "#  order_purchase_timestamp changing dtype from object to datetime\n",
    "order['order_purchase_timestamp']=pd.to_datetime(order['order_purchase_timestamp'])"
   ]
  },
  {
   "cell_type": "code",
   "execution_count": 13,
   "id": "7a47f7f7",
   "metadata": {},
   "outputs": [
    {
     "name": "stdout",
     "output_type": "stream",
     "text": [
      "<class 'pandas.core.frame.DataFrame'>\n",
      "RangeIndex: 99441 entries, 0 to 99440\n",
      "Data columns (total 8 columns):\n",
      " #   Column                         Non-Null Count  Dtype         \n",
      "---  ------                         --------------  -----         \n",
      " 0   order_id                       99441 non-null  object        \n",
      " 1   customer_id                    99441 non-null  object        \n",
      " 2   order_status                   99441 non-null  object        \n",
      " 3   order_purchase_timestamp       99441 non-null  datetime64[ns]\n",
      " 4   order_approved_at              99281 non-null  object        \n",
      " 5   order_delivered_carrier_date   97658 non-null  object        \n",
      " 6   order_delivered_customer_date  96476 non-null  object        \n",
      " 7   order_estimated_delivery_date  99441 non-null  object        \n",
      "dtypes: datetime64[ns](1), object(7)\n",
      "memory usage: 6.1+ MB\n"
     ]
    }
   ],
   "source": [
    "order.info()"
   ]
  },
  {
   "cell_type": "code",
   "execution_count": 14,
   "id": "7e8d5a84",
   "metadata": {},
   "outputs": [],
   "source": [
    "# first purchase date of each customer\n",
    "first_purchase_date=order.groupby('customer_id')['order_purchase_timestamp'].min().reset_index()"
   ]
  },
  {
   "cell_type": "code",
   "execution_count": 15,
   "id": "bf208148",
   "metadata": {},
   "outputs": [],
   "source": [
    "# extracting month from  order_purchase_timestamp\n",
    "first_purchase_date['month']=first_purchase_date['order_purchase_timestamp'].dt.month"
   ]
  },
  {
   "cell_type": "code",
   "execution_count": 16,
   "id": "71023237",
   "metadata": {},
   "outputs": [
    {
     "data": {
      "text/plain": [
       "month\n",
       "1      8069\n",
       "2      8508\n",
       "3      9893\n",
       "4      9343\n",
       "5     10573\n",
       "6      9412\n",
       "7     10318\n",
       "8     10843\n",
       "9      4305\n",
       "10     4959\n",
       "11     7544\n",
       "12     5674\n",
       "dtype: int64"
      ]
     },
     "execution_count": 16,
     "metadata": {},
     "output_type": "execute_result"
    }
   ],
   "source": [
    "# new customer per month\n",
    "new_cust=first_purchase_date.groupby('month').size()\n",
    "new_cust"
   ]
  },
  {
   "cell_type": "markdown",
   "id": "62a78afc",
   "metadata": {},
   "source": [
    "#c. Understand the retention of customers on month on month basis"
   ]
  },
  {
   "cell_type": "code",
   "execution_count": 38,
   "id": "6738e712",
   "metadata": {},
   "outputs": [
    {
     "name": "stderr",
     "output_type": "stream",
     "text": [
      "C:\\Users\\Admin\\AppData\\Local\\Temp\\ipykernel_6740\\2024185684.py:7: RuntimeWarning: invalid value encountered in scalar divide\n",
      "  retention_rates = customer_retention.apply(lambda x: (x > 0).sum() / (x.shift(1) > 0).sum(), axis=0)\n"
     ]
    },
    {
     "data": {
      "text/plain": [
       "[<matplotlib.lines.Line2D at 0x1e8bb865ad0>]"
      ]
     },
     "execution_count": 38,
     "metadata": {},
     "output_type": "execute_result"
    },
    {
     "data": {
      "image/png": "[encoded data removed]",
      "text/plain": [
       "<Figure size 640x480 with 1 Axes>"
      ]
     },
     "metadata": {},
     "output_type": "display_data"
    }
   ],
   "source": [
    "order['month'] = order['order_purchase_timestamp'].dt.to_period('M')\n",
    "customer_months = order.groupby(['customer_id', 'month']).size().reset_index(name='purchases')\n",
    "pivot_table = customer_months.pivot(index='customer_id', columns='month', values='purchases').fillna(0)\n",
    "retention = pivot_table.apply(lambda x: x.shift(-1).fillna(0), axis=1)\n",
    "retention.columns = ['retained_' + str(col) for col in retention.columns]\n",
    "customer_retention = pd.concat([pivot_table, retention], axis=1)\n",
    "retention_rates = customer_retention.apply(lambda x: (x > 0).sum() / (x.shift(1) > 0).sum(), axis=0)\n",
    "months = [str(month) for month in retention_rates.index]\n",
    "plt.plot(months, retention_rates.values, marker='o', linestyle='--', color='b')"
   ]
  },
  {
   "cell_type": "markdown",
   "id": "76693055",
   "metadata": {},
   "source": [
    "#d. How the revenues from existing/new customers on month on month basis"
   ]
  },
  {
   "cell_type": "code",
   "execution_count": 18,
   "id": "cb9646dd",
   "metadata": {},
   "outputs": [],
   "source": [
    "# merging order table and order_payment table\n",
    "tab1=pd.merge(order,payment,on='order_id',how='inner')"
   ]
  },
  {
   "cell_type": "code",
   "execution_count": 19,
   "id": "9e421c6b",
   "metadata": {},
   "outputs": [],
   "source": [
    "# first purchase month of each customer\n",
    "tab1['first_purchase_month']=tab1.groupby('customer_id')['order_purchase_timestamp'].transform('min').dt.to_period('M')"
   ]
  },
  {
   "cell_type": "code",
   "execution_count": 20,
   "id": "32c41628",
   "metadata": {},
   "outputs": [],
   "source": [
    "# extracting month from  order_purchase_timestamp\n",
    "tab1['month']=tab1['order_purchase_timestamp'].dt.month"
   ]
  },
  {
   "cell_type": "code",
   "execution_count": 21,
   "id": "df333869",
   "metadata": {},
   "outputs": [],
   "source": [
    "# creating new column to determine new and existing customers\n",
    "tab1['cust_type']=tab1.apply(lambda x: 'new' if x['month'] == x['first_purchase_month'] else 'existing', axis=1)\n"
   ]
  },
  {
   "cell_type": "code",
   "execution_count": 22,
   "id": "59ec6ab7",
   "metadata": {},
   "outputs": [
    {
     "data": {
      "text/plain": [
       "month  cust_type\n",
       "1      existing     1253492.22\n",
       "2      existing     1284371.35\n",
       "3      existing     1609515.72\n",
       "4      existing     1578573.51\n",
       "5      existing     1746900.97\n",
       "6      existing     1535156.88\n",
       "7      existing     1658923.67\n",
       "8      existing     1696821.64\n",
       "9      existing      732454.23\n",
       "10     existing      839358.03\n",
       "11     existing     1194882.80\n",
       "12     existing      878421.10\n",
       "Name: payment_value, dtype: float64"
      ]
     },
     "execution_count": 22,
     "metadata": {},
     "output_type": "execute_result"
    }
   ],
   "source": [
    "# month wise revenue\n",
    "tab1.groupby(['month','cust_type'])['payment_value'].sum()"
   ]
  },
  {
   "cell_type": "code",
   "execution_count": 23,
   "id": "3250a414",
   "metadata": {},
   "outputs": [],
   "source": []
  },
  {
   "cell_type": "markdown",
   "id": "b390489a",
   "metadata": {},
   "source": [
    "#e. Understand the trends/seasonality of sales, quantity by category, location, month, \n",
    "week, day, time, channel, payment method etc…"
   ]
  },
  {
   "cell_type": "code",
   "execution_count": 45,
   "id": "864974fe",
   "metadata": {},
   "outputs": [
    {
     "data": {
      "text/plain": [
       "<Axes: ylabel='Count'>"
      ]
     },
     "execution_count": 45,
     "metadata": {},
     "output_type": "execute_result"
    },
    {
     "data": {
      "image/png": "[encoded data removed]",
      "text/plain": [
       "<Figure size 640x480 with 1 Axes>"
      ]
     },
     "metadata": {},
     "output_type": "display_data"
    }
   ],
   "source": [
    "# quantity by category\n",
    "quan_by_cat=prod.groupby('product_category_name')['product_id'].count().reset_index()\n",
    "sns.histplot(data=quan_by_cat)"
   ]
  },
  {
   "cell_type": "code",
   "execution_count": 49,
   "id": "d36f85c7",
   "metadata": {},
   "outputs": [
    {
     "data": {
      "text/html": [
       "<div>\n",
       "<style scoped>\n",
       "    .dataframe tbody tr th:only-of-type {\n",
       "        vertical-align: middle;\n",
       "    }\n",
       "\n",
       "    .dataframe tbody tr th {\n",
       "        vertical-align: top;\n",
       "    }\n",
       "\n",
       "    .dataframe thead th {\n",
       "        text-align: right;\n",
       "    }\n",
       "</style>\n",
       "<table border=\"1\" class=\"dataframe\">\n",
       "  <thead>\n",
       "    <tr style=\"text-align: right;\">\n",
       "      <th></th>\n",
       "      <th>month</th>\n",
       "      <th>count</th>\n",
       "    </tr>\n",
       "  </thead>\n",
       "  <tbody>\n",
       "    <tr>\n",
       "      <th>0</th>\n",
       "      <td>2016-09</td>\n",
       "      <td>4</td>\n",
       "    </tr>\n",
       "    <tr>\n",
       "      <th>1</th>\n",
       "      <td>2016-10</td>\n",
       "      <td>324</td>\n",
       "    </tr>\n",
       "    <tr>\n",
       "      <th>2</th>\n",
       "      <td>2016-12</td>\n",
       "      <td>1</td>\n",
       "    </tr>\n",
       "    <tr>\n",
       "      <th>3</th>\n",
       "      <td>2017-01</td>\n",
       "      <td>800</td>\n",
       "    </tr>\n",
       "    <tr>\n",
       "      <th>4</th>\n",
       "      <td>2017-02</td>\n",
       "      <td>1780</td>\n",
       "    </tr>\n",
       "    <tr>\n",
       "      <th>5</th>\n",
       "      <td>2017-03</td>\n",
       "      <td>2682</td>\n",
       "    </tr>\n",
       "    <tr>\n",
       "      <th>6</th>\n",
       "      <td>2017-04</td>\n",
       "      <td>2404</td>\n",
       "    </tr>\n",
       "    <tr>\n",
       "      <th>7</th>\n",
       "      <td>2017-05</td>\n",
       "      <td>3700</td>\n",
       "    </tr>\n",
       "    <tr>\n",
       "      <th>8</th>\n",
       "      <td>2017-06</td>\n",
       "      <td>3245</td>\n",
       "    </tr>\n",
       "    <tr>\n",
       "      <th>9</th>\n",
       "      <td>2017-07</td>\n",
       "      <td>4026</td>\n",
       "    </tr>\n",
       "    <tr>\n",
       "      <th>10</th>\n",
       "      <td>2017-08</td>\n",
       "      <td>4331</td>\n",
       "    </tr>\n",
       "    <tr>\n",
       "      <th>11</th>\n",
       "      <td>2017-09</td>\n",
       "      <td>4285</td>\n",
       "    </tr>\n",
       "    <tr>\n",
       "      <th>12</th>\n",
       "      <td>2017-10</td>\n",
       "      <td>4631</td>\n",
       "    </tr>\n",
       "    <tr>\n",
       "      <th>13</th>\n",
       "      <td>2017-11</td>\n",
       "      <td>7544</td>\n",
       "    </tr>\n",
       "    <tr>\n",
       "      <th>14</th>\n",
       "      <td>2017-12</td>\n",
       "      <td>5673</td>\n",
       "    </tr>\n",
       "    <tr>\n",
       "      <th>15</th>\n",
       "      <td>2018-01</td>\n",
       "      <td>7269</td>\n",
       "    </tr>\n",
       "    <tr>\n",
       "      <th>16</th>\n",
       "      <td>2018-02</td>\n",
       "      <td>6728</td>\n",
       "    </tr>\n",
       "    <tr>\n",
       "      <th>17</th>\n",
       "      <td>2018-03</td>\n",
       "      <td>7211</td>\n",
       "    </tr>\n",
       "    <tr>\n",
       "      <th>18</th>\n",
       "      <td>2018-04</td>\n",
       "      <td>6939</td>\n",
       "    </tr>\n",
       "    <tr>\n",
       "      <th>19</th>\n",
       "      <td>2018-05</td>\n",
       "      <td>6873</td>\n",
       "    </tr>\n",
       "    <tr>\n",
       "      <th>20</th>\n",
       "      <td>2018-06</td>\n",
       "      <td>6167</td>\n",
       "    </tr>\n",
       "    <tr>\n",
       "      <th>21</th>\n",
       "      <td>2018-07</td>\n",
       "      <td>6292</td>\n",
       "    </tr>\n",
       "    <tr>\n",
       "      <th>22</th>\n",
       "      <td>2018-08</td>\n",
       "      <td>6512</td>\n",
       "    </tr>\n",
       "    <tr>\n",
       "      <th>23</th>\n",
       "      <td>2018-09</td>\n",
       "      <td>16</td>\n",
       "    </tr>\n",
       "    <tr>\n",
       "      <th>24</th>\n",
       "      <td>2018-10</td>\n",
       "      <td>4</td>\n",
       "    </tr>\n",
       "  </tbody>\n",
       "</table>\n",
       "</div>"
      ],
      "text/plain": [
       "      month  count\n",
       "0   2016-09      4\n",
       "1   2016-10    324\n",
       "2   2016-12      1\n",
       "3   2017-01    800\n",
       "4   2017-02   1780\n",
       "5   2017-03   2682\n",
       "6   2017-04   2404\n",
       "7   2017-05   3700\n",
       "8   2017-06   3245\n",
       "9   2017-07   4026\n",
       "10  2017-08   4331\n",
       "11  2017-09   4285\n",
       "12  2017-10   4631\n",
       "13  2017-11   7544\n",
       "14  2017-12   5673\n",
       "15  2018-01   7269\n",
       "16  2018-02   6728\n",
       "17  2018-03   7211\n",
       "18  2018-04   6939\n",
       "19  2018-05   6873\n",
       "20  2018-06   6167\n",
       "21  2018-07   6292\n",
       "22  2018-08   6512\n",
       "23  2018-09     16\n",
       "24  2018-10      4"
      ]
     },
     "execution_count": 49,
     "metadata": {},
     "output_type": "execute_result"
    }
   ],
   "source": [
    "# quantity by month\n",
    "quan_by_month=order.groupby('month')['customer_id'].count().reset_index()\n",
    "quan_by_month.columns = ['month', 'count']\n",
    "#plt.plot(quan_by_month['month'], quan_by_month['count'], label='Quantity by Month', marker='o')\n",
    "quan_by_month"
   ]
  },
  {
   "cell_type": "code",
   "execution_count": 54,
   "id": "e25e035e",
   "metadata": {},
   "outputs": [
    {
     "data": {
      "text/plain": [
       "<Axes: xlabel='payment_type', ylabel='count'>"
      ]
     },
     "execution_count": 54,
     "metadata": {},
     "output_type": "execute_result"
    },
    {
     "data": {
      "image/png": "[encoded data removed]",
      "text/plain": [
       "<Figure size 640x480 with 1 Axes>"
      ]
     },
     "metadata": {},
     "output_type": "display_data"
    }
   ],
   "source": [
    "# quantity by payment method\n",
    "quan_by_payment_method=payment.groupby('payment_type')['order_id'].count().reset_index()\n",
    "quan_by_payment_method.columns = ['payment_type', 'count']\n",
    "sns.barplot(data=quan_by_payment_method, x='payment_type', y='count')"
   ]
  },
  {
   "cell_type": "code",
   "execution_count": 70,
   "id": "eb512bda",
   "metadata": {},
   "outputs": [
    {
     "data": {
      "text/html": [
       "<div>\n",
       "<style scoped>\n",
       "    .dataframe tbody tr th:only-of-type {\n",
       "        vertical-align: middle;\n",
       "    }\n",
       "\n",
       "    .dataframe tbody tr th {\n",
       "        vertical-align: top;\n",
       "    }\n",
       "\n",
       "    .dataframe thead th {\n",
       "        text-align: right;\n",
       "    }\n",
       "</style>\n",
       "<table border=\"1\" class=\"dataframe\">\n",
       "  <thead>\n",
       "    <tr style=\"text-align: right;\">\n",
       "      <th></th>\n",
       "      <th>location</th>\n",
       "      <th>count</th>\n",
       "    </tr>\n",
       "  </thead>\n",
       "  <tbody>\n",
       "    <tr>\n",
       "      <th>0</th>\n",
       "      <td>Andhra Pradesh</td>\n",
       "      <td>2060</td>\n",
       "    </tr>\n",
       "    <tr>\n",
       "      <th>1</th>\n",
       "      <td>Arunachal Pradesh</td>\n",
       "      <td>21</td>\n",
       "    </tr>\n",
       "    <tr>\n",
       "      <th>2</th>\n",
       "      <td>Chhattisgarh</td>\n",
       "      <td>205</td>\n",
       "    </tr>\n",
       "    <tr>\n",
       "      <th>3</th>\n",
       "      <td>Delhi</td>\n",
       "      <td>89</td>\n",
       "    </tr>\n",
       "    <tr>\n",
       "      <th>4</th>\n",
       "      <td>Gujarat</td>\n",
       "      <td>220</td>\n",
       "    </tr>\n",
       "    <tr>\n",
       "      <th>5</th>\n",
       "      <td>Haryana</td>\n",
       "      <td>65</td>\n",
       "    </tr>\n",
       "    <tr>\n",
       "      <th>6</th>\n",
       "      <td>Himachal Pradesh</td>\n",
       "      <td>16</td>\n",
       "    </tr>\n",
       "    <tr>\n",
       "      <th>7</th>\n",
       "      <td>Jammu &amp; Kashmir</td>\n",
       "      <td>50</td>\n",
       "    </tr>\n",
       "    <tr>\n",
       "      <th>8</th>\n",
       "      <td>Karnataka</td>\n",
       "      <td>107</td>\n",
       "    </tr>\n",
       "    <tr>\n",
       "      <th>9</th>\n",
       "      <td>Kerala</td>\n",
       "      <td>18</td>\n",
       "    </tr>\n",
       "    <tr>\n",
       "      <th>10</th>\n",
       "      <td>Madhya Pradesh</td>\n",
       "      <td>46</td>\n",
       "    </tr>\n",
       "    <tr>\n",
       "      <th>11</th>\n",
       "      <td>Maharashtra</td>\n",
       "      <td>35</td>\n",
       "    </tr>\n",
       "    <tr>\n",
       "      <th>12</th>\n",
       "      <td>Orissa</td>\n",
       "      <td>9</td>\n",
       "    </tr>\n",
       "    <tr>\n",
       "      <th>13</th>\n",
       "      <td>Punjab</td>\n",
       "      <td>15</td>\n",
       "    </tr>\n",
       "    <tr>\n",
       "      <th>14</th>\n",
       "      <td>Rajasthan</td>\n",
       "      <td>17</td>\n",
       "    </tr>\n",
       "    <tr>\n",
       "      <th>15</th>\n",
       "      <td>Tamil Nadu</td>\n",
       "      <td>43</td>\n",
       "    </tr>\n",
       "    <tr>\n",
       "      <th>16</th>\n",
       "      <td>Uttar Pradesh</td>\n",
       "      <td>13</td>\n",
       "    </tr>\n",
       "    <tr>\n",
       "      <th>17</th>\n",
       "      <td>Uttaranchal</td>\n",
       "      <td>1</td>\n",
       "    </tr>\n",
       "    <tr>\n",
       "      <th>18</th>\n",
       "      <td>West Bengal</td>\n",
       "      <td>8</td>\n",
       "    </tr>\n",
       "  </tbody>\n",
       "</table>\n",
       "</div>"
      ],
      "text/plain": [
       "             location  count\n",
       "0      Andhra Pradesh   2060\n",
       "1   Arunachal Pradesh     21\n",
       "2        Chhattisgarh    205\n",
       "3               Delhi     89\n",
       "4             Gujarat    220\n",
       "5             Haryana     65\n",
       "6    Himachal Pradesh     16\n",
       "7     Jammu & Kashmir     50\n",
       "8           Karnataka    107\n",
       "9              Kerala     18\n",
       "10     Madhya Pradesh     46\n",
       "11        Maharashtra     35\n",
       "12             Orissa      9\n",
       "13             Punjab     15\n",
       "14          Rajasthan     17\n",
       "15         Tamil Nadu     43\n",
       "16      Uttar Pradesh     13\n",
       "17        Uttaranchal      1\n",
       "18        West Bengal      8"
      ]
     },
     "execution_count": 70,
     "metadata": {},
     "output_type": "execute_result"
    }
   ],
   "source": [
    "# quantity by location\n",
    "quan_by_loc=seller.groupby('seller_state')['seller_id'].count().reset_index()\n",
    "quan_by_loc.columns = ['location', 'count']\n",
    "#plt.figure(figsize=(10, 6))\n",
    "#sns.lineplot(data=quan_by_loc, x='location', y='count')\n",
    "quan_by_loc"
   ]
  },
  {
   "cell_type": "markdown",
   "id": "32fae4fa",
   "metadata": {},
   "source": [
    "#f. Popular Products by month, seller, state, category."
   ]
  },
  {
   "cell_type": "code",
   "execution_count": 115,
   "id": "53b0cfe1",
   "metadata": {},
   "outputs": [
    {
     "data": {
      "text/plain": [
       "<Axes: xlabel='seller_id', ylabel='count'>"
      ]
     },
     "execution_count": 115,
     "metadata": {},
     "output_type": "execute_result"
    },
    {
     "data": {
      "image/png": "[encoded data removed]",
      "text/plain": [
       "<Figure size 1000x600 with 1 Axes>"
      ]
     },
     "metadata": {},
     "output_type": "display_data"
    }
   ],
   "source": [
    "# popular products by seller\n",
    "combined = item.merge(prod, on='product_id').merge(seller, on='seller_id') #combining the data sets\n",
    "popular_by_seller = combined.groupby('seller_id')['product_id'].count().sort_values(ascending=False).head().reset_index()\n",
    "popular_by_seller.columns = ['seller_id', 'count']\n",
    "plt.figure(figsize=(10, 6))\n",
    "sns.barplot(data=popular_by_seller, x='seller_id', y='count')"
   ]
  },
  {
   "cell_type": "code",
   "execution_count": 116,
   "id": "1b67b9c1",
   "metadata": {},
   "outputs": [
    {
     "data": {
      "text/html": [
       "<div>\n",
       "<style scoped>\n",
       "    .dataframe tbody tr th:only-of-type {\n",
       "        vertical-align: middle;\n",
       "    }\n",
       "\n",
       "    .dataframe tbody tr th {\n",
       "        vertical-align: top;\n",
       "    }\n",
       "\n",
       "    .dataframe thead th {\n",
       "        text-align: right;\n",
       "    }\n",
       "</style>\n",
       "<table border=\"1\" class=\"dataframe\">\n",
       "  <thead>\n",
       "    <tr style=\"text-align: right;\">\n",
       "      <th></th>\n",
       "      <th>seller_id</th>\n",
       "      <th>count</th>\n",
       "    </tr>\n",
       "  </thead>\n",
       "  <tbody>\n",
       "    <tr>\n",
       "      <th>0</th>\n",
       "      <td>6560211a19b47992c3666cc44a7e94c0</td>\n",
       "      <td>2033</td>\n",
       "    </tr>\n",
       "    <tr>\n",
       "      <th>1</th>\n",
       "      <td>4a3ca9315b744ce9f8e9374361493884</td>\n",
       "      <td>1987</td>\n",
       "    </tr>\n",
       "    <tr>\n",
       "      <th>2</th>\n",
       "      <td>1f50f920176fa81dab994f9023523100</td>\n",
       "      <td>1931</td>\n",
       "    </tr>\n",
       "    <tr>\n",
       "      <th>3</th>\n",
       "      <td>cc419e0650a3c5ba77189a1882b7556a</td>\n",
       "      <td>1775</td>\n",
       "    </tr>\n",
       "    <tr>\n",
       "      <th>4</th>\n",
       "      <td>da8622b14eb17ae2831f4ac5b9dab84a</td>\n",
       "      <td>1551</td>\n",
       "    </tr>\n",
       "  </tbody>\n",
       "</table>\n",
       "</div>"
      ],
      "text/plain": [
       "                          seller_id  count\n",
       "0  6560211a19b47992c3666cc44a7e94c0   2033\n",
       "1  4a3ca9315b744ce9f8e9374361493884   1987\n",
       "2  1f50f920176fa81dab994f9023523100   1931\n",
       "3  cc419e0650a3c5ba77189a1882b7556a   1775\n",
       "4  da8622b14eb17ae2831f4ac5b9dab84a   1551"
      ]
     },
     "execution_count": 116,
     "metadata": {},
     "output_type": "execute_result"
    }
   ],
   "source": [
    "popular_by_seller"
   ]
  },
  {
   "cell_type": "code",
   "execution_count": 111,
   "id": "b98c0ce3",
   "metadata": {},
   "outputs": [
    {
     "data": {
      "text/plain": [
       "<Axes: xlabel='month', ylabel='count'>"
      ]
     },
     "execution_count": 111,
     "metadata": {},
     "output_type": "execute_result"
    },
    {
     "data": {
      "image/png": "[encoded data removed]",
      "text/plain": [
       "<Figure size 1000x600 with 1 Axes>"
      ]
     },
     "metadata": {},
     "output_type": "display_data"
    }
   ],
   "source": [
    "# popular by month\n",
    "# combining combined and order data set\n",
    "tab=pd.merge(combined,order,on='order_id',how='inner')\n",
    "# popular by month\n",
    "popular_by_month = tab.groupby('month')['product_id'].count().sort_values(ascending=False).head().reset_index()\n",
    "popular_by_month.columns = ['month', 'count']\n",
    "plt.figure(figsize=(10, 6))\n",
    "sns.barplot(data=popular_by_month, x='month', y='count')"
   ]
  },
  {
   "cell_type": "code",
   "execution_count": 112,
   "id": "494c83b0",
   "metadata": {},
   "outputs": [
    {
     "data": {
      "text/html": [
       "<div>\n",
       "<style scoped>\n",
       "    .dataframe tbody tr th:only-of-type {\n",
       "        vertical-align: middle;\n",
       "    }\n",
       "\n",
       "    .dataframe tbody tr th {\n",
       "        vertical-align: top;\n",
       "    }\n",
       "\n",
       "    .dataframe thead th {\n",
       "        text-align: right;\n",
       "    }\n",
       "</style>\n",
       "<table border=\"1\" class=\"dataframe\">\n",
       "  <thead>\n",
       "    <tr style=\"text-align: right;\">\n",
       "      <th></th>\n",
       "      <th>month</th>\n",
       "      <th>count</th>\n",
       "    </tr>\n",
       "  </thead>\n",
       "  <tbody>\n",
       "    <tr>\n",
       "      <th>0</th>\n",
       "      <td>2017-11</td>\n",
       "      <td>8665</td>\n",
       "    </tr>\n",
       "    <tr>\n",
       "      <th>1</th>\n",
       "      <td>2018-03</td>\n",
       "      <td>8217</td>\n",
       "    </tr>\n",
       "    <tr>\n",
       "      <th>2</th>\n",
       "      <td>2018-01</td>\n",
       "      <td>8208</td>\n",
       "    </tr>\n",
       "    <tr>\n",
       "      <th>3</th>\n",
       "      <td>2018-04</td>\n",
       "      <td>7975</td>\n",
       "    </tr>\n",
       "    <tr>\n",
       "      <th>4</th>\n",
       "      <td>2018-05</td>\n",
       "      <td>7925</td>\n",
       "    </tr>\n",
       "  </tbody>\n",
       "</table>\n",
       "</div>"
      ],
      "text/plain": [
       "     month  count\n",
       "0  2017-11   8665\n",
       "1  2018-03   8217\n",
       "2  2018-01   8208\n",
       "3  2018-04   7975\n",
       "4  2018-05   7925"
      ]
     },
     "execution_count": 112,
     "metadata": {},
     "output_type": "execute_result"
    }
   ],
   "source": [
    "popular_by_month"
   ]
  },
  {
   "cell_type": "code",
   "execution_count": 109,
   "id": "7432220d",
   "metadata": {},
   "outputs": [
    {
     "data": {
      "text/plain": [
       "<Axes: xlabel='state', ylabel='count'>"
      ]
     },
     "execution_count": 109,
     "metadata": {},
     "output_type": "execute_result"
    },
    {
     "data": {
      "image/png": "[encoded data removed]",
      "text/plain": [
       "<Figure size 1000x600 with 1 Axes>"
      ]
     },
     "metadata": {},
     "output_type": "display_data"
    }
   ],
   "source": [
    "# popular by state\n",
    "popular_by_state = combined.groupby('seller_state')['product_id'].count().sort_values(ascending=False).head().reset_index()\n",
    "popular_by_state.columns = ['state', 'count']\n",
    "plt.figure(figsize=(10, 6))\n",
    "sns.barplot(data=popular_by_state, x='state', y='count')"
   ]
  },
  {
   "cell_type": "code",
   "execution_count": 110,
   "id": "29598926",
   "metadata": {},
   "outputs": [
    {
     "data": {
      "text/html": [
       "<div>\n",
       "<style scoped>\n",
       "    .dataframe tbody tr th:only-of-type {\n",
       "        vertical-align: middle;\n",
       "    }\n",
       "\n",
       "    .dataframe tbody tr th {\n",
       "        vertical-align: top;\n",
       "    }\n",
       "\n",
       "    .dataframe thead th {\n",
       "        text-align: right;\n",
       "    }\n",
       "</style>\n",
       "<table border=\"1\" class=\"dataframe\">\n",
       "  <thead>\n",
       "    <tr style=\"text-align: right;\">\n",
       "      <th></th>\n",
       "      <th>state</th>\n",
       "      <th>count</th>\n",
       "    </tr>\n",
       "  </thead>\n",
       "  <tbody>\n",
       "    <tr>\n",
       "      <th>0</th>\n",
       "      <td>Andhra Pradesh</td>\n",
       "      <td>76407</td>\n",
       "    </tr>\n",
       "    <tr>\n",
       "      <th>1</th>\n",
       "      <td>Gujarat</td>\n",
       "      <td>14295</td>\n",
       "    </tr>\n",
       "    <tr>\n",
       "      <th>2</th>\n",
       "      <td>Chhattisgarh</td>\n",
       "      <td>5327</td>\n",
       "    </tr>\n",
       "    <tr>\n",
       "      <th>3</th>\n",
       "      <td>Haryana</td>\n",
       "      <td>3293</td>\n",
       "    </tr>\n",
       "    <tr>\n",
       "      <th>4</th>\n",
       "      <td>Karnataka</td>\n",
       "      <td>2469</td>\n",
       "    </tr>\n",
       "  </tbody>\n",
       "</table>\n",
       "</div>"
      ],
      "text/plain": [
       "            state  count\n",
       "0  Andhra Pradesh  76407\n",
       "1         Gujarat  14295\n",
       "2    Chhattisgarh   5327\n",
       "3         Haryana   3293\n",
       "4       Karnataka   2469"
      ]
     },
     "execution_count": 110,
     "metadata": {},
     "output_type": "execute_result"
    }
   ],
   "source": [
    "popular_by_state"
   ]
  },
  {
   "cell_type": "code",
   "execution_count": null,
   "id": "f89669d9",
   "metadata": {},
   "outputs": [],
   "source": []
  },
  {
   "cell_type": "code",
   "execution_count": 107,
   "id": "2ef8abde",
   "metadata": {},
   "outputs": [],
   "source": [
    "# popular products by category\n",
    "popular_prod=prod.groupby('product_category_name')['product_id'].count().sort_values(ascending=False).head().reset_index()\n",
    "popular_prod.columns = ['category', 'count']"
   ]
  },
  {
   "cell_type": "code",
   "execution_count": 108,
   "id": "8b72b228",
   "metadata": {},
   "outputs": [
    {
     "data": {
      "text/plain": [
       "<Axes: xlabel='category', ylabel='count'>"
      ]
     },
     "execution_count": 108,
     "metadata": {},
     "output_type": "execute_result"
    },
    {
     "data": {
      "image/png": "[encoded data removed]",
      "text/plain": [
       "<Figure size 1000x600 with 1 Axes>"
      ]
     },
     "metadata": {},
     "output_type": "display_data"
    }
   ],
   "source": [
    "plt.figure(figsize=(10, 6))\n",
    "sns.barplot(data=popular_prod, x='category', y='count')\n"
   ]
  },
  {
   "cell_type": "markdown",
   "id": "d0c899be",
   "metadata": {},
   "source": [
    "#g. Popular categories by state, month"
   ]
  },
  {
   "cell_type": "code",
   "execution_count": 124,
   "id": "6c5583f6",
   "metadata": {},
   "outputs": [
    {
     "data": {
      "text/plain": [
       "<Axes: xlabel='state', ylabel='count'>"
      ]
     },
     "execution_count": 124,
     "metadata": {},
     "output_type": "execute_result"
    },
    {
     "data": {
      "image/png": "[encoded data removed]",
      "text/plain": [
       "<Figure size 640x480 with 1 Axes>"
      ]
     },
     "metadata": {},
     "output_type": "display_data"
    }
   ],
   "source": [
    "# popular categories by state\n",
    "category_by_state=tab.groupby('seller_state')['product_category_name'].count().sort_values(ascending=False).head().reset_index()\n",
    "category_by_state.columns=['state','count']\n",
    "sns.barplot(data=category_by_state, x='state', y='count')\n"
   ]
  },
  {
   "cell_type": "code",
   "execution_count": 128,
   "id": "881bd77e",
   "metadata": {},
   "outputs": [
    {
     "data": {
      "text/plain": [
       "<Axes: xlabel='month', ylabel='count'>"
      ]
     },
     "execution_count": 128,
     "metadata": {},
     "output_type": "execute_result"
    },
    {
     "data": {
      "image/png": "[encoded data removed]",
      "text/plain": [
       "<Figure size 640x480 with 1 Axes>"
      ]
     },
     "metadata": {},
     "output_type": "display_data"
    }
   ],
   "source": [
    "# popular categories by month\n",
    "category_by_month=tab.groupby('month')['product_category_name'].count().sort_values(ascending=False).head().reset_index()\n",
    "category_by_month.columns=['month','count']\n",
    "sns.barplot(data=category_by_month, x='month', y='count')\n"
   ]
  },
  {
   "cell_type": "markdown",
   "id": "b968d17e",
   "metadata": {},
   "source": [
    "#h. List top 10 most expensive products sorted by price"
   ]
  },
  {
   "cell_type": "code",
   "execution_count": 137,
   "id": "6d81d450",
   "metadata": {},
   "outputs": [],
   "source": [
    "top_10_expensive_products = tab.sort_values(by='price', ascending=False).head(10)"
   ]
  },
  {
   "cell_type": "code",
   "execution_count": 140,
   "id": "06cec19b",
   "metadata": {},
   "outputs": [
    {
     "data": {
      "text/html": [
       "<div>\n",
       "<style scoped>\n",
       "    .dataframe tbody tr th:only-of-type {\n",
       "        vertical-align: middle;\n",
       "    }\n",
       "\n",
       "    .dataframe tbody tr th {\n",
       "        vertical-align: top;\n",
       "    }\n",
       "\n",
       "    .dataframe thead th {\n",
       "        text-align: right;\n",
       "    }\n",
       "</style>\n",
       "<table border=\"1\" class=\"dataframe\">\n",
       "  <thead>\n",
       "    <tr style=\"text-align: right;\">\n",
       "      <th></th>\n",
       "      <th>product_id</th>\n",
       "      <th>price</th>\n",
       "    </tr>\n",
       "  </thead>\n",
       "  <tbody>\n",
       "    <tr>\n",
       "      <th>96602</th>\n",
       "      <td>489ae2aa008f021502940f251d4cce7f</td>\n",
       "      <td>6735.00</td>\n",
       "    </tr>\n",
       "    <tr>\n",
       "      <th>112647</th>\n",
       "      <td>69c590f7ffc7bf8db97190b6cb6ed62e</td>\n",
       "      <td>6729.00</td>\n",
       "    </tr>\n",
       "    <tr>\n",
       "      <th>112615</th>\n",
       "      <td>1bdf5e6731585cf01aa8169c7028d6ad</td>\n",
       "      <td>6499.00</td>\n",
       "    </tr>\n",
       "    <tr>\n",
       "      <th>106703</th>\n",
       "      <td>a6492cc69376c469ab6f61d8f44de961</td>\n",
       "      <td>4799.00</td>\n",
       "    </tr>\n",
       "    <tr>\n",
       "      <th>106689</th>\n",
       "      <td>c3ed642d592594bb648ff4a04cee2747</td>\n",
       "      <td>4690.00</td>\n",
       "    </tr>\n",
       "    <tr>\n",
       "      <th>101609</th>\n",
       "      <td>259037a6a41845e455183f89c5035f18</td>\n",
       "      <td>4590.00</td>\n",
       "    </tr>\n",
       "    <tr>\n",
       "      <th>107152</th>\n",
       "      <td>a1beef8f3992dbd4cd8726796aa69c53</td>\n",
       "      <td>4399.87</td>\n",
       "    </tr>\n",
       "    <tr>\n",
       "      <th>84570</th>\n",
       "      <td>6cdf8fc1d741c76586d8b6b15e9eef30</td>\n",
       "      <td>4099.99</td>\n",
       "    </tr>\n",
       "    <tr>\n",
       "      <th>91640</th>\n",
       "      <td>dd113cb02b2af9c8e5787e8f1f0722f6</td>\n",
       "      <td>4059.00</td>\n",
       "    </tr>\n",
       "    <tr>\n",
       "      <th>52324</th>\n",
       "      <td>6902c1962dd19d540807d0ab8fade5c6</td>\n",
       "      <td>3999.90</td>\n",
       "    </tr>\n",
       "  </tbody>\n",
       "</table>\n",
       "</div>"
      ],
      "text/plain": [
       "                              product_id    price\n",
       "96602   489ae2aa008f021502940f251d4cce7f  6735.00\n",
       "112647  69c590f7ffc7bf8db97190b6cb6ed62e  6729.00\n",
       "112615  1bdf5e6731585cf01aa8169c7028d6ad  6499.00\n",
       "106703  a6492cc69376c469ab6f61d8f44de961  4799.00\n",
       "106689  c3ed642d592594bb648ff4a04cee2747  4690.00\n",
       "101609  259037a6a41845e455183f89c5035f18  4590.00\n",
       "107152  a1beef8f3992dbd4cd8726796aa69c53  4399.87\n",
       "84570   6cdf8fc1d741c76586d8b6b15e9eef30  4099.99\n",
       "91640   dd113cb02b2af9c8e5787e8f1f0722f6  4059.00\n",
       "52324   6902c1962dd19d540807d0ab8fade5c6  3999.90"
      ]
     },
     "execution_count": 140,
     "metadata": {},
     "output_type": "execute_result"
    }
   ],
   "source": [
    "top_10_expensive_products=top_10_expensive_products[['product_id','price']]\n",
    "top_10_expensive_products"
   ]
  },
  {
   "cell_type": "markdown",
   "id": "b98782b7",
   "metadata": {},
   "source": [
    "#2. Performing Customers/sellers Segmentation\n",
    "#a. Divide the customers into groups based on the revenue generated "
   ]
  },
  {
   "cell_type": "code",
   "execution_count": 143,
   "id": "9ad8ecb9",
   "metadata": {},
   "outputs": [
    {
     "data": {
      "text/html": [
       "<div>\n",
       "<style scoped>\n",
       "    .dataframe tbody tr th:only-of-type {\n",
       "        vertical-align: middle;\n",
       "    }\n",
       "\n",
       "    .dataframe tbody tr th {\n",
       "        vertical-align: top;\n",
       "    }\n",
       "\n",
       "    .dataframe thead th {\n",
       "        text-align: right;\n",
       "    }\n",
       "</style>\n",
       "<table border=\"1\" class=\"dataframe\">\n",
       "  <thead>\n",
       "    <tr style=\"text-align: right;\">\n",
       "      <th></th>\n",
       "      <th>customer_id</th>\n",
       "      <th>total_revenue</th>\n",
       "      <th>groups</th>\n",
       "    </tr>\n",
       "  </thead>\n",
       "  <tbody>\n",
       "    <tr>\n",
       "      <th>0</th>\n",
       "      <td>00012a2ce6f8dcda20d059ce98491703</td>\n",
       "      <td>89.80</td>\n",
       "      <td>High</td>\n",
       "    </tr>\n",
       "    <tr>\n",
       "      <th>1</th>\n",
       "      <td>000161a058600d5901f007fab4c27140</td>\n",
       "      <td>54.90</td>\n",
       "      <td>Medium</td>\n",
       "    </tr>\n",
       "    <tr>\n",
       "      <th>2</th>\n",
       "      <td>0001fd6190edaaf884bcaf3d49edf079</td>\n",
       "      <td>179.99</td>\n",
       "      <td>Very High</td>\n",
       "    </tr>\n",
       "    <tr>\n",
       "      <th>3</th>\n",
       "      <td>0002414f95344307404f0ace7a26f1d5</td>\n",
       "      <td>149.90</td>\n",
       "      <td>High</td>\n",
       "    </tr>\n",
       "    <tr>\n",
       "      <th>4</th>\n",
       "      <td>000379cdec625522490c315e70c7a9fb</td>\n",
       "      <td>93.00</td>\n",
       "      <td>High</td>\n",
       "    </tr>\n",
       "    <tr>\n",
       "      <th>...</th>\n",
       "      <td>...</td>\n",
       "      <td>...</td>\n",
       "      <td>...</td>\n",
       "    </tr>\n",
       "    <tr>\n",
       "      <th>98661</th>\n",
       "      <td>fffcb937e9dd47a13f05ecb8290f4d3e</td>\n",
       "      <td>78.00</td>\n",
       "      <td>Medium</td>\n",
       "    </tr>\n",
       "    <tr>\n",
       "      <th>98662</th>\n",
       "      <td>fffecc9f79fd8c764f843e9951b11341</td>\n",
       "      <td>54.90</td>\n",
       "      <td>Medium</td>\n",
       "    </tr>\n",
       "    <tr>\n",
       "      <th>98663</th>\n",
       "      <td>fffeda5b6d849fbd39689bb92087f431</td>\n",
       "      <td>47.90</td>\n",
       "      <td>Medium</td>\n",
       "    </tr>\n",
       "    <tr>\n",
       "      <th>98664</th>\n",
       "      <td>ffff42319e9b2d713724ae527742af25</td>\n",
       "      <td>199.90</td>\n",
       "      <td>Very High</td>\n",
       "    </tr>\n",
       "    <tr>\n",
       "      <th>98665</th>\n",
       "      <td>ffffa3172527f765de70084a7e53aae8</td>\n",
       "      <td>21.80</td>\n",
       "      <td>Low</td>\n",
       "    </tr>\n",
       "  </tbody>\n",
       "</table>\n",
       "<p>98666 rows × 3 columns</p>\n",
       "</div>"
      ],
      "text/plain": [
       "                            customer_id  total_revenue     groups\n",
       "0      00012a2ce6f8dcda20d059ce98491703          89.80       High\n",
       "1      000161a058600d5901f007fab4c27140          54.90     Medium\n",
       "2      0001fd6190edaaf884bcaf3d49edf079         179.99  Very High\n",
       "3      0002414f95344307404f0ace7a26f1d5         149.90       High\n",
       "4      000379cdec625522490c315e70c7a9fb          93.00       High\n",
       "...                                 ...            ...        ...\n",
       "98661  fffcb937e9dd47a13f05ecb8290f4d3e          78.00     Medium\n",
       "98662  fffecc9f79fd8c764f843e9951b11341          54.90     Medium\n",
       "98663  fffeda5b6d849fbd39689bb92087f431          47.90     Medium\n",
       "98664  ffff42319e9b2d713724ae527742af25         199.90  Very High\n",
       "98665  ffffa3172527f765de70084a7e53aae8          21.80        Low\n",
       "\n",
       "[98666 rows x 3 columns]"
      ]
     },
     "execution_count": 143,
     "metadata": {},
     "output_type": "execute_result"
    }
   ],
   "source": [
    "customer_revenue = tab.groupby('customer_id')['price'].sum().reset_index()\n",
    "customer_revenue.columns = ['customer_id', 'total_revenue']\n",
    "customer_revenue['groups'] = pd.qcut(customer_revenue['total_revenue'], 4, labels=['Low', 'Medium', 'High', 'Very High'])\n",
    "customer_revenue"
   ]
  },
  {
   "cell_type": "markdown",
   "id": "eece62c3",
   "metadata": {},
   "source": [
    "#b. Divide the sellers into groups based on the revenue generated "
   ]
  },
  {
   "cell_type": "code",
   "execution_count": 144,
   "id": "670c1aa4",
   "metadata": {},
   "outputs": [
    {
     "data": {
      "text/html": [
       "<div>\n",
       "<style scoped>\n",
       "    .dataframe tbody tr th:only-of-type {\n",
       "        vertical-align: middle;\n",
       "    }\n",
       "\n",
       "    .dataframe tbody tr th {\n",
       "        vertical-align: top;\n",
       "    }\n",
       "\n",
       "    .dataframe thead th {\n",
       "        text-align: right;\n",
       "    }\n",
       "</style>\n",
       "<table border=\"1\" class=\"dataframe\">\n",
       "  <thead>\n",
       "    <tr style=\"text-align: right;\">\n",
       "      <th></th>\n",
       "      <th>seller_id</th>\n",
       "      <th>total_revenue</th>\n",
       "      <th>groups</th>\n",
       "    </tr>\n",
       "  </thead>\n",
       "  <tbody>\n",
       "    <tr>\n",
       "      <th>0</th>\n",
       "      <td>0015a82c2db000af6aaaf3ae2ecb0532</td>\n",
       "      <td>2685.00</td>\n",
       "      <td>High</td>\n",
       "    </tr>\n",
       "    <tr>\n",
       "      <th>1</th>\n",
       "      <td>001cca7ae9ae17fb1caed9dfb1094831</td>\n",
       "      <td>25080.03</td>\n",
       "      <td>Very High</td>\n",
       "    </tr>\n",
       "    <tr>\n",
       "      <th>2</th>\n",
       "      <td>001e6ad469a905060d959994f1b41e4f</td>\n",
       "      <td>250.00</td>\n",
       "      <td>Medium</td>\n",
       "    </tr>\n",
       "    <tr>\n",
       "      <th>3</th>\n",
       "      <td>002100f778ceb8431b7a1020ff7ab48f</td>\n",
       "      <td>1234.50</td>\n",
       "      <td>High</td>\n",
       "    </tr>\n",
       "    <tr>\n",
       "      <th>4</th>\n",
       "      <td>003554e2dce176b5555353e4f3555ac8</td>\n",
       "      <td>120.00</td>\n",
       "      <td>Low</td>\n",
       "    </tr>\n",
       "    <tr>\n",
       "      <th>...</th>\n",
       "      <td>...</td>\n",
       "      <td>...</td>\n",
       "      <td>...</td>\n",
       "    </tr>\n",
       "    <tr>\n",
       "      <th>3090</th>\n",
       "      <td>ffcfefa19b08742c5d315f2791395ee5</td>\n",
       "      <td>69.90</td>\n",
       "      <td>Low</td>\n",
       "    </tr>\n",
       "    <tr>\n",
       "      <th>3091</th>\n",
       "      <td>ffdd9f82b9a447f6f8d4b91554cc7dd3</td>\n",
       "      <td>2101.20</td>\n",
       "      <td>High</td>\n",
       "    </tr>\n",
       "    <tr>\n",
       "      <th>3092</th>\n",
       "      <td>ffeee66ac5d5a62fe688b9d26f83f534</td>\n",
       "      <td>1839.86</td>\n",
       "      <td>High</td>\n",
       "    </tr>\n",
       "    <tr>\n",
       "      <th>3093</th>\n",
       "      <td>fffd5413c0700ac820c7069d66d98c89</td>\n",
       "      <td>9062.30</td>\n",
       "      <td>Very High</td>\n",
       "    </tr>\n",
       "    <tr>\n",
       "      <th>3094</th>\n",
       "      <td>ffff564a4f9085cd26170f4732393726</td>\n",
       "      <td>1426.30</td>\n",
       "      <td>High</td>\n",
       "    </tr>\n",
       "  </tbody>\n",
       "</table>\n",
       "<p>3095 rows × 3 columns</p>\n",
       "</div>"
      ],
      "text/plain": [
       "                             seller_id  total_revenue     groups\n",
       "0     0015a82c2db000af6aaaf3ae2ecb0532        2685.00       High\n",
       "1     001cca7ae9ae17fb1caed9dfb1094831       25080.03  Very High\n",
       "2     001e6ad469a905060d959994f1b41e4f         250.00     Medium\n",
       "3     002100f778ceb8431b7a1020ff7ab48f        1234.50       High\n",
       "4     003554e2dce176b5555353e4f3555ac8         120.00        Low\n",
       "...                                ...            ...        ...\n",
       "3090  ffcfefa19b08742c5d315f2791395ee5          69.90        Low\n",
       "3091  ffdd9f82b9a447f6f8d4b91554cc7dd3        2101.20       High\n",
       "3092  ffeee66ac5d5a62fe688b9d26f83f534        1839.86       High\n",
       "3093  fffd5413c0700ac820c7069d66d98c89        9062.30  Very High\n",
       "3094  ffff564a4f9085cd26170f4732393726        1426.30       High\n",
       "\n",
       "[3095 rows x 3 columns]"
      ]
     },
     "execution_count": 144,
     "metadata": {},
     "output_type": "execute_result"
    }
   ],
   "source": [
    "seller_revenue = tab.groupby('seller_id')['price'].sum().reset_index()\n",
    "seller_revenue.columns = ['seller_id', 'total_revenue']\n",
    "seller_revenue['groups'] = pd.qcut(seller_revenue['total_revenue'], 4, labels=['Low', 'Medium', 'High', 'Very High'])\n",
    "seller_revenue"
   ]
  },
  {
   "cell_type": "markdown",
   "id": "c07a3523",
   "metadata": {},
   "source": [
    "#3. Cross-Selling (Which products are selling together)\n",
    "#Hint: We need to find which of the top 10 combinations of products are selling together in \n",
    "#each transaction. (combination of 2 or 3 buying together)"
   ]
  },
  {
   "cell_type": "code",
   "execution_count": 148,
   "id": "83cb9e28",
   "metadata": {},
   "outputs": [],
   "source": [
    "#tab1=tab.groupby('order_id')['product_id'].apply(list).reset_index()\n",
    "#tab1.sort_values(ascending=False)"
   ]
  },
  {
   "cell_type": "markdown",
   "id": "cd4aaa06",
   "metadata": {},
   "source": [
    "#4. Payment Behaviour\n",
    "#a. How customers are paying?"
   ]
  },
  {
   "cell_type": "code",
   "execution_count": 149,
   "id": "977807ce",
   "metadata": {},
   "outputs": [],
   "source": [
    "payment_behavior = payment.groupby('payment_type')['order_id'].count().reset_index()\n",
    "payment_behavior.columns = ['payment_type', 'count']"
   ]
  },
  {
   "cell_type": "code",
   "execution_count": 150,
   "id": "fd7546bb",
   "metadata": {},
   "outputs": [
    {
     "data": {
      "text/plain": [
       "<Axes: xlabel='payment_type', ylabel='count'>"
      ]
     },
     "execution_count": 150,
     "metadata": {},
     "output_type": "execute_result"
    },
    {
     "data": {
      "image/png": "[encoded data removed]",
      "text/plain": [
       "<Figure size 640x480 with 1 Axes>"
      ]
     },
     "metadata": {},
     "output_type": "display_data"
    }
   ],
   "source": [
    "sns.barplot(data=payment_behavior, x='payment_type', y='count')"
   ]
  },
  {
   "cell_type": "markdown",
   "id": "a34fb6f3",
   "metadata": {},
   "source": [
    "#b. Which payment channels are used by most customers?"
   ]
  },
  {
   "cell_type": "code",
   "execution_count": 151,
   "id": "f0a1c272",
   "metadata": {},
   "outputs": [
    {
     "name": "stdout",
     "output_type": "stream",
     "text": [
      "<class 'pandas.core.frame.DataFrame'>\n",
      "RangeIndex: 32951 entries, 0 to 32950\n",
      "Data columns (total 9 columns):\n",
      " #   Column                      Non-Null Count  Dtype  \n",
      "---  ------                      --------------  -----  \n",
      " 0   product_id                  32951 non-null  object \n",
      " 1   product_category_name       32328 non-null  object \n",
      " 2   product_name_lenght         32341 non-null  float64\n",
      " 3   product_description_lenght  32341 non-null  float64\n",
      " 4   product_photos_qty          32341 non-null  float64\n",
      " 5   product_weight_g            32949 non-null  float64\n",
      " 6   product_length_cm           32949 non-null  float64\n",
      " 7   product_height_cm           32949 non-null  float64\n",
      " 8   product_width_cm            32949 non-null  float64\n",
      "dtypes: float64(7), object(2)\n",
      "memory usage: 2.3+ MB\n"
     ]
    }
   ],
   "source": [
    "prod.info()"
   ]
  },
  {
   "cell_type": "markdown",
   "id": "5e1c01a8",
   "metadata": {},
   "source": [
    "#5. Customer satisfaction towards category & product\n",
    "#a. Which categories (top 10) are maximum rated & minimum rated?"
   ]
  },
  {
   "cell_type": "code",
   "execution_count": 152,
   "id": "065ad5c4",
   "metadata": {},
   "outputs": [],
   "source": [
    "tab1=pd.merge(tab,order_review,on='order_id',how='inner')"
   ]
  },
  {
   "cell_type": "code",
   "execution_count": 154,
   "id": "bf5421f0",
   "metadata": {},
   "outputs": [],
   "source": [
    "category_ratings = tab1.groupby('product_category_name')['review_score'].mean().reset_index()\n",
    "category_ratings.columns = ['product_category_name', 'review_score']"
   ]
  },
  {
   "cell_type": "code",
   "execution_count": 156,
   "id": "54304207",
   "metadata": {},
   "outputs": [
    {
     "data": {
      "text/html": [
       "<div>\n",
       "<style scoped>\n",
       "    .dataframe tbody tr th:only-of-type {\n",
       "        vertical-align: middle;\n",
       "    }\n",
       "\n",
       "    .dataframe tbody tr th {\n",
       "        vertical-align: top;\n",
       "    }\n",
       "\n",
       "    .dataframe thead th {\n",
       "        text-align: right;\n",
       "    }\n",
       "</style>\n",
       "<table border=\"1\" class=\"dataframe\">\n",
       "  <thead>\n",
       "    <tr style=\"text-align: right;\">\n",
       "      <th></th>\n",
       "      <th>product_category_name</th>\n",
       "      <th>review_score</th>\n",
       "    </tr>\n",
       "  </thead>\n",
       "  <tbody>\n",
       "    <tr>\n",
       "      <th>11</th>\n",
       "      <td>Cds_Dvds_Musicals</td>\n",
       "      <td>4.642857</td>\n",
       "    </tr>\n",
       "    <tr>\n",
       "      <th>29</th>\n",
       "      <td>Fashion_Childrens_Clothes</td>\n",
       "      <td>4.500000</td>\n",
       "    </tr>\n",
       "    <tr>\n",
       "      <th>8</th>\n",
       "      <td>Books_General_Interest</td>\n",
       "      <td>4.439421</td>\n",
       "    </tr>\n",
       "    <tr>\n",
       "      <th>9</th>\n",
       "      <td>Books_Imported</td>\n",
       "      <td>4.400000</td>\n",
       "    </tr>\n",
       "    <tr>\n",
       "      <th>22</th>\n",
       "      <td>Costruction_Tools_Tools</td>\n",
       "      <td>4.359223</td>\n",
       "    </tr>\n",
       "    <tr>\n",
       "      <th>10</th>\n",
       "      <td>Books_Technical</td>\n",
       "      <td>4.338290</td>\n",
       "    </tr>\n",
       "    <tr>\n",
       "      <th>53</th>\n",
       "      <td>Luggage_Accessories</td>\n",
       "      <td>4.309524</td>\n",
       "    </tr>\n",
       "    <tr>\n",
       "      <th>37</th>\n",
       "      <td>Food_Drink</td>\n",
       "      <td>4.303571</td>\n",
       "    </tr>\n",
       "    <tr>\n",
       "      <th>64</th>\n",
       "      <td>Small_Appliances_Home_Oven_And_Coffee</td>\n",
       "      <td>4.302632</td>\n",
       "    </tr>\n",
       "    <tr>\n",
       "      <th>32</th>\n",
       "      <td>Fashion_Sport</td>\n",
       "      <td>4.258065</td>\n",
       "    </tr>\n",
       "  </tbody>\n",
       "</table>\n",
       "</div>"
      ],
      "text/plain": [
       "                    product_category_name  review_score\n",
       "11                      Cds_Dvds_Musicals      4.642857\n",
       "29              Fashion_Childrens_Clothes      4.500000\n",
       "8                  Books_General_Interest      4.439421\n",
       "9                          Books_Imported      4.400000\n",
       "22                Costruction_Tools_Tools      4.359223\n",
       "10                        Books_Technical      4.338290\n",
       "53                    Luggage_Accessories      4.309524\n",
       "37                             Food_Drink      4.303571\n",
       "64  Small_Appliances_Home_Oven_And_Coffee      4.302632\n",
       "32                          Fashion_Sport      4.258065"
      ]
     },
     "execution_count": 156,
     "metadata": {},
     "output_type": "execute_result"
    }
   ],
   "source": [
    "top_10_max_rated = category_ratings.sort_values(by='review_score', ascending=False).head(10)\n",
    "top_10_max_rated"
   ]
  },
  {
   "cell_type": "code",
   "execution_count": 157,
   "id": "563847aa",
   "metadata": {},
   "outputs": [
    {
     "data": {
      "text/html": [
       "<div>\n",
       "<style scoped>\n",
       "    .dataframe tbody tr th:only-of-type {\n",
       "        vertical-align: middle;\n",
       "    }\n",
       "\n",
       "    .dataframe tbody tr th {\n",
       "        vertical-align: top;\n",
       "    }\n",
       "\n",
       "    .dataframe thead th {\n",
       "        text-align: right;\n",
       "    }\n",
       "</style>\n",
       "<table border=\"1\" class=\"dataframe\">\n",
       "  <thead>\n",
       "    <tr style=\"text-align: right;\">\n",
       "      <th></th>\n",
       "      <th>product_category_name</th>\n",
       "      <th>review_score</th>\n",
       "    </tr>\n",
       "  </thead>\n",
       "  <tbody>\n",
       "    <tr>\n",
       "      <th>61</th>\n",
       "      <td>Security_And_Services</td>\n",
       "      <td>2.500000</td>\n",
       "    </tr>\n",
       "    <tr>\n",
       "      <th>23</th>\n",
       "      <td>Diapers_And_Hygiene</td>\n",
       "      <td>3.256410</td>\n",
       "    </tr>\n",
       "    <tr>\n",
       "      <th>46</th>\n",
       "      <td>Home_Comfort_2</td>\n",
       "      <td>3.366667</td>\n",
       "    </tr>\n",
       "    <tr>\n",
       "      <th>57</th>\n",
       "      <td>Office_Furniture</td>\n",
       "      <td>3.484421</td>\n",
       "    </tr>\n",
       "    <tr>\n",
       "      <th>30</th>\n",
       "      <td>Fashion_Male_Clothing</td>\n",
       "      <td>3.621212</td>\n",
       "    </tr>\n",
       "    <tr>\n",
       "      <th>34</th>\n",
       "      <td>Fixed_Telephony</td>\n",
       "      <td>3.671698</td>\n",
       "    </tr>\n",
       "    <tr>\n",
       "      <th>58</th>\n",
       "      <td>Party_Supplies</td>\n",
       "      <td>3.767442</td>\n",
       "    </tr>\n",
       "    <tr>\n",
       "      <th>27</th>\n",
       "      <td>Fashio_Female_Clothing</td>\n",
       "      <td>3.780000</td>\n",
       "    </tr>\n",
       "    <tr>\n",
       "      <th>52</th>\n",
       "      <td>La_Cuisine</td>\n",
       "      <td>3.785714</td>\n",
       "    </tr>\n",
       "    <tr>\n",
       "      <th>4</th>\n",
       "      <td>Audio</td>\n",
       "      <td>3.808219</td>\n",
       "    </tr>\n",
       "  </tbody>\n",
       "</table>\n",
       "</div>"
      ],
      "text/plain": [
       "     product_category_name  review_score\n",
       "61   Security_And_Services      2.500000\n",
       "23     Diapers_And_Hygiene      3.256410\n",
       "46          Home_Comfort_2      3.366667\n",
       "57        Office_Furniture      3.484421\n",
       "30   Fashion_Male_Clothing      3.621212\n",
       "34         Fixed_Telephony      3.671698\n",
       "58          Party_Supplies      3.767442\n",
       "27  Fashio_Female_Clothing      3.780000\n",
       "52              La_Cuisine      3.785714\n",
       "4                    Audio      3.808219"
      ]
     },
     "execution_count": 157,
     "metadata": {},
     "output_type": "execute_result"
    }
   ],
   "source": [
    "top_10_min_rated= category_ratings.sort_values(by='review_score', ascending=True).head(10)\n",
    "top_10_min_rated"
   ]
  },
  {
   "cell_type": "markdown",
   "id": "4678cdb3",
   "metadata": {},
   "source": [
    "#b. Which products (top10) are maximum rated & minimum rated?"
   ]
  },
  {
   "cell_type": "code",
   "execution_count": 158,
   "id": "4108e52f",
   "metadata": {},
   "outputs": [],
   "source": [
    "product_ratings = tab1.groupby('product_id')['review_score'].mean().reset_index()\n",
    "product_ratings.columns = ['product_id', 'review_score']"
   ]
  },
  {
   "cell_type": "code",
   "execution_count": 159,
   "id": "55a7b65e",
   "metadata": {},
   "outputs": [
    {
     "data": {
      "text/html": [
       "<div>\n",
       "<style scoped>\n",
       "    .dataframe tbody tr th:only-of-type {\n",
       "        vertical-align: middle;\n",
       "    }\n",
       "\n",
       "    .dataframe tbody tr th {\n",
       "        vertical-align: top;\n",
       "    }\n",
       "\n",
       "    .dataframe thead th {\n",
       "        text-align: right;\n",
       "    }\n",
       "</style>\n",
       "<table border=\"1\" class=\"dataframe\">\n",
       "  <thead>\n",
       "    <tr style=\"text-align: right;\">\n",
       "      <th></th>\n",
       "      <th>product_id</th>\n",
       "      <th>review_score</th>\n",
       "    </tr>\n",
       "  </thead>\n",
       "  <tbody>\n",
       "    <tr>\n",
       "      <th>0</th>\n",
       "      <td>00066f42aeeb9f3007548bb9d3f33c38</td>\n",
       "      <td>5.0</td>\n",
       "    </tr>\n",
       "    <tr>\n",
       "      <th>17330</th>\n",
       "      <td>86743ff92eee3d16b7df59cddd583b8c</td>\n",
       "      <td>5.0</td>\n",
       "    </tr>\n",
       "    <tr>\n",
       "      <th>17345</th>\n",
       "      <td>868ceb027ab706a4dee42e2220006b85</td>\n",
       "      <td>5.0</td>\n",
       "    </tr>\n",
       "    <tr>\n",
       "      <th>17343</th>\n",
       "      <td>868969d3a93aeeab7bfcd4fc3d3d65de</td>\n",
       "      <td>5.0</td>\n",
       "    </tr>\n",
       "    <tr>\n",
       "      <th>17342</th>\n",
       "      <td>868766ed2172644fdd977d6bd395a107</td>\n",
       "      <td>5.0</td>\n",
       "    </tr>\n",
       "    <tr>\n",
       "      <th>17340</th>\n",
       "      <td>8684bd8f93b4f4038d07188a23811e93</td>\n",
       "      <td>5.0</td>\n",
       "    </tr>\n",
       "    <tr>\n",
       "      <th>17335</th>\n",
       "      <td>867c96d2bb67aba6500a4c509cf76072</td>\n",
       "      <td>5.0</td>\n",
       "    </tr>\n",
       "    <tr>\n",
       "      <th>17334</th>\n",
       "      <td>867b820367ec206b38a357f2c12454b7</td>\n",
       "      <td>5.0</td>\n",
       "    </tr>\n",
       "    <tr>\n",
       "      <th>17333</th>\n",
       "      <td>867901d7e8488fb97f1fb538c09d476e</td>\n",
       "      <td>5.0</td>\n",
       "    </tr>\n",
       "    <tr>\n",
       "      <th>17325</th>\n",
       "      <td>865bfa00c1dad8f4146d3c2765f051ca</td>\n",
       "      <td>5.0</td>\n",
       "    </tr>\n",
       "  </tbody>\n",
       "</table>\n",
       "</div>"
      ],
      "text/plain": [
       "                             product_id  review_score\n",
       "0      00066f42aeeb9f3007548bb9d3f33c38           5.0\n",
       "17330  86743ff92eee3d16b7df59cddd583b8c           5.0\n",
       "17345  868ceb027ab706a4dee42e2220006b85           5.0\n",
       "17343  868969d3a93aeeab7bfcd4fc3d3d65de           5.0\n",
       "17342  868766ed2172644fdd977d6bd395a107           5.0\n",
       "17340  8684bd8f93b4f4038d07188a23811e93           5.0\n",
       "17335  867c96d2bb67aba6500a4c509cf76072           5.0\n",
       "17334  867b820367ec206b38a357f2c12454b7           5.0\n",
       "17333  867901d7e8488fb97f1fb538c09d476e           5.0\n",
       "17325  865bfa00c1dad8f4146d3c2765f051ca           5.0"
      ]
     },
     "execution_count": 159,
     "metadata": {},
     "output_type": "execute_result"
    }
   ],
   "source": [
    "top_10_max_rated = product_ratings.sort_values(by='review_score', ascending=False).head(10)\n",
    "top_10_max_rated"
   ]
  },
  {
   "cell_type": "code",
   "execution_count": 160,
   "id": "fa02639d",
   "metadata": {},
   "outputs": [
    {
     "data": {
      "text/html": [
       "<div>\n",
       "<style scoped>\n",
       "    .dataframe tbody tr th:only-of-type {\n",
       "        vertical-align: middle;\n",
       "    }\n",
       "\n",
       "    .dataframe tbody tr th {\n",
       "        vertical-align: top;\n",
       "    }\n",
       "\n",
       "    .dataframe thead th {\n",
       "        text-align: right;\n",
       "    }\n",
       "</style>\n",
       "<table border=\"1\" class=\"dataframe\">\n",
       "  <thead>\n",
       "    <tr style=\"text-align: right;\">\n",
       "      <th></th>\n",
       "      <th>product_id</th>\n",
       "      <th>review_score</th>\n",
       "    </tr>\n",
       "  </thead>\n",
       "  <tbody>\n",
       "    <tr>\n",
       "      <th>11572</th>\n",
       "      <td>592cc6634d2c783d297effc0b828bc37</td>\n",
       "      <td>1.0</td>\n",
       "    </tr>\n",
       "    <tr>\n",
       "      <th>5376</th>\n",
       "      <td>28c95d7653177449fd4b6fc7adb63ce9</td>\n",
       "      <td>1.0</td>\n",
       "    </tr>\n",
       "    <tr>\n",
       "      <th>5378</th>\n",
       "      <td>28d6d6a10ceb0636ae572e7efafef612</td>\n",
       "      <td>1.0</td>\n",
       "    </tr>\n",
       "    <tr>\n",
       "      <th>5379</th>\n",
       "      <td>28d7da9ebe96bfda54aed060b68b23a1</td>\n",
       "      <td>1.0</td>\n",
       "    </tr>\n",
       "    <tr>\n",
       "      <th>18040</th>\n",
       "      <td>8c4e5e50a08a443b7fbad34ad7587625</td>\n",
       "      <td>1.0</td>\n",
       "    </tr>\n",
       "    <tr>\n",
       "      <th>18039</th>\n",
       "      <td>8c4dc358af6e14174f2114be62c18f37</td>\n",
       "      <td>1.0</td>\n",
       "    </tr>\n",
       "    <tr>\n",
       "      <th>18034</th>\n",
       "      <td>8c4456c061013adccb1ba4cbce2d0365</td>\n",
       "      <td>1.0</td>\n",
       "    </tr>\n",
       "    <tr>\n",
       "      <th>18030</th>\n",
       "      <td>8c35dc99b37ba51780800ba049ed3616</td>\n",
       "      <td>1.0</td>\n",
       "    </tr>\n",
       "    <tr>\n",
       "      <th>5409</th>\n",
       "      <td>28fe66c8a81afe9be7829f40a5fae9ee</td>\n",
       "      <td>1.0</td>\n",
       "    </tr>\n",
       "    <tr>\n",
       "      <th>30663</th>\n",
       "      <td>ee37349d258101b9d573a256d1401ff7</td>\n",
       "      <td>1.0</td>\n",
       "    </tr>\n",
       "  </tbody>\n",
       "</table>\n",
       "</div>"
      ],
      "text/plain": [
       "                             product_id  review_score\n",
       "11572  592cc6634d2c783d297effc0b828bc37           1.0\n",
       "5376   28c95d7653177449fd4b6fc7adb63ce9           1.0\n",
       "5378   28d6d6a10ceb0636ae572e7efafef612           1.0\n",
       "5379   28d7da9ebe96bfda54aed060b68b23a1           1.0\n",
       "18040  8c4e5e50a08a443b7fbad34ad7587625           1.0\n",
       "18039  8c4dc358af6e14174f2114be62c18f37           1.0\n",
       "18034  8c4456c061013adccb1ba4cbce2d0365           1.0\n",
       "18030  8c35dc99b37ba51780800ba049ed3616           1.0\n",
       "5409   28fe66c8a81afe9be7829f40a5fae9ee           1.0\n",
       "30663  ee37349d258101b9d573a256d1401ff7           1.0"
      ]
     },
     "execution_count": 160,
     "metadata": {},
     "output_type": "execute_result"
    }
   ],
   "source": [
    "top_10_min_rated= product_ratings.sort_values(by='review_score', ascending=True).head(10)\n",
    "top_10_min_rated"
   ]
  },
  {
   "cell_type": "markdown",
   "id": "0c28e8e3",
   "metadata": {},
   "source": [
    "#c. Average rating by location, seller, product, category, month etc"
   ]
  },
  {
   "cell_type": "code",
   "execution_count": 163,
   "id": "4159da4a",
   "metadata": {},
   "outputs": [
    {
     "data": {
      "text/html": [
       "<div>\n",
       "<style scoped>\n",
       "    .dataframe tbody tr th:only-of-type {\n",
       "        vertical-align: middle;\n",
       "    }\n",
       "\n",
       "    .dataframe tbody tr th {\n",
       "        vertical-align: top;\n",
       "    }\n",
       "\n",
       "    .dataframe thead th {\n",
       "        text-align: right;\n",
       "    }\n",
       "</style>\n",
       "<table border=\"1\" class=\"dataframe\">\n",
       "  <thead>\n",
       "    <tr style=\"text-align: right;\">\n",
       "      <th></th>\n",
       "      <th>seller_state</th>\n",
       "      <th>review_score</th>\n",
       "    </tr>\n",
       "  </thead>\n",
       "  <tbody>\n",
       "    <tr>\n",
       "      <th>0</th>\n",
       "      <td>Andhra Pradesh</td>\n",
       "      <td>4.019711</td>\n",
       "    </tr>\n",
       "    <tr>\n",
       "      <th>1</th>\n",
       "      <td>Arunachal Pradesh</td>\n",
       "      <td>4.154248</td>\n",
       "    </tr>\n",
       "    <tr>\n",
       "      <th>2</th>\n",
       "      <td>Chhattisgarh</td>\n",
       "      <td>4.111963</td>\n",
       "    </tr>\n",
       "    <tr>\n",
       "      <th>3</th>\n",
       "      <td>Delhi</td>\n",
       "      <td>3.884944</td>\n",
       "    </tr>\n",
       "    <tr>\n",
       "      <th>4</th>\n",
       "      <td>Gujarat</td>\n",
       "      <td>3.936198</td>\n",
       "    </tr>\n",
       "    <tr>\n",
       "      <th>5</th>\n",
       "      <td>Haryana</td>\n",
       "      <td>4.074761</td>\n",
       "    </tr>\n",
       "    <tr>\n",
       "      <th>6</th>\n",
       "      <td>Himachal Pradesh</td>\n",
       "      <td>4.149554</td>\n",
       "    </tr>\n",
       "    <tr>\n",
       "      <th>7</th>\n",
       "      <td>Jammu &amp; Kashmir</td>\n",
       "      <td>4.043765</td>\n",
       "    </tr>\n",
       "    <tr>\n",
       "      <th>8</th>\n",
       "      <td>Karnataka</td>\n",
       "      <td>4.033441</td>\n",
       "    </tr>\n",
       "    <tr>\n",
       "      <th>9</th>\n",
       "      <td>Kerala</td>\n",
       "      <td>4.243902</td>\n",
       "    </tr>\n",
       "    <tr>\n",
       "      <th>10</th>\n",
       "      <td>Madhya Pradesh</td>\n",
       "      <td>4.034047</td>\n",
       "    </tr>\n",
       "    <tr>\n",
       "      <th>11</th>\n",
       "      <td>Maharashtra</td>\n",
       "      <td>4.004762</td>\n",
       "    </tr>\n",
       "    <tr>\n",
       "      <th>12</th>\n",
       "      <td>Orissa</td>\n",
       "      <td>4.229412</td>\n",
       "    </tr>\n",
       "    <tr>\n",
       "      <th>13</th>\n",
       "      <td>Punjab</td>\n",
       "      <td>3.523810</td>\n",
       "    </tr>\n",
       "    <tr>\n",
       "      <th>14</th>\n",
       "      <td>Rajasthan</td>\n",
       "      <td>4.036458</td>\n",
       "    </tr>\n",
       "    <tr>\n",
       "      <th>15</th>\n",
       "      <td>Tamil Nadu</td>\n",
       "      <td>3.847345</td>\n",
       "    </tr>\n",
       "    <tr>\n",
       "      <th>16</th>\n",
       "      <td>Uttar Pradesh</td>\n",
       "      <td>3.657143</td>\n",
       "    </tr>\n",
       "    <tr>\n",
       "      <th>17</th>\n",
       "      <td>Uttaranchal</td>\n",
       "      <td>4.524590</td>\n",
       "    </tr>\n",
       "    <tr>\n",
       "      <th>18</th>\n",
       "      <td>West Bengal</td>\n",
       "      <td>4.185430</td>\n",
       "    </tr>\n",
       "  </tbody>\n",
       "</table>\n",
       "</div>"
      ],
      "text/plain": [
       "         seller_state  review_score\n",
       "0      Andhra Pradesh      4.019711\n",
       "1   Arunachal Pradesh      4.154248\n",
       "2        Chhattisgarh      4.111963\n",
       "3               Delhi      3.884944\n",
       "4             Gujarat      3.936198\n",
       "5             Haryana      4.074761\n",
       "6    Himachal Pradesh      4.149554\n",
       "7     Jammu & Kashmir      4.043765\n",
       "8           Karnataka      4.033441\n",
       "9              Kerala      4.243902\n",
       "10     Madhya Pradesh      4.034047\n",
       "11        Maharashtra      4.004762\n",
       "12             Orissa      4.229412\n",
       "13             Punjab      3.523810\n",
       "14          Rajasthan      4.036458\n",
       "15         Tamil Nadu      3.847345\n",
       "16      Uttar Pradesh      3.657143\n",
       "17        Uttaranchal      4.524590\n",
       "18        West Bengal      4.185430"
      ]
     },
     "execution_count": 163,
     "metadata": {},
     "output_type": "execute_result"
    }
   ],
   "source": [
    "# rating by location\n",
    "location_ratings = tab1.groupby('seller_state')['review_score'].mean().reset_index()\n",
    "location_ratings.columns = ['seller_state', 'review_score']\n",
    "location_ratings"
   ]
  },
  {
   "cell_type": "code",
   "execution_count": 164,
   "id": "e54cbe82",
   "metadata": {},
   "outputs": [
    {
     "data": {
      "text/html": [
       "<div>\n",
       "<style scoped>\n",
       "    .dataframe tbody tr th:only-of-type {\n",
       "        vertical-align: middle;\n",
       "    }\n",
       "\n",
       "    .dataframe tbody tr th {\n",
       "        vertical-align: top;\n",
       "    }\n",
       "\n",
       "    .dataframe thead th {\n",
       "        text-align: right;\n",
       "    }\n",
       "</style>\n",
       "<table border=\"1\" class=\"dataframe\">\n",
       "  <thead>\n",
       "    <tr style=\"text-align: right;\">\n",
       "      <th></th>\n",
       "      <th>seller_id</th>\n",
       "      <th>review_score</th>\n",
       "    </tr>\n",
       "  </thead>\n",
       "  <tbody>\n",
       "    <tr>\n",
       "      <th>0</th>\n",
       "      <td>0015a82c2db000af6aaaf3ae2ecb0532</td>\n",
       "      <td>3.666667</td>\n",
       "    </tr>\n",
       "    <tr>\n",
       "      <th>1</th>\n",
       "      <td>001cca7ae9ae17fb1caed9dfb1094831</td>\n",
       "      <td>3.874477</td>\n",
       "    </tr>\n",
       "    <tr>\n",
       "      <th>2</th>\n",
       "      <td>001e6ad469a905060d959994f1b41e4f</td>\n",
       "      <td>1.000000</td>\n",
       "    </tr>\n",
       "    <tr>\n",
       "      <th>3</th>\n",
       "      <td>002100f778ceb8431b7a1020ff7ab48f</td>\n",
       "      <td>3.982143</td>\n",
       "    </tr>\n",
       "    <tr>\n",
       "      <th>4</th>\n",
       "      <td>003554e2dce176b5555353e4f3555ac8</td>\n",
       "      <td>5.000000</td>\n",
       "    </tr>\n",
       "    <tr>\n",
       "      <th>...</th>\n",
       "      <td>...</td>\n",
       "      <td>...</td>\n",
       "    </tr>\n",
       "    <tr>\n",
       "      <th>3090</th>\n",
       "      <td>ffcfefa19b08742c5d315f2791395ee5</td>\n",
       "      <td>1.000000</td>\n",
       "    </tr>\n",
       "    <tr>\n",
       "      <th>3091</th>\n",
       "      <td>ffdd9f82b9a447f6f8d4b91554cc7dd3</td>\n",
       "      <td>4.250000</td>\n",
       "    </tr>\n",
       "    <tr>\n",
       "      <th>3092</th>\n",
       "      <td>ffeee66ac5d5a62fe688b9d26f83f534</td>\n",
       "      <td>4.214286</td>\n",
       "    </tr>\n",
       "    <tr>\n",
       "      <th>3093</th>\n",
       "      <td>fffd5413c0700ac820c7069d66d98c89</td>\n",
       "      <td>3.885246</td>\n",
       "    </tr>\n",
       "    <tr>\n",
       "      <th>3094</th>\n",
       "      <td>ffff564a4f9085cd26170f4732393726</td>\n",
       "      <td>2.100000</td>\n",
       "    </tr>\n",
       "  </tbody>\n",
       "</table>\n",
       "<p>3095 rows × 2 columns</p>\n",
       "</div>"
      ],
      "text/plain": [
       "                             seller_id  review_score\n",
       "0     0015a82c2db000af6aaaf3ae2ecb0532      3.666667\n",
       "1     001cca7ae9ae17fb1caed9dfb1094831      3.874477\n",
       "2     001e6ad469a905060d959994f1b41e4f      1.000000\n",
       "3     002100f778ceb8431b7a1020ff7ab48f      3.982143\n",
       "4     003554e2dce176b5555353e4f3555ac8      5.000000\n",
       "...                                ...           ...\n",
       "3090  ffcfefa19b08742c5d315f2791395ee5      1.000000\n",
       "3091  ffdd9f82b9a447f6f8d4b91554cc7dd3      4.250000\n",
       "3092  ffeee66ac5d5a62fe688b9d26f83f534      4.214286\n",
       "3093  fffd5413c0700ac820c7069d66d98c89      3.885246\n",
       "3094  ffff564a4f9085cd26170f4732393726      2.100000\n",
       "\n",
       "[3095 rows x 2 columns]"
      ]
     },
     "execution_count": 164,
     "metadata": {},
     "output_type": "execute_result"
    }
   ],
   "source": [
    "# rating by seller\n",
    "seller_ratings = tab1.groupby('seller_id')['review_score'].mean().reset_index()\n",
    "seller_ratings.columns = ['seller_id', 'review_score']\n",
    "seller_ratings"
   ]
  },
  {
   "cell_type": "code",
   "execution_count": 165,
   "id": "c25507e1",
   "metadata": {},
   "outputs": [
    {
     "data": {
      "text/html": [
       "<div>\n",
       "<style scoped>\n",
       "    .dataframe tbody tr th:only-of-type {\n",
       "        vertical-align: middle;\n",
       "    }\n",
       "\n",
       "    .dataframe tbody tr th {\n",
       "        vertical-align: top;\n",
       "    }\n",
       "\n",
       "    .dataframe thead th {\n",
       "        text-align: right;\n",
       "    }\n",
       "</style>\n",
       "<table border=\"1\" class=\"dataframe\">\n",
       "  <thead>\n",
       "    <tr style=\"text-align: right;\">\n",
       "      <th></th>\n",
       "      <th>product_id</th>\n",
       "      <th>review_score</th>\n",
       "    </tr>\n",
       "  </thead>\n",
       "  <tbody>\n",
       "    <tr>\n",
       "      <th>0</th>\n",
       "      <td>00066f42aeeb9f3007548bb9d3f33c38</td>\n",
       "      <td>5.0</td>\n",
       "    </tr>\n",
       "    <tr>\n",
       "      <th>1</th>\n",
       "      <td>00088930e925c41fd95ebfe695fd2655</td>\n",
       "      <td>4.0</td>\n",
       "    </tr>\n",
       "    <tr>\n",
       "      <th>2</th>\n",
       "      <td>0009406fd7479715e4bef61dd91f2462</td>\n",
       "      <td>1.0</td>\n",
       "    </tr>\n",
       "    <tr>\n",
       "      <th>3</th>\n",
       "      <td>000b8f95fcb9e0096488278317764d19</td>\n",
       "      <td>5.0</td>\n",
       "    </tr>\n",
       "    <tr>\n",
       "      <th>4</th>\n",
       "      <td>000d9be29b5207b54e86aa1b1ac54872</td>\n",
       "      <td>5.0</td>\n",
       "    </tr>\n",
       "    <tr>\n",
       "      <th>...</th>\n",
       "      <td>...</td>\n",
       "      <td>...</td>\n",
       "    </tr>\n",
       "    <tr>\n",
       "      <th>32946</th>\n",
       "      <td>fff6177642830a9a94a0f2cba5e476d1</td>\n",
       "      <td>4.5</td>\n",
       "    </tr>\n",
       "    <tr>\n",
       "      <th>32947</th>\n",
       "      <td>fff81cc3158d2725c0655ab9ba0f712c</td>\n",
       "      <td>4.0</td>\n",
       "    </tr>\n",
       "    <tr>\n",
       "      <th>32948</th>\n",
       "      <td>fff9553ac224cec9d15d49f5a263411f</td>\n",
       "      <td>5.0</td>\n",
       "    </tr>\n",
       "    <tr>\n",
       "      <th>32949</th>\n",
       "      <td>fffdb2d0ec8d6a61f0a0a0db3f25b441</td>\n",
       "      <td>5.0</td>\n",
       "    </tr>\n",
       "    <tr>\n",
       "      <th>32950</th>\n",
       "      <td>fffe9eeff12fcbd74a2f2b007dde0c58</td>\n",
       "      <td>4.0</td>\n",
       "    </tr>\n",
       "  </tbody>\n",
       "</table>\n",
       "<p>32951 rows × 2 columns</p>\n",
       "</div>"
      ],
      "text/plain": [
       "                             product_id  review_score\n",
       "0      00066f42aeeb9f3007548bb9d3f33c38           5.0\n",
       "1      00088930e925c41fd95ebfe695fd2655           4.0\n",
       "2      0009406fd7479715e4bef61dd91f2462           1.0\n",
       "3      000b8f95fcb9e0096488278317764d19           5.0\n",
       "4      000d9be29b5207b54e86aa1b1ac54872           5.0\n",
       "...                                 ...           ...\n",
       "32946  fff6177642830a9a94a0f2cba5e476d1           4.5\n",
       "32947  fff81cc3158d2725c0655ab9ba0f712c           4.0\n",
       "32948  fff9553ac224cec9d15d49f5a263411f           5.0\n",
       "32949  fffdb2d0ec8d6a61f0a0a0db3f25b441           5.0\n",
       "32950  fffe9eeff12fcbd74a2f2b007dde0c58           4.0\n",
       "\n",
       "[32951 rows x 2 columns]"
      ]
     },
     "execution_count": 165,
     "metadata": {},
     "output_type": "execute_result"
    }
   ],
   "source": [
    "# rating by product\n",
    "product_ratings"
   ]
  },
  {
   "cell_type": "code",
   "execution_count": 166,
   "id": "346d9183",
   "metadata": {},
   "outputs": [
    {
     "data": {
      "text/html": [
       "<div>\n",
       "<style scoped>\n",
       "    .dataframe tbody tr th:only-of-type {\n",
       "        vertical-align: middle;\n",
       "    }\n",
       "\n",
       "    .dataframe tbody tr th {\n",
       "        vertical-align: top;\n",
       "    }\n",
       "\n",
       "    .dataframe thead th {\n",
       "        text-align: right;\n",
       "    }\n",
       "</style>\n",
       "<table border=\"1\" class=\"dataframe\">\n",
       "  <thead>\n",
       "    <tr style=\"text-align: right;\">\n",
       "      <th></th>\n",
       "      <th>product_category_name</th>\n",
       "      <th>review_score</th>\n",
       "    </tr>\n",
       "  </thead>\n",
       "  <tbody>\n",
       "    <tr>\n",
       "      <th>0</th>\n",
       "      <td>Agro_Industry_And_Commerce</td>\n",
       "      <td>4.000000</td>\n",
       "    </tr>\n",
       "    <tr>\n",
       "      <th>1</th>\n",
       "      <td>Air_Conditioning</td>\n",
       "      <td>3.919192</td>\n",
       "    </tr>\n",
       "    <tr>\n",
       "      <th>2</th>\n",
       "      <td>Art</td>\n",
       "      <td>3.918660</td>\n",
       "    </tr>\n",
       "    <tr>\n",
       "      <th>3</th>\n",
       "      <td>Arts_And_Craftmanship</td>\n",
       "      <td>4.125000</td>\n",
       "    </tr>\n",
       "    <tr>\n",
       "      <th>4</th>\n",
       "      <td>Audio</td>\n",
       "      <td>3.808219</td>\n",
       "    </tr>\n",
       "    <tr>\n",
       "      <th>...</th>\n",
       "      <td>...</td>\n",
       "      <td>...</td>\n",
       "    </tr>\n",
       "    <tr>\n",
       "      <th>66</th>\n",
       "      <td>Stationery</td>\n",
       "      <td>4.181386</td>\n",
       "    </tr>\n",
       "    <tr>\n",
       "      <th>67</th>\n",
       "      <td>Tablets_Printing_Image</td>\n",
       "      <td>4.048193</td>\n",
       "    </tr>\n",
       "    <tr>\n",
       "      <th>68</th>\n",
       "      <td>Telephony</td>\n",
       "      <td>3.935604</td>\n",
       "    </tr>\n",
       "    <tr>\n",
       "      <th>69</th>\n",
       "      <td>Toys</td>\n",
       "      <td>4.138667</td>\n",
       "    </tr>\n",
       "    <tr>\n",
       "      <th>70</th>\n",
       "      <td>Watches_Gifts</td>\n",
       "      <td>4.002000</td>\n",
       "    </tr>\n",
       "  </tbody>\n",
       "</table>\n",
       "<p>71 rows × 2 columns</p>\n",
       "</div>"
      ],
      "text/plain": [
       "         product_category_name  review_score\n",
       "0   Agro_Industry_And_Commerce      4.000000\n",
       "1             Air_Conditioning      3.919192\n",
       "2                          Art      3.918660\n",
       "3        Arts_And_Craftmanship      4.125000\n",
       "4                        Audio      3.808219\n",
       "..                         ...           ...\n",
       "66                  Stationery      4.181386\n",
       "67      Tablets_Printing_Image      4.048193\n",
       "68                   Telephony      3.935604\n",
       "69                        Toys      4.138667\n",
       "70               Watches_Gifts      4.002000\n",
       "\n",
       "[71 rows x 2 columns]"
      ]
     },
     "execution_count": 166,
     "metadata": {},
     "output_type": "execute_result"
    }
   ],
   "source": [
    "# rating by category\n",
    "category_ratings"
   ]
  },
  {
   "cell_type": "code",
   "execution_count": 167,
   "id": "42775cbd",
   "metadata": {},
   "outputs": [
    {
     "data": {
      "text/html": [
       "<div>\n",
       "<style scoped>\n",
       "    .dataframe tbody tr th:only-of-type {\n",
       "        vertical-align: middle;\n",
       "    }\n",
       "\n",
       "    .dataframe tbody tr th {\n",
       "        vertical-align: top;\n",
       "    }\n",
       "\n",
       "    .dataframe thead th {\n",
       "        text-align: right;\n",
       "    }\n",
       "</style>\n",
       "<table border=\"1\" class=\"dataframe\">\n",
       "  <thead>\n",
       "    <tr style=\"text-align: right;\">\n",
       "      <th></th>\n",
       "      <th>month</th>\n",
       "      <th>review_score</th>\n",
       "    </tr>\n",
       "  </thead>\n",
       "  <tbody>\n",
       "    <tr>\n",
       "      <th>0</th>\n",
       "      <td>2016-09</td>\n",
       "      <td>1.000000</td>\n",
       "    </tr>\n",
       "    <tr>\n",
       "      <th>1</th>\n",
       "      <td>2016-10</td>\n",
       "      <td>3.567935</td>\n",
       "    </tr>\n",
       "    <tr>\n",
       "      <th>2</th>\n",
       "      <td>2016-12</td>\n",
       "      <td>5.000000</td>\n",
       "    </tr>\n",
       "    <tr>\n",
       "      <th>3</th>\n",
       "      <td>2017-01</td>\n",
       "      <td>4.052795</td>\n",
       "    </tr>\n",
       "    <tr>\n",
       "      <th>4</th>\n",
       "      <td>2017-02</td>\n",
       "      <td>4.042813</td>\n",
       "    </tr>\n",
       "    <tr>\n",
       "      <th>5</th>\n",
       "      <td>2017-03</td>\n",
       "      <td>4.041722</td>\n",
       "    </tr>\n",
       "    <tr>\n",
       "      <th>6</th>\n",
       "      <td>2017-04</td>\n",
       "      <td>3.987375</td>\n",
       "    </tr>\n",
       "    <tr>\n",
       "      <th>7</th>\n",
       "      <td>2017-05</td>\n",
       "      <td>4.118364</td>\n",
       "    </tr>\n",
       "    <tr>\n",
       "      <th>8</th>\n",
       "      <td>2017-06</td>\n",
       "      <td>4.118265</td>\n",
       "    </tr>\n",
       "    <tr>\n",
       "      <th>9</th>\n",
       "      <td>2017-07</td>\n",
       "      <td>4.126835</td>\n",
       "    </tr>\n",
       "    <tr>\n",
       "      <th>10</th>\n",
       "      <td>2017-08</td>\n",
       "      <td>4.193997</td>\n",
       "    </tr>\n",
       "    <tr>\n",
       "      <th>11</th>\n",
       "      <td>2017-09</td>\n",
       "      <td>4.123510</td>\n",
       "    </tr>\n",
       "    <tr>\n",
       "      <th>12</th>\n",
       "      <td>2017-10</td>\n",
       "      <td>4.041162</td>\n",
       "    </tr>\n",
       "    <tr>\n",
       "      <th>13</th>\n",
       "      <td>2017-11</td>\n",
       "      <td>3.830450</td>\n",
       "    </tr>\n",
       "    <tr>\n",
       "      <th>14</th>\n",
       "      <td>2017-12</td>\n",
       "      <td>3.941139</td>\n",
       "    </tr>\n",
       "    <tr>\n",
       "      <th>15</th>\n",
       "      <td>2018-01</td>\n",
       "      <td>3.932470</td>\n",
       "    </tr>\n",
       "    <tr>\n",
       "      <th>16</th>\n",
       "      <td>2018-02</td>\n",
       "      <td>3.718585</td>\n",
       "    </tr>\n",
       "    <tr>\n",
       "      <th>17</th>\n",
       "      <td>2018-03</td>\n",
       "      <td>3.676709</td>\n",
       "    </tr>\n",
       "    <tr>\n",
       "      <th>18</th>\n",
       "      <td>2018-04</td>\n",
       "      <td>4.059972</td>\n",
       "    </tr>\n",
       "    <tr>\n",
       "      <th>19</th>\n",
       "      <td>2018-05</td>\n",
       "      <td>4.119723</td>\n",
       "    </tr>\n",
       "    <tr>\n",
       "      <th>20</th>\n",
       "      <td>2018-06</td>\n",
       "      <td>4.176595</td>\n",
       "    </tr>\n",
       "    <tr>\n",
       "      <th>21</th>\n",
       "      <td>2018-07</td>\n",
       "      <td>4.212087</td>\n",
       "    </tr>\n",
       "    <tr>\n",
       "      <th>22</th>\n",
       "      <td>2018-08</td>\n",
       "      <td>4.206897</td>\n",
       "    </tr>\n",
       "    <tr>\n",
       "      <th>23</th>\n",
       "      <td>2018-09</td>\n",
       "      <td>1.000000</td>\n",
       "    </tr>\n",
       "  </tbody>\n",
       "</table>\n",
       "</div>"
      ],
      "text/plain": [
       "      month  review_score\n",
       "0   2016-09      1.000000\n",
       "1   2016-10      3.567935\n",
       "2   2016-12      5.000000\n",
       "3   2017-01      4.052795\n",
       "4   2017-02      4.042813\n",
       "5   2017-03      4.041722\n",
       "6   2017-04      3.987375\n",
       "7   2017-05      4.118364\n",
       "8   2017-06      4.118265\n",
       "9   2017-07      4.126835\n",
       "10  2017-08      4.193997\n",
       "11  2017-09      4.123510\n",
       "12  2017-10      4.041162\n",
       "13  2017-11      3.830450\n",
       "14  2017-12      3.941139\n",
       "15  2018-01      3.932470\n",
       "16  2018-02      3.718585\n",
       "17  2018-03      3.676709\n",
       "18  2018-04      4.059972\n",
       "19  2018-05      4.119723\n",
       "20  2018-06      4.176595\n",
       "21  2018-07      4.212087\n",
       "22  2018-08      4.206897\n",
       "23  2018-09      1.000000"
      ]
     },
     "execution_count": 167,
     "metadata": {},
     "output_type": "execute_result"
    }
   ],
   "source": [
    "# rating by months\n",
    "month_ratings = tab1.groupby('month')['review_score'].mean().reset_index()\n",
    "month_ratings.columns = ['month', 'review_score']\n",
    "month_ratings"
   ]
  },
  {
   "cell_type": "code",
   "execution_count": null,
   "id": "142f18e9",
   "metadata": {},
   "outputs": [],
   "source": []
  }
 ],
 "metadata": {
  "kernelspec": {
   "display_name": "Python 3 (ipykernel)",
   "language": "python",
   "name": "python3"
  },
  "language_info": {
   "codemirror_mode": {
    "name": "ipython",
    "version": 3
   },
   "file_extension": ".py",
   "mimetype": "text/x-python",
   "name": "python",
   "nbconvert_exporter": "python",
   "pygments_lexer": "ipython3",
   "version": "3.11.5"
  }
 },
 "nbformat": 4,
 "nbformat_minor": 5
}
