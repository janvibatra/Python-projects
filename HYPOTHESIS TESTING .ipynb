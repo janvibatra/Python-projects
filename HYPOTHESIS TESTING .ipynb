{
 "cells": [
  {
   "cell_type": "code",
   "execution_count": 1,
   "id": "660d68f5",
   "metadata": {},
   "outputs": [],
   "source": [
    "#import the packeges\n",
    "import numpy as np\n",
    "import pandas as pd\n",
    "import matplotlib.pyplot as plt\n",
    "import seaborn as sns\n",
    "\n",
    "#import the stats package\n",
    "import scipy.stats as stats"
   ]
  },
  {
   "cell_type": "markdown",
   "id": "32ee7f11",
   "metadata": {},
   "source": [
    "### BUSINESS PROBLEM - 1"
   ]
  },
  {
   "cell_type": "code",
   "execution_count": 2,
   "id": "105e690f",
   "metadata": {},
   "outputs": [],
   "source": [
    "#upload the data\n",
    "loans=pd.read_csv('LoansData.csv')"
   ]
  },
  {
   "cell_type": "code",
   "execution_count": 3,
   "id": "ade80454",
   "metadata": {},
   "outputs": [
    {
     "data": {
      "text/html": [
       "<div>\n",
       "<style scoped>\n",
       "    .dataframe tbody tr th:only-of-type {\n",
       "        vertical-align: middle;\n",
       "    }\n",
       "\n",
       "    .dataframe tbody tr th {\n",
       "        vertical-align: top;\n",
       "    }\n",
       "\n",
       "    .dataframe thead th {\n",
       "        text-align: right;\n",
       "    }\n",
       "</style>\n",
       "<table border=\"1\" class=\"dataframe\">\n",
       "  <thead>\n",
       "    <tr style=\"text-align: right;\">\n",
       "      <th></th>\n",
       "      <th>LoanID</th>\n",
       "      <th>Amount.Requested</th>\n",
       "      <th>Amount.Funded.By.Investors</th>\n",
       "      <th>Interest.Rate</th>\n",
       "      <th>Loan.Length</th>\n",
       "      <th>Loan.Purpose</th>\n",
       "      <th>Debt.To.Income.Ratio</th>\n",
       "      <th>State</th>\n",
       "      <th>Home.Ownership</th>\n",
       "      <th>Monthly.Income</th>\n",
       "      <th>FICO.Range</th>\n",
       "      <th>Open.CREDIT.Lines</th>\n",
       "      <th>Revolving.CREDIT.Balance</th>\n",
       "      <th>Inquiries.in.the.Last.6.Months</th>\n",
       "      <th>Employment.Length</th>\n",
       "    </tr>\n",
       "  </thead>\n",
       "  <tbody>\n",
       "    <tr>\n",
       "      <th>0</th>\n",
       "      <td>1</td>\n",
       "      <td>20000.0</td>\n",
       "      <td>20000.0</td>\n",
       "      <td>8.90%</td>\n",
       "      <td>36 months</td>\n",
       "      <td>debt_consolidation</td>\n",
       "      <td>14.90%</td>\n",
       "      <td>SC</td>\n",
       "      <td>MORTGAGE</td>\n",
       "      <td>6541.67</td>\n",
       "      <td>735-739</td>\n",
       "      <td>14.0</td>\n",
       "      <td>14272.0</td>\n",
       "      <td>2.0</td>\n",
       "      <td>&lt; 1 year</td>\n",
       "    </tr>\n",
       "    <tr>\n",
       "      <th>1</th>\n",
       "      <td>2</td>\n",
       "      <td>19200.0</td>\n",
       "      <td>19200.0</td>\n",
       "      <td>12.12%</td>\n",
       "      <td>36 months</td>\n",
       "      <td>debt_consolidation</td>\n",
       "      <td>28.36%</td>\n",
       "      <td>TX</td>\n",
       "      <td>MORTGAGE</td>\n",
       "      <td>4583.33</td>\n",
       "      <td>715-719</td>\n",
       "      <td>12.0</td>\n",
       "      <td>11140.0</td>\n",
       "      <td>1.0</td>\n",
       "      <td>2 years</td>\n",
       "    </tr>\n",
       "    <tr>\n",
       "      <th>2</th>\n",
       "      <td>3</td>\n",
       "      <td>35000.0</td>\n",
       "      <td>35000.0</td>\n",
       "      <td>21.98%</td>\n",
       "      <td>60 months</td>\n",
       "      <td>debt_consolidation</td>\n",
       "      <td>23.81%</td>\n",
       "      <td>CA</td>\n",
       "      <td>MORTGAGE</td>\n",
       "      <td>11500.00</td>\n",
       "      <td>690-694</td>\n",
       "      <td>14.0</td>\n",
       "      <td>21977.0</td>\n",
       "      <td>1.0</td>\n",
       "      <td>2 years</td>\n",
       "    </tr>\n",
       "    <tr>\n",
       "      <th>3</th>\n",
       "      <td>4</td>\n",
       "      <td>10000.0</td>\n",
       "      <td>9975.0</td>\n",
       "      <td>9.99%</td>\n",
       "      <td>36 months</td>\n",
       "      <td>debt_consolidation</td>\n",
       "      <td>14.30%</td>\n",
       "      <td>KS</td>\n",
       "      <td>MORTGAGE</td>\n",
       "      <td>3833.33</td>\n",
       "      <td>695-699</td>\n",
       "      <td>10.0</td>\n",
       "      <td>9346.0</td>\n",
       "      <td>0.0</td>\n",
       "      <td>5 years</td>\n",
       "    </tr>\n",
       "    <tr>\n",
       "      <th>4</th>\n",
       "      <td>5</td>\n",
       "      <td>12000.0</td>\n",
       "      <td>12000.0</td>\n",
       "      <td>11.71%</td>\n",
       "      <td>36 months</td>\n",
       "      <td>credit_card</td>\n",
       "      <td>18.78%</td>\n",
       "      <td>NJ</td>\n",
       "      <td>RENT</td>\n",
       "      <td>3195.00</td>\n",
       "      <td>695-699</td>\n",
       "      <td>11.0</td>\n",
       "      <td>14469.0</td>\n",
       "      <td>0.0</td>\n",
       "      <td>9 years</td>\n",
       "    </tr>\n",
       "  </tbody>\n",
       "</table>\n",
       "</div>"
      ],
      "text/plain": [
       "   LoanID  Amount.Requested  Amount.Funded.By.Investors Interest.Rate  \\\n",
       "0       1           20000.0                     20000.0         8.90%   \n",
       "1       2           19200.0                     19200.0        12.12%   \n",
       "2       3           35000.0                     35000.0        21.98%   \n",
       "3       4           10000.0                      9975.0         9.99%   \n",
       "4       5           12000.0                     12000.0        11.71%   \n",
       "\n",
       "  Loan.Length        Loan.Purpose Debt.To.Income.Ratio State Home.Ownership  \\\n",
       "0   36 months  debt_consolidation               14.90%    SC       MORTGAGE   \n",
       "1   36 months  debt_consolidation               28.36%    TX       MORTGAGE   \n",
       "2   60 months  debt_consolidation               23.81%    CA       MORTGAGE   \n",
       "3   36 months  debt_consolidation               14.30%    KS       MORTGAGE   \n",
       "4   36 months         credit_card               18.78%    NJ           RENT   \n",
       "\n",
       "   Monthly.Income FICO.Range  Open.CREDIT.Lines  Revolving.CREDIT.Balance  \\\n",
       "0         6541.67    735-739               14.0                   14272.0   \n",
       "1         4583.33    715-719               12.0                   11140.0   \n",
       "2        11500.00    690-694               14.0                   21977.0   \n",
       "3         3833.33    695-699               10.0                    9346.0   \n",
       "4         3195.00    695-699               11.0                   14469.0   \n",
       "\n",
       "   Inquiries.in.the.Last.6.Months Employment.Length  \n",
       "0                             2.0          < 1 year  \n",
       "1                             1.0           2 years  \n",
       "2                             1.0           2 years  \n",
       "3                             0.0           5 years  \n",
       "4                             0.0           9 years  "
      ]
     },
     "execution_count": 3,
     "metadata": {},
     "output_type": "execute_result"
    }
   ],
   "source": [
    "loans.head()"
   ]
  },
  {
   "cell_type": "code",
   "execution_count": 4,
   "id": "838b522a",
   "metadata": {},
   "outputs": [],
   "source": [
    "loans.rename(columns={'Amount.Requested':'Amount_Requested','Amount.Funded.By.Investors':'Amount_Funded_By_Investors','Interest.Rate':'Interest_Rate','Loan.Length':'Loan_Length','Loan.Purpose':'Loan_Purpose','Debt.To.Income.Ratio':'Debt_To_Income_Ratio','Home.Ownership':'Home_Ownership','Monthly.Income':'Monthly_Income','FICO.Range':'FICO_Range','Open.CREDIT.Lines':'Open_CREDIT_Lines','Revolving.CREDIT.Balance':'Revolving_CREDIT_Balance','Inquiries.in.the.Last.6.Months':'Inquiries_in_the_last_6_Months','Monthly.Income':'Monthly_Income','FICO.Range':'FICO_Range','Open.CREDIT.Lines':'Open_CREDIT_Lines','Revolving.CREDIT.Balance':'Revolving_CREDIT_Balance','Employment.Length':'Employment_Length'},inplace=True)\n"
   ]
  },
  {
   "cell_type": "code",
   "execution_count": 5,
   "id": "72eaf4c3",
   "metadata": {},
   "outputs": [
    {
     "name": "stdout",
     "output_type": "stream",
     "text": [
      "<class 'pandas.core.frame.DataFrame'>\n",
      "RangeIndex: 2500 entries, 0 to 2499\n",
      "Data columns (total 15 columns):\n",
      " #   Column                          Non-Null Count  Dtype  \n",
      "---  ------                          --------------  -----  \n",
      " 0   LoanID                          2500 non-null   int64  \n",
      " 1   Amount_Requested                2499 non-null   float64\n",
      " 2   Amount_Funded_By_Investors      2499 non-null   float64\n",
      " 3   Interest_Rate                   2498 non-null   object \n",
      " 4   Loan_Length                     2500 non-null   object \n",
      " 5   Loan_Purpose                    2500 non-null   object \n",
      " 6   Debt_To_Income_Ratio            2499 non-null   object \n",
      " 7   State                           2500 non-null   object \n",
      " 8   Home_Ownership                  2499 non-null   object \n",
      " 9   Monthly_Income                  2499 non-null   float64\n",
      " 10  FICO_Range                      2498 non-null   object \n",
      " 11  Open_CREDIT_Lines               2497 non-null   float64\n",
      " 12  Revolving_CREDIT_Balance        2497 non-null   float64\n",
      " 13  Inquiries_in_the_last_6_Months  2497 non-null   float64\n",
      " 14  Employment_Length               2423 non-null   object \n",
      "dtypes: float64(6), int64(1), object(8)\n",
      "memory usage: 293.1+ KB\n"
     ]
    }
   ],
   "source": [
    "loans.info()"
   ]
  },
  {
   "cell_type": "code",
   "execution_count": 6,
   "id": "e5ebe486",
   "metadata": {},
   "outputs": [],
   "source": [
    "#data cleaning\n",
    "loans['Interest_Rate']=loans['Interest_Rate'].str.replace('%','')\n",
    "loans['Interest_Rate']=loans['Interest_Rate'].astype(float)"
   ]
  },
  {
   "cell_type": "code",
   "execution_count": 7,
   "id": "59b3db41",
   "metadata": {},
   "outputs": [],
   "source": [
    "loans['Loan_Length']=loans['Loan_Length'].str.replace('months','')\n",
    "loans['Loan_Length']=loans['Loan_Length'].astype(float)"
   ]
  },
  {
   "cell_type": "code",
   "execution_count": 8,
   "id": "ed62a684",
   "metadata": {},
   "outputs": [
    {
     "data": {
      "text/plain": [
       "LoanID                             0\n",
       "Amount_Requested                   1\n",
       "Amount_Funded_By_Investors         1\n",
       "Interest_Rate                      2\n",
       "Loan_Length                        0\n",
       "Loan_Purpose                       0\n",
       "Debt_To_Income_Ratio               1\n",
       "State                              0\n",
       "Home_Ownership                     1\n",
       "Monthly_Income                     1\n",
       "FICO_Range                         2\n",
       "Open_CREDIT_Lines                  3\n",
       "Revolving_CREDIT_Balance           3\n",
       "Inquiries_in_the_last_6_Months     3\n",
       "Employment_Length                 77\n",
       "dtype: int64"
      ]
     },
     "execution_count": 8,
     "metadata": {},
     "output_type": "execute_result"
    }
   ],
   "source": [
    "#finding and replacing missing values\n",
    "loans.isna().sum()"
   ]
  },
  {
   "cell_type": "code",
   "execution_count": 9,
   "id": "fd17e3a6",
   "metadata": {},
   "outputs": [],
   "source": [
    "loans['Amount_Requested']=np.where(loans['Amount_Requested'].isna(),loans['Amount_Requested'].mean(),loans['Amount_Requested'])\n",
    "loans['Interest_Rate']=np.where(loans['Interest_Rate'].isna(),loans['Interest_Rate'].mean(),loans['Interest_Rate'])\n",
    "loans['FICO_Range']=np.where(loans['FICO_Range'].isna(),loans['FICO_Range'].mode(),loans['FICO_Range'])\n",
    "loans['Home_Ownership']=np.where(loans['Home_Ownership'].isna(),loans['Home_Ownership'].mode(),loans['Home_Ownership'])"
   ]
  },
  {
   "cell_type": "code",
   "execution_count": 10,
   "id": "70fbba83",
   "metadata": {},
   "outputs": [
    {
     "data": {
      "text/plain": [
       "LoanID                             0\n",
       "Amount_Requested                   0\n",
       "Amount_Funded_By_Investors         1\n",
       "Interest_Rate                      0\n",
       "Loan_Length                        0\n",
       "Loan_Purpose                       0\n",
       "Debt_To_Income_Ratio               1\n",
       "State                              0\n",
       "Home_Ownership                     0\n",
       "Monthly_Income                     1\n",
       "FICO_Range                         0\n",
       "Open_CREDIT_Lines                  3\n",
       "Revolving_CREDIT_Balance           3\n",
       "Inquiries_in_the_last_6_Months     3\n",
       "Employment_Length                 77\n",
       "dtype: int64"
      ]
     },
     "execution_count": 10,
     "metadata": {},
     "output_type": "execute_result"
    }
   ],
   "source": [
    "loans.isna().sum()"
   ]
  },
  {
   "cell_type": "code",
   "execution_count": 11,
   "id": "b20c5bbe",
   "metadata": {},
   "outputs": [
    {
     "name": "stdout",
     "output_type": "stream",
     "text": [
      "<class 'pandas.core.frame.DataFrame'>\n",
      "RangeIndex: 2500 entries, 0 to 2499\n",
      "Data columns (total 15 columns):\n",
      " #   Column                          Non-Null Count  Dtype  \n",
      "---  ------                          --------------  -----  \n",
      " 0   LoanID                          2500 non-null   int64  \n",
      " 1   Amount_Requested                2500 non-null   float64\n",
      " 2   Amount_Funded_By_Investors      2499 non-null   float64\n",
      " 3   Interest_Rate                   2500 non-null   float64\n",
      " 4   Loan_Length                     2500 non-null   float64\n",
      " 5   Loan_Purpose                    2500 non-null   object \n",
      " 6   Debt_To_Income_Ratio            2499 non-null   object \n",
      " 7   State                           2500 non-null   object \n",
      " 8   Home_Ownership                  2500 non-null   object \n",
      " 9   Monthly_Income                  2499 non-null   float64\n",
      " 10  FICO_Range                      2500 non-null   object \n",
      " 11  Open_CREDIT_Lines               2497 non-null   float64\n",
      " 12  Revolving_CREDIT_Balance        2497 non-null   float64\n",
      " 13  Inquiries_in_the_last_6_Months  2497 non-null   float64\n",
      " 14  Employment_Length               2423 non-null   object \n",
      "dtypes: float64(8), int64(1), object(6)\n",
      "memory usage: 293.1+ KB\n"
     ]
    }
   ],
   "source": [
    "loans.info()"
   ]
  },
  {
   "cell_type": "markdown",
   "id": "3a3fdc22",
   "metadata": {},
   "source": [
    "# a)  Intrest rate is varied for different loan amounts (Less intrest charged for high loan amounts)\n"
   ]
  },
  {
   "cell_type": "markdown",
   "id": "be63cca4",
   "metadata": {},
   "source": [
    "##### 1.) Define Null Hypothesis (H0):\n",
    "              #H0 : Intrest rate is not varied for different loan amounts.\n",
    "    \n",
    "#### 2.) Define Alternate Hyothesis (Ha):\n",
    "              #Ha : Intrest rate is  varied for different loan amounts.\n",
    "    \n",
    "#### 3.) Define CI and p-value:\n",
    "              #CI = 95%\n",
    "              #p-value=0.05%\n",
    "        \n",
    "#### 4.) Perform Test:\n",
    "              #Pearsonr Coefficient Test"
   ]
  },
  {
   "cell_type": "code",
   "execution_count": 12,
   "id": "06064668",
   "metadata": {},
   "outputs": [
    {
     "data": {
      "text/plain": [
       "PearsonRResult(statistic=0.3324464059665682, pvalue=1.4148683739785434e-65)"
      ]
     },
     "execution_count": 12,
     "metadata": {},
     "output_type": "execute_result"
    }
   ],
   "source": [
    "stats.pearsonr(loans['Interest_Rate'],loans['Amount_Requested'])"
   ]
  },
  {
   "cell_type": "markdown",
   "id": "318ed69b",
   "metadata": {},
   "source": [
    "#### 5.)Conclusion:\n",
    "            #Since the pearsonr test score is 0.332 which is a direct intermediate relation\n",
    "            #Hence we fail to accept null hypothesis"
   ]
  },
  {
   "cell_type": "code",
   "execution_count": null,
   "id": "acb4f5fa",
   "metadata": {},
   "outputs": [],
   "source": []
  },
  {
   "cell_type": "markdown",
   "id": "ce8e7fb2",
   "metadata": {},
   "source": [
    "### b) Loan length is directly effecting intrest rate"
   ]
  },
  {
   "cell_type": "markdown",
   "id": "758fdd80",
   "metadata": {},
   "source": [
    "### 1.) Define Null Hypothesis (H0):\n",
    "          #H0 : Loan length is not directly effecting interest rate .\n",
    "### 2.) Define Alternate Hyothesis (Ha):\n",
    "          #Ha : Loan length is  directly effecting interest rate .\n",
    "### 3.) Define CI and p-value:\n",
    "          #CI = 95%\n",
    "          #p-value=0.05%\n",
    "    \n",
    "### 4.) Perform Test:\n",
    "          #Pearsonr Coefficient Test"
   ]
  },
  {
   "cell_type": "code",
   "execution_count": 13,
   "id": "cb2bd20b",
   "metadata": {},
   "outputs": [
    {
     "data": {
      "text/plain": [
       "PearsonRResult(statistic=0.42417192416620575, pvalue=9.549596064332338e-110)"
      ]
     },
     "execution_count": 13,
     "metadata": {},
     "output_type": "execute_result"
    }
   ],
   "source": [
    "stats.pearsonr(loans['Loan_Length'],loans['Interest_Rate'])"
   ]
  },
  {
   "cell_type": "markdown",
   "id": "fc245747",
   "metadata": {},
   "source": [
    "### 5.)Conclusion:\n",
    "          # Since the pearsonr test score is 0.424 which is a direct intermediate relation\n",
    "          # hence we fail to accept null hypothesis"
   ]
  },
  {
   "cell_type": "code",
   "execution_count": null,
   "id": "572652a7",
   "metadata": {},
   "outputs": [],
   "source": []
  },
  {
   "cell_type": "markdown",
   "id": "7c563ec0",
   "metadata": {},
   "source": [
    "### c.)  Inrest rate varies for different purpose of loans"
   ]
  },
  {
   "cell_type": "code",
   "execution_count": 14,
   "id": "b59ac055",
   "metadata": {},
   "outputs": [
    {
     "data": {
      "text/plain": [
       "Loan_Purpose\n",
       "debt_consolidation    1307\n",
       "credit_card            444\n",
       "other                  201\n",
       "home_improvement       152\n",
       "major_purchase         101\n",
       "small_business          87\n",
       "car                     50\n",
       "wedding                 39\n",
       "medical                 30\n",
       "moving                  29\n",
       "vacation                21\n",
       "house                   20\n",
       "educational             15\n",
       "renewable_energy         4\n",
       "Name: count, dtype: int64"
      ]
     },
     "execution_count": 14,
     "metadata": {},
     "output_type": "execute_result"
    }
   ],
   "source": [
    "loans['Loan_Purpose'].value_counts()"
   ]
  },
  {
   "cell_type": "code",
   "execution_count": 15,
   "id": "586c8548",
   "metadata": {},
   "outputs": [],
   "source": [
    "debt=loans.Interest_Rate[loans['Loan_Purpose']=='debt_consolidation']\n",
    "credit=loans.Interest_Rate[loans['Loan_Purpose']=='credit_card']\n",
    "other=loans.Interest_Rate[loans['Loan_Purpose']=='other']\n",
    "home=loans.Interest_Rate[loans['Loan_Purpose']=='home_improvement']\n",
    "major=loans.Interest_Rate[loans['Loan_Purpose']=='major_purchase']\n",
    "small=loans.Interest_Rate[loans['Loan_Purpose']=='small_business']\n",
    "car=loans.Interest_Rate[loans['Loan_Purpose']=='car']\n",
    "wedding=loans.Interest_Rate[loans['Loan_Purpose']=='wedding']\n",
    "medical=loans.Interest_Rate[loans['Loan_Purpose']=='medical']\n",
    "moving=loans.Interest_Rate[loans['Loan_Purpose']=='moving']\n",
    "vacation=loans.Interest_Rate[loans['Loan_Purpose']=='vacation']\n",
    "house=loans.Interest_Rate[loans['Loan_Purpose']=='house']\n",
    "education=loans.Interest_Rate[loans['Loan_Purpose']=='educational']\n",
    "energy=loans.Interest_Rate[loans['Loan_Purpose']=='renewable_energy']"
   ]
  },
  {
   "cell_type": "code",
   "execution_count": 16,
   "id": "a7947b91",
   "metadata": {},
   "outputs": [
    {
     "name": "stdout",
     "output_type": "stream",
     "text": [
      "debt mean: 13.58691660290742\n",
      "credit mean: 13.05068781151047\n",
      "other mean: 13.15955223880597\n",
      "home mean: 11.594276315789473\n",
      "major mean: 10.797821782178216\n",
      "small mean: 12.83919540229885\n",
      "car mean: 11.113000000000001\n",
      "wedding mean: 12.073215084888425\n",
      "medical mean: 11.649666666666667\n",
      "moving mean: 13.621034482758622\n",
      "vacation mean: 11.966190476190476\n",
      "house mean: 13.447999999999999\n",
      "education mean: 11.007333333333332\n",
      "energy mean: 9.8775\n"
     ]
    }
   ],
   "source": [
    "u1=debt.mean()\n",
    "u2=credit.mean()\n",
    "u3=other.mean()\n",
    "u4=home.mean()\n",
    "u5=major.mean()\n",
    "u6=small.mean()\n",
    "u7=car.mean()\n",
    "u8=wedding.mean()\n",
    "u9=medical.mean()\n",
    "u10=moving.mean()\n",
    "u11=vacation.mean()\n",
    "u12=house.mean()\n",
    "u13=education.mean()\n",
    "u14=energy.mean()\n",
    "print('debt mean:',u1)\n",
    "print('credit mean:',u2)\n",
    "print('other mean:',u3)\n",
    "print('home mean:',u4)\n",
    "print('major mean:',u5)\n",
    "print('small mean:',u6)\n",
    "print('car mean:',u7)\n",
    "print('wedding mean:',u8)\n",
    "print('medical mean:',u9)\n",
    "print('moving mean:',u10)\n",
    "print('vacation mean:',u11)\n",
    "print('house mean:',u12)\n",
    "print('education mean:',u13)\n",
    "print('energy mean:',u14)"
   ]
  },
  {
   "cell_type": "markdown",
   "id": "b6425d08",
   "metadata": {},
   "source": [
    "### 1.) Define Null Hypothesis (H0):\n",
    "      #H0 : Inrest rate does not  varies for different purpose of loans .\n",
    "      #u1=u2=u3=.......=u14\n",
    "### 2.) Define Alternate Hyothesis (Ha):\n",
    "      #Ha : Inrest rate varies for different purpose of loans .\n",
    "      #u1=!u2=!=!u3=!............=!u14\n",
    "### 3.) Define CI and p-value:\n",
    "      #CI = 95%\n",
    "      #p-value=0.05%\n",
    "### 4.) Perform Test:\n",
    "      #F-Test"
   ]
  },
  {
   "cell_type": "code",
   "execution_count": 17,
   "id": "2818e024",
   "metadata": {},
   "outputs": [
    {
     "data": {
      "text/plain": [
       "F_onewayResult(statistic=7.482638784097436, pvalue=1.1599665535989115e-14)"
      ]
     },
     "execution_count": 17,
     "metadata": {},
     "output_type": "execute_result"
    }
   ],
   "source": [
    "stats.f_oneway(debt,credit,other,home,major,small,car,wedding,medical,moving,vacation,house,education,energy)"
   ]
  },
  {
   "cell_type": "markdown",
   "id": "42007a29",
   "metadata": {},
   "source": [
    "### 5.) Conclusion:\n",
    "         # new p-value = 1.159...e-14 < 0.05\n",
    "         # hence we fail to accept null hyothesis"
   ]
  },
  {
   "cell_type": "markdown",
   "id": "7017a574",
   "metadata": {},
   "source": [
    "### d.)  There is relationship between FICO scores and Home Ownership. It means that, People with owning home will have  high FICO scores.\n"
   ]
  },
  {
   "cell_type": "code",
   "execution_count": 18,
   "id": "b5bc2546",
   "metadata": {},
   "outputs": [],
   "source": [
    "loans['FICO_Range']=loans['FICO_Range'].astype(str).str.split('-')\n",
    "\n",
    "#replace ech range with range mean\n",
    "loans['FICO_Range']=loans['FICO_Range'].apply(lambda x: (int(x[0])+int(x[1]))/2)"
   ]
  },
  {
   "cell_type": "code",
   "execution_count": 19,
   "id": "3b62ca7e",
   "metadata": {},
   "outputs": [
    {
     "data": {
      "text/plain": [
       "Home_Ownership\n",
       "MORTGAGE    1148\n",
       "RENT        1146\n",
       "OWN          200\n",
       "OTHER          5\n",
       "NONE           1\n",
       "Name: count, dtype: int64"
      ]
     },
     "execution_count": 19,
     "metadata": {},
     "output_type": "execute_result"
    }
   ],
   "source": [
    "loans.Home_Ownership.value_counts()"
   ]
  },
  {
   "cell_type": "code",
   "execution_count": 20,
   "id": "ac157e2d",
   "metadata": {},
   "outputs": [],
   "source": [
    "mor=loans.FICO_Range[loans['Home_Ownership']=='MORTGAGE']\n",
    "rent=loans.FICO_Range[loans['Home_Ownership']=='RENT']\n",
    "own=loans.FICO_Range[loans['Home_Ownership']=='OWN']\n",
    "other=loans.FICO_Range[loans['Home_Ownership']=='OTHER']"
   ]
  },
  {
   "cell_type": "markdown",
   "id": "9b1c092a",
   "metadata": {},
   "source": [
    "### 1.) Define Null Hypothesis (H0):\n",
    "      #H0 : FICO SCORE and Home ownership will not have a direct relationship\n",
    "### 2.) Define Alternate Hyothesis (Ha):\n",
    "      #Ha : FICO SCORE and Home ownership will  have a direct relationship\n",
    "### 3.) Define CI and p-value:\n",
    "      #CI = 95%\n",
    "      #p-value=0.05%\n",
    "### 4.) Perform Test:\n",
    "      #F-Test"
   ]
  },
  {
   "cell_type": "code",
   "execution_count": 21,
   "id": "2b331a02",
   "metadata": {},
   "outputs": [
    {
     "data": {
      "text/plain": [
       "F_onewayResult(statistic=23.29739165105827, pvalue=7.180580645216916e-15)"
      ]
     },
     "execution_count": 21,
     "metadata": {},
     "output_type": "execute_result"
    }
   ],
   "source": [
    "stats.f_oneway(mor,rent,own,other)"
   ]
  },
  {
   "cell_type": "markdown",
   "id": "bac9e1ca",
   "metadata": {},
   "source": [
    "### Conclusion:\n",
    "       # since the new p-value is 7.180........e-15< 0.05\n",
    "       # hence, we reject the null hypothesis\n",
    "        "
   ]
  },
  {
   "cell_type": "markdown",
   "id": "bf2ec77c",
   "metadata": {},
   "source": []
  },
  {
   "cell_type": "markdown",
   "id": "89813efd",
   "metadata": {},
   "source": [
    "### BUSINESS PROBLEM - 2"
   ]
  },
  {
   "cell_type": "code",
   "execution_count": 22,
   "id": "cbe13978",
   "metadata": {},
   "outputs": [],
   "source": [
    "price=pd.read_csv('Price_Quotes.csv')"
   ]
  },
  {
   "cell_type": "code",
   "execution_count": 23,
   "id": "97fe9075",
   "metadata": {},
   "outputs": [
    {
     "data": {
      "text/html": [
       "<div>\n",
       "<style scoped>\n",
       "    .dataframe tbody tr th:only-of-type {\n",
       "        vertical-align: middle;\n",
       "    }\n",
       "\n",
       "    .dataframe tbody tr th {\n",
       "        vertical-align: top;\n",
       "    }\n",
       "\n",
       "    .dataframe thead th {\n",
       "        text-align: right;\n",
       "    }\n",
       "</style>\n",
       "<table border=\"1\" class=\"dataframe\">\n",
       "  <thead>\n",
       "    <tr style=\"text-align: right;\">\n",
       "      <th></th>\n",
       "      <th>Order_Number</th>\n",
       "      <th>Barry_Price</th>\n",
       "      <th>Mary_Price</th>\n",
       "    </tr>\n",
       "  </thead>\n",
       "  <tbody>\n",
       "    <tr>\n",
       "      <th>0</th>\n",
       "      <td>1</td>\n",
       "      <td>126</td>\n",
       "      <td>114</td>\n",
       "    </tr>\n",
       "    <tr>\n",
       "      <th>1</th>\n",
       "      <td>2</td>\n",
       "      <td>110</td>\n",
       "      <td>118</td>\n",
       "    </tr>\n",
       "    <tr>\n",
       "      <th>2</th>\n",
       "      <td>3</td>\n",
       "      <td>138</td>\n",
       "      <td>114</td>\n",
       "    </tr>\n",
       "    <tr>\n",
       "      <th>3</th>\n",
       "      <td>4</td>\n",
       "      <td>142</td>\n",
       "      <td>111</td>\n",
       "    </tr>\n",
       "    <tr>\n",
       "      <th>4</th>\n",
       "      <td>5</td>\n",
       "      <td>146</td>\n",
       "      <td>129</td>\n",
       "    </tr>\n",
       "  </tbody>\n",
       "</table>\n",
       "</div>"
      ],
      "text/plain": [
       "   Order_Number  Barry_Price  Mary_Price\n",
       "0             1          126         114\n",
       "1             2          110         118\n",
       "2             3          138         114\n",
       "3             4          142         111\n",
       "4             5          146         129"
      ]
     },
     "execution_count": 23,
     "metadata": {},
     "output_type": "execute_result"
    }
   ],
   "source": [
    "price.head()"
   ]
  },
  {
   "cell_type": "code",
   "execution_count": 24,
   "id": "170d786b",
   "metadata": {},
   "outputs": [
    {
     "name": "stdout",
     "output_type": "stream",
     "text": [
      "Barry mean price: 124.33333333333333\n",
      "Mary mean price: 114.75\n"
     ]
    }
   ],
   "source": [
    "u1=price.Barry_Price.mean()\n",
    "u2=price.Mary_Price.mean()\n",
    "print('Barry mean price:', u1)\n",
    "print('Mary mean price:', u2)"
   ]
  },
  {
   "cell_type": "markdown",
   "id": "57134bfa",
   "metadata": {},
   "source": [
    "### BUSINESS PROBLEM: We would like to assess if there is any difference in the average \n",
    "### price quotes provided by Mary and Barry.\n"
   ]
  },
  {
   "cell_type": "markdown",
   "id": "b81a50a0",
   "metadata": {},
   "source": [
    "### 1.) Define Null Hypothesis (H0):\n",
    "          #H0 : There is no difference in the average quotes provided by Barry and Mary.\n",
    "                 u1=u2    \n",
    "### 2.) Define Alternate Hyothesis (Ha):\n",
    "          #Ha : There is  difference in the average quotes provided by Barry and Mary.\n",
    "                 u1<>u2\n",
    "### 3.) Define CI and p-value:\n",
    "          #CI = 95%\n",
    "          #p-value=0.05%\n",
    "    \n",
    "### 4.) Perform Test:\n",
    "          #T-Test"
   ]
  },
  {
   "cell_type": "code",
   "execution_count": 25,
   "id": "1d0a93f9",
   "metadata": {},
   "outputs": [
    {
     "data": {
      "text/plain": [
       "TtestResult(statistic=1.4147436739281787, pvalue=0.17114226132118285, df=22.0)"
      ]
     },
     "execution_count": 25,
     "metadata": {},
     "output_type": "execute_result"
    }
   ],
   "source": [
    "stats.ttest_ind(price.Barry_Price,price.Mary_Price)"
   ]
  },
  {
   "cell_type": "markdown",
   "id": "7507c778",
   "metadata": {},
   "source": [
    "### Conclusion:\n",
    "         # since new p-value is 0.17 > 0.05\n",
    "         # hence we fail to reject null hypothesis"
   ]
  },
  {
   "cell_type": "markdown",
   "id": "48cfa951",
   "metadata": {},
   "source": []
  },
  {
   "cell_type": "markdown",
   "id": "a6ba695d",
   "metadata": {},
   "source": [
    "### BUSINESS PROBLEM - 3"
   ]
  },
  {
   "cell_type": "code",
   "execution_count": 26,
   "id": "8993da41",
   "metadata": {},
   "outputs": [],
   "source": [
    "treat=pd.read_csv('Treatment_Facility.csv')"
   ]
  },
  {
   "cell_type": "code",
   "execution_count": 27,
   "id": "1162faba",
   "metadata": {},
   "outputs": [
    {
     "data": {
      "text/html": [
       "<div>\n",
       "<style scoped>\n",
       "    .dataframe tbody tr th:only-of-type {\n",
       "        vertical-align: middle;\n",
       "    }\n",
       "\n",
       "    .dataframe tbody tr th {\n",
       "        vertical-align: top;\n",
       "    }\n",
       "\n",
       "    .dataframe thead th {\n",
       "        text-align: right;\n",
       "    }\n",
       "</style>\n",
       "<table border=\"1\" class=\"dataframe\">\n",
       "  <thead>\n",
       "    <tr style=\"text-align: right;\">\n",
       "      <th></th>\n",
       "      <th>Month</th>\n",
       "      <th>Reengineer</th>\n",
       "      <th>Employee_Turnover</th>\n",
       "      <th>VAR4</th>\n",
       "      <th>VAR5</th>\n",
       "    </tr>\n",
       "  </thead>\n",
       "  <tbody>\n",
       "    <tr>\n",
       "      <th>0</th>\n",
       "      <td>1</td>\n",
       "      <td>Prior</td>\n",
       "      <td>0.0000</td>\n",
       "      <td>24.390244</td>\n",
       "      <td>42.682927</td>\n",
       "    </tr>\n",
       "    <tr>\n",
       "      <th>1</th>\n",
       "      <td>2</td>\n",
       "      <td>Prior</td>\n",
       "      <td>6.0606</td>\n",
       "      <td>19.354839</td>\n",
       "      <td>25.806452</td>\n",
       "    </tr>\n",
       "    <tr>\n",
       "      <th>2</th>\n",
       "      <td>3</td>\n",
       "      <td>Prior</td>\n",
       "      <td>12.1212</td>\n",
       "      <td>35.087719</td>\n",
       "      <td>146.198830</td>\n",
       "    </tr>\n",
       "    <tr>\n",
       "      <th>3</th>\n",
       "      <td>4</td>\n",
       "      <td>Prior</td>\n",
       "      <td>3.3333</td>\n",
       "      <td>18.404908</td>\n",
       "      <td>110.429448</td>\n",
       "    </tr>\n",
       "    <tr>\n",
       "      <th>4</th>\n",
       "      <td>5</td>\n",
       "      <td>Prior</td>\n",
       "      <td>12.9032</td>\n",
       "      <td>17.964072</td>\n",
       "      <td>23.952096</td>\n",
       "    </tr>\n",
       "  </tbody>\n",
       "</table>\n",
       "</div>"
      ],
      "text/plain": [
       "   Month Reengineer  Employee_Turnover       VAR4        VAR5\n",
       "0      1      Prior             0.0000  24.390244   42.682927\n",
       "1      2      Prior             6.0606  19.354839   25.806452\n",
       "2      3      Prior            12.1212  35.087719  146.198830\n",
       "3      4      Prior             3.3333  18.404908  110.429448\n",
       "4      5      Prior            12.9032  17.964072   23.952096"
      ]
     },
     "execution_count": 27,
     "metadata": {},
     "output_type": "execute_result"
    }
   ],
   "source": [
    "treat.head()"
   ]
  },
  {
   "cell_type": "code",
   "execution_count": 28,
   "id": "a647b598",
   "metadata": {},
   "outputs": [
    {
     "name": "stdout",
     "output_type": "stream",
     "text": [
      "<class 'pandas.core.frame.DataFrame'>\n",
      "RangeIndex: 20 entries, 0 to 19\n",
      "Data columns (total 5 columns):\n",
      " #   Column             Non-Null Count  Dtype  \n",
      "---  ------             --------------  -----  \n",
      " 0   Month              20 non-null     int64  \n",
      " 1   Reengineer         20 non-null     object \n",
      " 2   Employee_Turnover  20 non-null     float64\n",
      " 3   VAR4               20 non-null     float64\n",
      " 4   VAR5               20 non-null     float64\n",
      "dtypes: float64(3), int64(1), object(1)\n",
      "memory usage: 932.0+ bytes\n"
     ]
    }
   ],
   "source": [
    "treat.info()"
   ]
  },
  {
   "cell_type": "code",
   "execution_count": 29,
   "id": "bc354ea7",
   "metadata": {},
   "outputs": [
    {
     "data": {
      "text/plain": [
       "Reengineer\n",
       "Prior    13\n",
       "Post      7\n",
       "Name: count, dtype: int64"
      ]
     },
     "execution_count": 29,
     "metadata": {},
     "output_type": "execute_result"
    }
   ],
   "source": [
    "treat.Reengineer.value_counts()"
   ]
  },
  {
   "cell_type": "code",
   "execution_count": 30,
   "id": "bf5cc50f",
   "metadata": {},
   "outputs": [
    {
     "data": {
      "text/plain": [
       "Month                0\n",
       "Reengineer           0\n",
       "Employee_Turnover    0\n",
       "VAR4                 0\n",
       "VAR5                 0\n",
       "dtype: int64"
      ]
     },
     "execution_count": 30,
     "metadata": {},
     "output_type": "execute_result"
    }
   ],
   "source": [
    "#checking missisng values \n",
    "treat.isna().sum()"
   ]
  },
  {
   "cell_type": "markdown",
   "id": "782cb831",
   "metadata": {},
   "source": [
    "### BUSINESS PROBLEM: Determine what effect, if any, the reengineering effort had on the \n",
    "### incidence behavioral problems and staff turnover. i.e To determine if the reengineering effort\n",
    "### changed the critical incidence rate. Isthere evidence that the critical incidence rate\n",
    "### improved?"
   ]
  },
  {
   "cell_type": "code",
   "execution_count": 31,
   "id": "7774bf82",
   "metadata": {},
   "outputs": [],
   "source": [
    "#filtering reengineer data on the basis of employee turnover\n",
    "prior=treat.Employee_Turnover[treat['Reengineer']=='Prior']\n",
    "post=treat.Employee_Turnover[treat['Reengineer']=='Post']"
   ]
  },
  {
   "cell_type": "code",
   "execution_count": 32,
   "id": "44dee52a",
   "metadata": {},
   "outputs": [
    {
     "name": "stdout",
     "output_type": "stream",
     "text": [
      "prior employee turnover mean: 11.735692307692307\n",
      "post employee turnover mean: 18.68912857142857\n"
     ]
    }
   ],
   "source": [
    "u1=prior.mean()\n",
    "u2=post.mean()\n",
    "print('prior employee turnover mean:',u1)\n",
    "print('post employee turnover mean:',u2)"
   ]
  },
  {
   "cell_type": "markdown",
   "id": "699fabab",
   "metadata": {},
   "source": [
    "### 1.) Define Null Hypothesis (H0):\n",
    "      #H0 : Employee turnover not improved after reengineer.\n",
    "             u1>=u2    \n",
    "### 2.) Define Alternate Hyothesis (Ha):\n",
    "      #Ha : Employee turnover improved after reengineer.\n",
    "             u1<u2\n",
    "### 3.) Define CI and p-value:\n",
    "      #CI = 95%\n",
    "      #p-value=0.05%\n",
    "### 4.) Perform Test:\n",
    "      #T-Test"
   ]
  },
  {
   "cell_type": "code",
   "execution_count": 33,
   "id": "e27c656d",
   "metadata": {},
   "outputs": [
    {
     "data": {
      "text/plain": [
       "TtestResult(statistic=-1.770306704753604, pvalue=0.09361109345535304, df=18.0)"
      ]
     },
     "execution_count": 33,
     "metadata": {},
     "output_type": "execute_result"
    }
   ],
   "source": [
    "stats.ttest_ind(prior,post)"
   ]
  },
  {
   "cell_type": "markdown",
   "id": "e74612c4",
   "metadata": {},
   "source": [
    "### Conclusion:\n",
    "     # since the new p-value is 0.093>0.05 \n",
    "     # hence we fail to reject the null hypothesis\n",
    "    # therefore there is no evidence to prove the claim"
   ]
  },
  {
   "cell_type": "code",
   "execution_count": 34,
   "id": "d501abb6",
   "metadata": {},
   "outputs": [],
   "source": [
    "#filtering reeinger data on the basis of var5(critical incidence)\n",
    "prior1=treat.VAR5[treat['Reengineer']=='Prior']\n",
    "post1=treat.VAR5[treat['Reengineer']=='Post']"
   ]
  },
  {
   "cell_type": "code",
   "execution_count": 35,
   "id": "143d0cac",
   "metadata": {},
   "outputs": [
    {
     "name": "stdout",
     "output_type": "stream",
     "text": [
      "prior critical incidence mean: 53.887906321846145\n",
      "post critical incidence mean: 23.34971927988571\n"
     ]
    }
   ],
   "source": [
    "u1=prior1.mean()\n",
    "u2=post1.mean()\n",
    "print('prior critical incidence mean:',u1)\n",
    "print('post critical incidence mean:',u2)"
   ]
  },
  {
   "cell_type": "markdown",
   "id": "73da8e2a",
   "metadata": {},
   "source": [
    "### 1.) Define Null Hypothesis (H0):\n",
    "  #H0 : Critical incidence not improved after reengineer.\n",
    "         u1>=u2    \n",
    "### 2.) Define Alternate Hyothesis (Ha):\n",
    "  #Ha : Critical incidence improved after reengineer.\n",
    "         u1<u2\n",
    "### 3.) Define CI and p-value:\n",
    "  #CI = 95%\n",
    "  #p-value=0.05%\n",
    "### 4.) Perform Test:\n",
    "  #T-Test"
   ]
  },
  {
   "cell_type": "code",
   "execution_count": 36,
   "id": "41ae0186",
   "metadata": {},
   "outputs": [
    {
     "data": {
      "text/plain": [
       "TtestResult(statistic=1.627914425352865, pvalue=0.12091989189884148, df=18.0)"
      ]
     },
     "execution_count": 36,
     "metadata": {},
     "output_type": "execute_result"
    }
   ],
   "source": [
    "stats.ttest_ind(prior1,post1)"
   ]
  },
  {
   "cell_type": "markdown",
   "id": "ec5c2a64",
   "metadata": {},
   "source": [
    "### Conclusiion:\n",
    "     # since the new p-value is 0.12>0.05\n",
    "     # hence we fail to reject the null hypothesis\n",
    "        #therefore there is no evidence to prove the claim"
   ]
  },
  {
   "cell_type": "markdown",
   "id": "ca62ea06",
   "metadata": {},
   "source": [
    "### BUSINESS PROBLEM - 4"
   ]
  },
  {
   "cell_type": "code",
   "execution_count": 37,
   "id": "00861d20",
   "metadata": {},
   "outputs": [],
   "source": [
    "PT=pd.read_csv('Priority_Assessment.csv')"
   ]
  },
  {
   "cell_type": "code",
   "execution_count": 38,
   "id": "4126eea3",
   "metadata": {},
   "outputs": [
    {
     "data": {
      "text/html": [
       "<div>\n",
       "<style scoped>\n",
       "    .dataframe tbody tr th:only-of-type {\n",
       "        vertical-align: middle;\n",
       "    }\n",
       "\n",
       "    .dataframe tbody tr th {\n",
       "        vertical-align: top;\n",
       "    }\n",
       "\n",
       "    .dataframe thead th {\n",
       "        text-align: right;\n",
       "    }\n",
       "</style>\n",
       "<table border=\"1\" class=\"dataframe\">\n",
       "  <thead>\n",
       "    <tr style=\"text-align: right;\">\n",
       "      <th></th>\n",
       "      <th>Days</th>\n",
       "      <th>Priority</th>\n",
       "    </tr>\n",
       "  </thead>\n",
       "  <tbody>\n",
       "    <tr>\n",
       "      <th>0</th>\n",
       "      <td>3.3</td>\n",
       "      <td>High</td>\n",
       "    </tr>\n",
       "    <tr>\n",
       "      <th>1</th>\n",
       "      <td>7.9</td>\n",
       "      <td>Medium</td>\n",
       "    </tr>\n",
       "    <tr>\n",
       "      <th>2</th>\n",
       "      <td>0.3</td>\n",
       "      <td>High</td>\n",
       "    </tr>\n",
       "    <tr>\n",
       "      <th>3</th>\n",
       "      <td>0.7</td>\n",
       "      <td>Medium</td>\n",
       "    </tr>\n",
       "    <tr>\n",
       "      <th>4</th>\n",
       "      <td>8.6</td>\n",
       "      <td>Medium</td>\n",
       "    </tr>\n",
       "  </tbody>\n",
       "</table>\n",
       "</div>"
      ],
      "text/plain": [
       "   Days Priority\n",
       "0   3.3     High\n",
       "1   7.9   Medium\n",
       "2   0.3     High\n",
       "3   0.7   Medium\n",
       "4   8.6   Medium"
      ]
     },
     "execution_count": 38,
     "metadata": {},
     "output_type": "execute_result"
    }
   ],
   "source": [
    "PT.head()"
   ]
  },
  {
   "cell_type": "code",
   "execution_count": 39,
   "id": "80e69aca",
   "metadata": {},
   "outputs": [
    {
     "name": "stdout",
     "output_type": "stream",
     "text": [
      "<class 'pandas.core.frame.DataFrame'>\n",
      "RangeIndex: 642 entries, 0 to 641\n",
      "Data columns (total 2 columns):\n",
      " #   Column    Non-Null Count  Dtype  \n",
      "---  ------    --------------  -----  \n",
      " 0   Days      642 non-null    float64\n",
      " 1   Priority  642 non-null    object \n",
      "dtypes: float64(1), object(1)\n",
      "memory usage: 10.2+ KB\n"
     ]
    }
   ],
   "source": [
    "PT.info()"
   ]
  },
  {
   "cell_type": "code",
   "execution_count": 40,
   "id": "9522fb3f",
   "metadata": {},
   "outputs": [
    {
     "data": {
      "text/plain": [
       "Days        0\n",
       "Priority    0\n",
       "dtype: int64"
      ]
     },
     "execution_count": 40,
     "metadata": {},
     "output_type": "execute_result"
    }
   ],
   "source": [
    "PT.isna().sum()"
   ]
  },
  {
   "cell_type": "code",
   "execution_count": 41,
   "id": "fedc47fd",
   "metadata": {},
   "outputs": [
    {
     "data": {
      "text/plain": [
       "Priority\n",
       "High      326\n",
       "Medium    249\n",
       "Low        67\n",
       "Name: count, dtype: int64"
      ]
     },
     "execution_count": 41,
     "metadata": {},
     "output_type": "execute_result"
    }
   ],
   "source": [
    "PT.Priority.value_counts()"
   ]
  },
  {
   "cell_type": "markdown",
   "id": "951585e8",
   "metadata": {},
   "source": [
    "### BUSINESS PROBLEM: We will focus on the prioritization system. If the system is working, then\n",
    "### high priority jobs, on average, should be completed more quickly than medium priority jobs,\n",
    "### and medium priority jobs should be completed more quickly than low priority jobs. Use the\n",
    "### data provided to determine whether thisis, in fact, occurring."
   ]
  },
  {
   "cell_type": "code",
   "execution_count": 42,
   "id": "e4e94674",
   "metadata": {},
   "outputs": [],
   "source": [
    "high=PT.Days[PT['Priority']=='High']\n",
    "med=PT.Days[PT['Priority']=='Medium']\n",
    "low=PT.Days[PT['Priority']=='Low']"
   ]
  },
  {
   "cell_type": "code",
   "execution_count": 43,
   "id": "974efb67",
   "metadata": {},
   "outputs": [
    {
     "name": "stdout",
     "output_type": "stream",
     "text": [
      "high priority mean: 3.0236196319018402\n",
      "medium priority mean: 2.5\n",
      "low priority mean: 4.228358208955224\n"
     ]
    }
   ],
   "source": [
    "u1=high.mean()\n",
    "u2=med.mean()\n",
    "u3=low.mean()\n",
    "print('high priority mean:',u1)\n",
    "print('medium priority mean:',u2)\n",
    "print('low priority mean:',u3)"
   ]
  },
  {
   "cell_type": "markdown",
   "id": "6c9d2d85",
   "metadata": {},
   "source": [
    "### 1.) Define Null Hypothesis (H0):\n",
    "#H0 : u1>=u2>=u3\n",
    "\n",
    "### 2.) Define Alternate Hyothesis (Ha):\n",
    "#Ha : u1<u2<u3\n",
    "\n",
    "### 3.) Define CI and p-value:\n",
    "#CI = 95% #p-value=0.05%\n",
    "\n",
    "### 4.) Perform Test:\n",
    "#F-Test"
   ]
  },
  {
   "cell_type": "code",
   "execution_count": 44,
   "id": "28914159",
   "metadata": {},
   "outputs": [
    {
     "data": {
      "text/plain": [
       "F_onewayResult(statistic=1.812311010076072, pvalue=0.16411459461716182)"
      ]
     },
     "execution_count": 44,
     "metadata": {},
     "output_type": "execute_result"
    }
   ],
   "source": [
    "stats.f_oneway(high,med,low)"
   ]
  },
  {
   "cell_type": "markdown",
   "id": "c79014e4",
   "metadata": {},
   "source": [
    "### Conclusion:\n",
    "     # since the new p-value is 0.16 > 0.05\n",
    "    # hence we fail to reject the null hypothesis\n",
    "    # there is no evidence for the claim"
   ]
  },
  {
   "cell_type": "markdown",
   "id": "7ad5aea5",
   "metadata": {},
   "source": []
  },
  {
   "cell_type": "markdown",
   "id": "4c8e3fc6",
   "metadata": {},
   "source": [
    "### BUSINESS PROBLEM - 5"
   ]
  },
  {
   "cell_type": "code",
   "execution_count": 45,
   "id": "06a2c7d8",
   "metadata": {},
   "outputs": [],
   "source": [
    "film=pd.read_csv('Films.csv')"
   ]
  },
  {
   "cell_type": "code",
   "execution_count": 46,
   "id": "45201b21",
   "metadata": {},
   "outputs": [
    {
     "data": {
      "text/html": [
       "<div>\n",
       "<style scoped>\n",
       "    .dataframe tbody tr th:only-of-type {\n",
       "        vertical-align: middle;\n",
       "    }\n",
       "\n",
       "    .dataframe tbody tr th {\n",
       "        vertical-align: top;\n",
       "    }\n",
       "\n",
       "    .dataframe thead th {\n",
       "        text-align: right;\n",
       "    }\n",
       "</style>\n",
       "<table border=\"1\" class=\"dataframe\">\n",
       "  <thead>\n",
       "    <tr style=\"text-align: right;\">\n",
       "      <th></th>\n",
       "      <th>_rowstate_</th>\n",
       "      <th>Movie</th>\n",
       "      <th>Gender</th>\n",
       "      <th>Marital_Status</th>\n",
       "      <th>Sinage</th>\n",
       "      <th>Parking</th>\n",
       "      <th>Clean</th>\n",
       "      <th>Overall</th>\n",
       "      <th>Age</th>\n",
       "      <th>Income</th>\n",
       "      <th>Hear_About</th>\n",
       "    </tr>\n",
       "  </thead>\n",
       "  <tbody>\n",
       "    <tr>\n",
       "      <th>0</th>\n",
       "      <td>0</td>\n",
       "      <td>Ferris Buellers Day Off</td>\n",
       "      <td>Female</td>\n",
       "      <td>Married</td>\n",
       "      <td>2.0</td>\n",
       "      <td>2.0</td>\n",
       "      <td>2.0</td>\n",
       "      <td>2.0</td>\n",
       "      <td>3.0</td>\n",
       "      <td>1.0</td>\n",
       "      <td>5</td>\n",
       "    </tr>\n",
       "    <tr>\n",
       "      <th>1</th>\n",
       "      <td>0</td>\n",
       "      <td>Ferris Buellers Day Off</td>\n",
       "      <td>Female</td>\n",
       "      <td>Single</td>\n",
       "      <td>1.0</td>\n",
       "      <td>1.0</td>\n",
       "      <td>1.0</td>\n",
       "      <td>1.0</td>\n",
       "      <td>2.0</td>\n",
       "      <td>1.0</td>\n",
       "      <td>5</td>\n",
       "    </tr>\n",
       "    <tr>\n",
       "      <th>2</th>\n",
       "      <td>0</td>\n",
       "      <td>Ferris Buellers Day Off</td>\n",
       "      <td>Male</td>\n",
       "      <td>Married</td>\n",
       "      <td>2.0</td>\n",
       "      <td>4.0</td>\n",
       "      <td>3.0</td>\n",
       "      <td>2.0</td>\n",
       "      <td>4.0</td>\n",
       "      <td>1.0</td>\n",
       "      <td>5</td>\n",
       "    </tr>\n",
       "    <tr>\n",
       "      <th>3</th>\n",
       "      <td>0</td>\n",
       "      <td>Ferris Buellers Day Off</td>\n",
       "      <td>Female</td>\n",
       "      <td>Married</td>\n",
       "      <td>1.0</td>\n",
       "      <td>3.0</td>\n",
       "      <td>2.0</td>\n",
       "      <td>2.0</td>\n",
       "      <td>4.0</td>\n",
       "      <td>1.0</td>\n",
       "      <td>5</td>\n",
       "    </tr>\n",
       "    <tr>\n",
       "      <th>4</th>\n",
       "      <td>0</td>\n",
       "      <td>Ferris Buellers Day Off</td>\n",
       "      <td>Female</td>\n",
       "      <td>Married</td>\n",
       "      <td>1.0</td>\n",
       "      <td>1.0</td>\n",
       "      <td>1.0</td>\n",
       "      <td>1.0</td>\n",
       "      <td>3.0</td>\n",
       "      <td>3.0</td>\n",
       "      <td>1</td>\n",
       "    </tr>\n",
       "  </tbody>\n",
       "</table>\n",
       "</div>"
      ],
      "text/plain": [
       "   _rowstate_                    Movie  Gender Marital_Status  Sinage  \\\n",
       "0           0  Ferris Buellers Day Off  Female        Married     2.0   \n",
       "1           0  Ferris Buellers Day Off  Female         Single     1.0   \n",
       "2           0  Ferris Buellers Day Off    Male        Married     2.0   \n",
       "3           0  Ferris Buellers Day Off  Female        Married     1.0   \n",
       "4           0  Ferris Buellers Day Off  Female        Married     1.0   \n",
       "\n",
       "   Parking  Clean  Overall  Age  Income Hear_About  \n",
       "0      2.0    2.0      2.0  3.0     1.0          5  \n",
       "1      1.0    1.0      1.0  2.0     1.0          5  \n",
       "2      4.0    3.0      2.0  4.0     1.0          5  \n",
       "3      3.0    2.0      2.0  4.0     1.0          5  \n",
       "4      1.0    1.0      1.0  3.0     3.0          1  "
      ]
     },
     "execution_count": 46,
     "metadata": {},
     "output_type": "execute_result"
    }
   ],
   "source": [
    "film.head()"
   ]
  },
  {
   "cell_type": "code",
   "execution_count": 47,
   "id": "ddf5eb3d",
   "metadata": {},
   "outputs": [
    {
     "name": "stdout",
     "output_type": "stream",
     "text": [
      "<class 'pandas.core.frame.DataFrame'>\n",
      "RangeIndex: 330 entries, 0 to 329\n",
      "Data columns (total 11 columns):\n",
      " #   Column          Non-Null Count  Dtype  \n",
      "---  ------          --------------  -----  \n",
      " 0   _rowstate_      330 non-null    int64  \n",
      " 1   Movie           330 non-null    object \n",
      " 2   Gender          330 non-null    object \n",
      " 3   Marital_Status  328 non-null    object \n",
      " 4   Sinage          328 non-null    float64\n",
      " 5   Parking         328 non-null    float64\n",
      " 6   Clean           327 non-null    float64\n",
      " 7   Overall         328 non-null    float64\n",
      " 8   Age             328 non-null    float64\n",
      " 9   Income          314 non-null    float64\n",
      " 10  Hear_About      323 non-null    object \n",
      "dtypes: float64(6), int64(1), object(4)\n",
      "memory usage: 28.5+ KB\n"
     ]
    }
   ],
   "source": [
    "film.info()"
   ]
  },
  {
   "cell_type": "code",
   "execution_count": 48,
   "id": "4b421457",
   "metadata": {},
   "outputs": [
    {
     "data": {
      "text/plain": [
       "_rowstate_         0\n",
       "Movie              0\n",
       "Gender             0\n",
       "Marital_Status     2\n",
       "Sinage             2\n",
       "Parking            2\n",
       "Clean              3\n",
       "Overall            2\n",
       "Age                2\n",
       "Income            16\n",
       "Hear_About         7\n",
       "dtype: int64"
      ]
     },
     "execution_count": 48,
     "metadata": {},
     "output_type": "execute_result"
    }
   ],
   "source": [
    "film.isna().sum()"
   ]
  },
  {
   "cell_type": "code",
   "execution_count": 49,
   "id": "5f93fb82",
   "metadata": {},
   "outputs": [],
   "source": [
    "film.Marital_Status=np.where(film.Marital_Status.isna(),film.Marital_Status.mode(),film.Marital_Status)\n",
    "film.Sinage=np.where(film.Sinage.isna(),film.Sinage.mean(),film.Sinage)\n",
    "film.Parking=np.where(film.Parking.isna(),film.Parking.mean(),film.Parking)\n",
    "film.Clean=np.where(film.Clean.isna(),film.Clean.mean(),film.Clean)\n",
    "film.Overall=np.where(film.Overall.isna(),film.Overall.mean(),film.Overall)\n",
    "film.Age=np.where(film.Age.isna(),film.Age.mode(),film.Age)\n",
    "film.Income=np.where(film.Income.isna(),film.Income.mode(),film.Income)\n",
    "film.Hear_About=np.where(film.Hear_About.isna(),film.Hear_About.mode(),film.Hear_About)"
   ]
  },
  {
   "cell_type": "code",
   "execution_count": 50,
   "id": "26199aed",
   "metadata": {},
   "outputs": [
    {
     "data": {
      "text/plain": [
       "_rowstate_        0\n",
       "Movie             0\n",
       "Gender            0\n",
       "Marital_Status    0\n",
       "Sinage            0\n",
       "Parking           0\n",
       "Clean             0\n",
       "Overall           0\n",
       "Age               0\n",
       "Income            0\n",
       "Hear_About        0\n",
       "dtype: int64"
      ]
     },
     "execution_count": 50,
     "metadata": {},
     "output_type": "execute_result"
    }
   ],
   "source": [
    "film.isna().sum()"
   ]
  },
  {
   "cell_type": "code",
   "execution_count": 51,
   "id": "2993e56e",
   "metadata": {},
   "outputs": [
    {
     "data": {
      "text/plain": [
       "Marital_Status\n",
       "2          210\n",
       "1           88\n",
       "Single      18\n",
       "Married     12\n",
       "Slngle       2\n",
       "Name: count, dtype: int64"
      ]
     },
     "execution_count": 51,
     "metadata": {},
     "output_type": "execute_result"
    }
   ],
   "source": [
    "#data cleaning\n",
    "film.Marital_Status.value_counts()"
   ]
  },
  {
   "cell_type": "code",
   "execution_count": 52,
   "id": "5652959b",
   "metadata": {},
   "outputs": [],
   "source": [
    "film['Marital_Status']=film.Marital_Status.replace('Married','married')\n",
    "film['Marital_Status']=film.Marital_Status.replace('Single','single')\n",
    "film['Marital_Status']=film.Marital_Status.replace('Slngle','single')\n",
    "film['Marital_Status']=film.Marital_Status.replace('1','married')\n",
    "film['Marital_Status']=film.Marital_Status.replace('2','single')\n"
   ]
  },
  {
   "cell_type": "code",
   "execution_count": 53,
   "id": "fdd9ddb1",
   "metadata": {},
   "outputs": [
    {
     "data": {
      "text/plain": [
       "Marital_Status\n",
       "single     230\n",
       "married    100\n",
       "Name: count, dtype: int64"
      ]
     },
     "execution_count": 53,
     "metadata": {},
     "output_type": "execute_result"
    }
   ],
   "source": [
    "film.Marital_Status.value_counts()"
   ]
  },
  {
   "cell_type": "code",
   "execution_count": 54,
   "id": "f7c2ed14",
   "metadata": {},
   "outputs": [
    {
     "data": {
      "text/plain": [
       "Gender\n",
       "2         194\n",
       "1         104\n",
       "Female     19\n",
       "Male       13\n",
       "Name: count, dtype: int64"
      ]
     },
     "execution_count": 54,
     "metadata": {},
     "output_type": "execute_result"
    }
   ],
   "source": [
    "film.Gender.value_counts()"
   ]
  },
  {
   "cell_type": "code",
   "execution_count": 55,
   "id": "249340c4",
   "metadata": {},
   "outputs": [],
   "source": [
    "film['Gender']=film.Gender.replace('2','female')\n",
    "film['Gender']=film.Gender.replace('1','male')\n",
    "film['Gender']=film.Gender.replace('Female','female')\n",
    "film['Gender']=film.Gender.replace('Male','male')"
   ]
  },
  {
   "cell_type": "code",
   "execution_count": 56,
   "id": "9461f3f6",
   "metadata": {},
   "outputs": [
    {
     "data": {
      "text/plain": [
       "Gender\n",
       "female    213\n",
       "male      117\n",
       "Name: count, dtype: int64"
      ]
     },
     "execution_count": 56,
     "metadata": {},
     "output_type": "execute_result"
    }
   ],
   "source": [
    "film.Gender.value_counts()"
   ]
  },
  {
   "cell_type": "markdown",
   "id": "bbd27bbc",
   "metadata": {},
   "source": [
    "### BUSINESS PROBLEM: Use the survey resultsto addressthe following questions\n",
    "###  What isthe overall level of customer satisfaction?"
   ]
  },
  {
   "cell_type": "code",
   "execution_count": 57,
   "id": "9a795807",
   "metadata": {},
   "outputs": [
    {
     "data": {
      "text/plain": [
       "Overall\n",
       "2.000000    160\n",
       "1.000000    151\n",
       "3.000000     12\n",
       "5.000000      4\n",
       "1.618902      2\n",
       "4.000000      1\n",
       "Name: count, dtype: int64"
      ]
     },
     "execution_count": 57,
     "metadata": {},
     "output_type": "execute_result"
    }
   ],
   "source": [
    "film.Overall.value_counts()"
   ]
  },
  {
   "cell_type": "code",
   "execution_count": 58,
   "id": "835a28ef",
   "metadata": {},
   "outputs": [
    {
     "data": {
      "text/plain": [
       "1.6189024390243902"
      ]
     },
     "execution_count": 58,
     "metadata": {},
     "output_type": "execute_result"
    }
   ],
   "source": [
    "film.Overall.mean()"
   ]
  },
  {
   "cell_type": "code",
   "execution_count": 59,
   "id": "db1f99f4",
   "metadata": {},
   "outputs": [
    {
     "name": "stdout",
     "output_type": "stream",
     "text": [
      "Therefore the overall satisfaction rating is 2, and the overall mean rating is 1.6189024390243902\n"
     ]
    }
   ],
   "source": [
    "print('Therefore the overall satisfaction rating is 2, and the overall mean rating is',film.Overall.mean())"
   ]
  },
  {
   "cell_type": "markdown",
   "id": "11b74115",
   "metadata": {},
   "source": []
  },
  {
   "cell_type": "markdown",
   "id": "08a48a64",
   "metadata": {},
   "source": [
    "###  What factors are linked to satisfaction?"
   ]
  },
  {
   "cell_type": "code",
   "execution_count": 60,
   "id": "74e90a4c",
   "metadata": {},
   "outputs": [],
   "source": [
    "# observed frequency table \n",
    "tab1=pd.crosstab(film.Overall,film.Age)\n",
    "tab2=pd.crosstab(film.Overall,film.Gender)\n",
    "tab3=pd.crosstab(film.Overall,film.Marital_Status)\n",
    "tab4=pd.crosstab(film.Overall,film.Movie)\n",
    "tab5=pd.crosstab(film.Overall,film.Income)\n",
    "tab6=pd.crosstab(film.Overall,film.Clean)\n",
    "tab7=pd.crosstab(film.Overall,film.Parking)\n",
    "tab8=pd.crosstab(film.Overall,film.Sinage)\n"
   ]
  },
  {
   "cell_type": "markdown",
   "id": "bac4dbcd",
   "metadata": {},
   "source": [
    "### 1.) Define Null Hypothesis (H0):\n",
    "#H0 : All the factors are effecting overall satisfaction.\n",
    "\n",
    "### 2.) Define Alternate Hyothesis (Ha):\n",
    "#Ha : All the factors are not effecting overall satisfaction.\n",
    "\n",
    "### 3.) Define CI and p-value:\n",
    "#CI = 95% #p-value=0.05%\n",
    "\n",
    "### 4.) Perform Test:\n",
    "#Chi-square test"
   ]
  },
  {
   "cell_type": "code",
   "execution_count": 61,
   "id": "abeab48f",
   "metadata": {},
   "outputs": [
    {
     "data": {
      "text/plain": [
       "Chi2ContingencyResult(statistic=12.138966663644657, pvalue=0.6684813226405949, dof=15, expected_freq=array([[1.18969697e+01, 8.09909091e+01, 5.35363636e+01, 4.57575758e+00],\n",
       "       [1.57575758e-01, 1.07272727e+00, 7.09090909e-01, 6.06060606e-02],\n",
       "       [1.26060606e+01, 8.58181818e+01, 5.67272727e+01, 4.84848485e+00],\n",
       "       [9.45454545e-01, 6.43636364e+00, 4.25454545e+00, 3.63636364e-01],\n",
       "       [7.87878788e-02, 5.36363636e-01, 3.54545455e-01, 3.03030303e-02],\n",
       "       [3.15151515e-01, 2.14545455e+00, 1.41818182e+00, 1.21212121e-01]]))"
      ]
     },
     "execution_count": 61,
     "metadata": {},
     "output_type": "execute_result"
    }
   ],
   "source": [
    "stats.chi2_contingency(tab1)"
   ]
  },
  {
   "cell_type": "code",
   "execution_count": 62,
   "id": "d081e31b",
   "metadata": {},
   "outputs": [
    {
     "data": {
      "text/plain": [
       "Chi2ContingencyResult(statistic=4.488568645130532, pvalue=0.48141436969705187, dof=5, expected_freq=array([[ 97.46363636,  53.53636364],\n",
       "       [  1.29090909,   0.70909091],\n",
       "       [103.27272727,  56.72727273],\n",
       "       [  7.74545455,   4.25454545],\n",
       "       [  0.64545455,   0.35454545],\n",
       "       [  2.58181818,   1.41818182]]))"
      ]
     },
     "execution_count": 62,
     "metadata": {},
     "output_type": "execute_result"
    }
   ],
   "source": [
    "stats.chi2_contingency(tab2)"
   ]
  },
  {
   "cell_type": "code",
   "execution_count": 63,
   "id": "24194327",
   "metadata": {},
   "outputs": [
    {
     "data": {
      "text/plain": [
       "Chi2ContingencyResult(statistic=5.532821048085229, pvalue=0.35436035505007557, dof=5, expected_freq=array([[ 45.75757576, 105.24242424],\n",
       "       [  0.60606061,   1.39393939],\n",
       "       [ 48.48484848, 111.51515152],\n",
       "       [  3.63636364,   8.36363636],\n",
       "       [  0.3030303 ,   0.6969697 ],\n",
       "       [  1.21212121,   2.78787879]]))"
      ]
     },
     "execution_count": 63,
     "metadata": {},
     "output_type": "execute_result"
    }
   ],
   "source": [
    "stats.chi2_contingency(tab3)"
   ]
  },
  {
   "cell_type": "code",
   "execution_count": 64,
   "id": "93fca152",
   "metadata": {},
   "outputs": [
    {
     "data": {
      "text/plain": [
       "Chi2ContingencyResult(statistic=12.511868043591603, pvalue=0.2522577891412043, dof=10, expected_freq=array([[62.68787879, 14.64242424, 73.66969697],\n",
       "       [ 0.83030303,  0.19393939,  0.97575758],\n",
       "       [66.42424242, 15.51515152, 78.06060606],\n",
       "       [ 4.98181818,  1.16363636,  5.85454545],\n",
       "       [ 0.41515152,  0.0969697 ,  0.48787879],\n",
       "       [ 1.66060606,  0.38787879,  1.95151515]]))"
      ]
     },
     "execution_count": 64,
     "metadata": {},
     "output_type": "execute_result"
    }
   ],
   "source": [
    "stats.chi2_contingency(tab4)"
   ]
  },
  {
   "cell_type": "code",
   "execution_count": 65,
   "id": "1ad40b78",
   "metadata": {},
   "outputs": [
    {
     "data": {
      "text/plain": [
       "Chi2ContingencyResult(statistic=7.418499723181489, pvalue=0.6854328680629385, dof=10, expected_freq=array([[72.2969697 , 37.52121212, 41.18181818],\n",
       "       [ 0.95757576,  0.4969697 ,  0.54545455],\n",
       "       [76.60606061, 39.75757576, 43.63636364],\n",
       "       [ 5.74545455,  2.98181818,  3.27272727],\n",
       "       [ 0.47878788,  0.24848485,  0.27272727],\n",
       "       [ 1.91515152,  0.99393939,  1.09090909]]))"
      ]
     },
     "execution_count": 65,
     "metadata": {},
     "output_type": "execute_result"
    }
   ],
   "source": [
    "stats.chi2_contingency(tab5)"
   ]
  },
  {
   "cell_type": "code",
   "execution_count": 66,
   "id": "1fa51984",
   "metadata": {},
   "outputs": [
    {
     "data": {
      "text/plain": [
       "Chi2ContingencyResult(statistic=345.7963259374637, pvalue=3.462183654474607e-58, dof=25, expected_freq=array([[6.58909091e+01, 1.37272727e+00, 6.95515152e+01, 1.09818182e+01,\n",
       "        2.28787879e+00, 9.15151515e-01],\n",
       "       [8.72727273e-01, 1.81818182e-02, 9.21212121e-01, 1.45454545e-01,\n",
       "        3.03030303e-02, 1.21212121e-02],\n",
       "       [6.98181818e+01, 1.45454545e+00, 7.36969697e+01, 1.16363636e+01,\n",
       "        2.42424242e+00, 9.69696970e-01],\n",
       "       [5.23636364e+00, 1.09090909e-01, 5.52727273e+00, 8.72727273e-01,\n",
       "        1.81818182e-01, 7.27272727e-02],\n",
       "       [4.36363636e-01, 9.09090909e-03, 4.60606061e-01, 7.27272727e-02,\n",
       "        1.51515152e-02, 6.06060606e-03],\n",
       "       [1.74545455e+00, 3.63636364e-02, 1.84242424e+00, 2.90909091e-01,\n",
       "        6.06060606e-02, 2.42424242e-02]]))"
      ]
     },
     "execution_count": 66,
     "metadata": {},
     "output_type": "execute_result"
    }
   ],
   "source": [
    "stats.chi2_contingency(tab6)"
   ]
  },
  {
   "cell_type": "code",
   "execution_count": 67,
   "id": "eb6ec0e0",
   "metadata": {},
   "outputs": [
    {
     "data": {
      "text/plain": [
       "Chi2ContingencyResult(statistic=313.6470148499061, pvalue=1.0870837819160887e-51, dof=25, expected_freq=array([[6.17727273e+01, 9.15151515e-01, 7.00090909e+01, 1.32696970e+01,\n",
       "        3.20303030e+00, 1.83030303e+00],\n",
       "       [8.18181818e-01, 1.21212121e-02, 9.27272727e-01, 1.75757576e-01,\n",
       "        4.24242424e-02, 2.42424242e-02],\n",
       "       [6.54545455e+01, 9.69696970e-01, 7.41818182e+01, 1.40606061e+01,\n",
       "        3.39393939e+00, 1.93939394e+00],\n",
       "       [4.90909091e+00, 7.27272727e-02, 5.56363636e+00, 1.05454545e+00,\n",
       "        2.54545455e-01, 1.45454545e-01],\n",
       "       [4.09090909e-01, 6.06060606e-03, 4.63636364e-01, 8.78787879e-02,\n",
       "        2.12121212e-02, 1.21212121e-02],\n",
       "       [1.63636364e+00, 2.42424242e-02, 1.85454545e+00, 3.51515152e-01,\n",
       "        8.48484848e-02, 4.84848485e-02]]))"
      ]
     },
     "execution_count": 67,
     "metadata": {},
     "output_type": "execute_result"
    }
   ],
   "source": [
    "stats.chi2_contingency(tab7)"
   ]
  },
  {
   "cell_type": "code",
   "execution_count": 68,
   "id": "c7208928",
   "metadata": {},
   "outputs": [
    {
     "data": {
      "text/plain": [
       "Chi2ContingencyResult(statistic=208.15634074943048, pvalue=8.18689961410127e-31, dof=25, expected_freq=array([[5.17060606e+01, 9.15151515e-01, 7.13818182e+01, 2.19636364e+01,\n",
       "        2.74545455e+00, 2.28787879e+00],\n",
       "       [6.84848485e-01, 1.21212121e-02, 9.45454545e-01, 2.90909091e-01,\n",
       "        3.63636364e-02, 3.03030303e-02],\n",
       "       [5.47878788e+01, 9.69696970e-01, 7.56363636e+01, 2.32727273e+01,\n",
       "        2.90909091e+00, 2.42424242e+00],\n",
       "       [4.10909091e+00, 7.27272727e-02, 5.67272727e+00, 1.74545455e+00,\n",
       "        2.18181818e-01, 1.81818182e-01],\n",
       "       [3.42424242e-01, 6.06060606e-03, 4.72727273e-01, 1.45454545e-01,\n",
       "        1.81818182e-02, 1.51515152e-02],\n",
       "       [1.36969697e+00, 2.42424242e-02, 1.89090909e+00, 5.81818182e-01,\n",
       "        7.27272727e-02, 6.06060606e-02]]))"
      ]
     },
     "execution_count": 68,
     "metadata": {},
     "output_type": "execute_result"
    }
   ],
   "source": [
    "stats.chi2_contingency(tab8)"
   ]
  },
  {
   "cell_type": "markdown",
   "id": "70ab3bce",
   "metadata": {},
   "source": [
    "### Conclusion:\n",
    "     # so the new p-value of tab 6,7 and 8 < 0.05 \n",
    "    # hence we reject the null hypothesis\n",
    "    # therefore clean, parking and sinage is affecting overall satisfaction\n"
   ]
  },
  {
   "cell_type": "markdown",
   "id": "3ec4fd04",
   "metadata": {},
   "source": [
    "###  What is the demographic profile of Film on the Rocks patrons?"
   ]
  },
  {
   "cell_type": "code",
   "execution_count": 69,
   "id": "0150ef16",
   "metadata": {},
   "outputs": [
    {
     "data": {
      "text/plain": [
       "Marital_Status\n",
       "single     0.69697\n",
       "married    0.30303\n",
       "Name: count, dtype: float64"
      ]
     },
     "execution_count": 69,
     "metadata": {},
     "output_type": "execute_result"
    }
   ],
   "source": [
    "#ratio of married and single people\n",
    "film.Marital_Status.value_counts()/film.Marital_Status.count()"
   ]
  },
  {
   "cell_type": "code",
   "execution_count": 70,
   "id": "3311892f",
   "metadata": {},
   "outputs": [
    {
     "data": {
      "text/plain": [
       "Gender\n",
       "female    0.645455\n",
       "male      0.354545\n",
       "Name: count, dtype: float64"
      ]
     },
     "execution_count": 70,
     "metadata": {},
     "output_type": "execute_result"
    }
   ],
   "source": [
    "#ratio of male and female\n",
    "film.Gender.value_counts()/film.Gender.count()"
   ]
  },
  {
   "cell_type": "code",
   "execution_count": 71,
   "id": "48c0d9c5",
   "metadata": {},
   "outputs": [
    {
     "data": {
      "text/plain": [
       "Age\n",
       "2.0    0.536364\n",
       "3.0    0.354545\n",
       "1.0    0.078788\n",
       "4.0    0.030303\n",
       "Name: count, dtype: float64"
      ]
     },
     "execution_count": 71,
     "metadata": {},
     "output_type": "execute_result"
    }
   ],
   "source": [
    "#ratio of different age groups\n",
    "film.Age.value_counts()/film.Age.count()"
   ]
  },
  {
   "cell_type": "code",
   "execution_count": 72,
   "id": "deca83a6",
   "metadata": {},
   "outputs": [
    {
     "data": {
      "text/plain": [
       "Income\n",
       "1.0    0.478788\n",
       "3.0    0.272727\n",
       "2.0    0.248485\n",
       "Name: count, dtype: float64"
      ]
     },
     "execution_count": 72,
     "metadata": {},
     "output_type": "execute_result"
    }
   ],
   "source": [
    "#ratio of different income groups\n",
    "film.Income.value_counts()/film.Income.count()"
   ]
  },
  {
   "cell_type": "markdown",
   "id": "eacab1a3",
   "metadata": {},
   "source": [
    "###  In what media outlet(s) should the film series be advertised?"
   ]
  },
  {
   "cell_type": "code",
   "execution_count": 73,
   "id": "cbcd1b35",
   "metadata": {},
   "outputs": [
    {
     "data": {
      "text/plain": [
       "Hear_About\n",
       "5      233\n",
       "4       41\n",
       "1       22\n",
       "3       14\n",
       "2       12\n",
       "2,5      2\n",
       "3,4      2\n",
       "4,5      1\n",
       "1,5      1\n",
       "5,4      1\n",
       "3,5      1\n",
       "Name: count, dtype: int64"
      ]
     },
     "execution_count": 73,
     "metadata": {},
     "output_type": "execute_result"
    }
   ],
   "source": [
    "film.Hear_About.value_counts()\n",
    "# Hear about is the best way to advertise"
   ]
  },
  {
   "cell_type": "code",
   "execution_count": null,
   "id": "1e97f09b",
   "metadata": {},
   "outputs": [],
   "source": []
  }
 ],
 "metadata": {
  "kernelspec": {
   "display_name": "Python 3 (ipykernel)",
   "language": "python",
   "name": "python3"
  },
  "language_info": {
   "codemirror_mode": {
    "name": "ipython",
    "version": 3
   },
   "file_extension": ".py",
   "mimetype": "text/x-python",
   "name": "python",
   "nbconvert_exporter": "python",
   "pygments_lexer": "ipython3",
   "version": "3.11.5"
  }
 },
 "nbformat": 4,
 "nbformat_minor": 5
}
