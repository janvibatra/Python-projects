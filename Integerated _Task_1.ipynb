{
 "cells": [
  {
   "cell_type": "code",
   "execution_count": 70,
   "id": "3f6834f2",
   "metadata": {},
   "outputs": [],
   "source": [
    "import pandas as pd\n",
    "import numpy as np\n",
    "import datetime as dt\n",
    "from datetime import datetime\n",
    "import matplotlib.pyplot as plt\n",
    "import seaborn as sns"
   ]
  },
  {
   "cell_type": "code",
   "execution_count": 2,
   "id": "fae15c1b",
   "metadata": {},
   "outputs": [],
   "source": [
    "cust=pd.read_excel(\"Integrated Case Study using Python-Bootcamp.xlsx\",sheet_name=\"Customer Data\")\n",
    "orders=pd.read_excel(\"Integrated Case Study using Python-Bootcamp.xlsx\",sheet_name=\"Orders Data\")"
   ]
  },
  {
   "cell_type": "code",
   "execution_count": 3,
   "id": "312bad2f",
   "metadata": {},
   "outputs": [
    {
     "data": {
      "text/html": [
       "<div>\n",
       "<style scoped>\n",
       "    .dataframe tbody tr th:only-of-type {\n",
       "        vertical-align: middle;\n",
       "    }\n",
       "\n",
       "    .dataframe tbody tr th {\n",
       "        vertical-align: top;\n",
       "    }\n",
       "\n",
       "    .dataframe thead th {\n",
       "        text-align: right;\n",
       "    }\n",
       "</style>\n",
       "<table border=\"1\" class=\"dataframe\">\n",
       "  <thead>\n",
       "    <tr style=\"text-align: right;\">\n",
       "      <th></th>\n",
       "      <th>CUSTOMER_KEY</th>\n",
       "      <th>CONTACT_NUMBER</th>\n",
       "      <th>Referred Other customers</th>\n",
       "      <th>Gender</th>\n",
       "      <th>Location</th>\n",
       "      <th>Acquired Channel</th>\n",
       "    </tr>\n",
       "  </thead>\n",
       "  <tbody>\n",
       "    <tr>\n",
       "      <th>0</th>\n",
       "      <td>C100000</td>\n",
       "      <td>9693593216</td>\n",
       "      <td>N</td>\n",
       "      <td>M</td>\n",
       "      <td>Chennai</td>\n",
       "      <td>APP</td>\n",
       "    </tr>\n",
       "    <tr>\n",
       "      <th>1</th>\n",
       "      <td>C100001</td>\n",
       "      <td>9770151476</td>\n",
       "      <td>Y</td>\n",
       "      <td>M</td>\n",
       "      <td>Bangalore</td>\n",
       "      <td>WEBSITE</td>\n",
       "    </tr>\n",
       "    <tr>\n",
       "      <th>2</th>\n",
       "      <td>C100002</td>\n",
       "      <td>9779085726</td>\n",
       "      <td>N</td>\n",
       "      <td>M</td>\n",
       "      <td>Gurgaon</td>\n",
       "      <td>WEBSITE</td>\n",
       "    </tr>\n",
       "    <tr>\n",
       "      <th>3</th>\n",
       "      <td>C100003</td>\n",
       "      <td>9298611643</td>\n",
       "      <td>N</td>\n",
       "      <td>M</td>\n",
       "      <td>Gurgaon</td>\n",
       "      <td>APP</td>\n",
       "    </tr>\n",
       "    <tr>\n",
       "      <th>4</th>\n",
       "      <td>C100004</td>\n",
       "      <td>9929250328</td>\n",
       "      <td>Y</td>\n",
       "      <td>M</td>\n",
       "      <td>Chennai</td>\n",
       "      <td>APP</td>\n",
       "    </tr>\n",
       "  </tbody>\n",
       "</table>\n",
       "</div>"
      ],
      "text/plain": [
       "  CUSTOMER_KEY  CONTACT_NUMBER Referred Other customers Gender   Location  \\\n",
       "0      C100000      9693593216                        N      M    Chennai   \n",
       "1      C100001      9770151476                        Y      M  Bangalore   \n",
       "2      C100002      9779085726                        N      M    Gurgaon   \n",
       "3      C100003      9298611643                        N      M    Gurgaon   \n",
       "4      C100004      9929250328                        Y      M    Chennai   \n",
       "\n",
       "  Acquired Channel  \n",
       "0              APP  \n",
       "1          WEBSITE  \n",
       "2          WEBSITE  \n",
       "3              APP  \n",
       "4              APP  "
      ]
     },
     "execution_count": 3,
     "metadata": {},
     "output_type": "execute_result"
    }
   ],
   "source": [
    "cust.head()"
   ]
  },
  {
   "cell_type": "code",
   "execution_count": 4,
   "id": "8c64c058",
   "metadata": {},
   "outputs": [
    {
     "name": "stdout",
     "output_type": "stream",
     "text": [
      "<class 'pandas.core.frame.DataFrame'>\n",
      "RangeIndex: 29620 entries, 0 to 29619\n",
      "Data columns (total 6 columns):\n",
      " #   Column                    Non-Null Count  Dtype \n",
      "---  ------                    --------------  ----- \n",
      " 0   CUSTOMER_KEY              29620 non-null  object\n",
      " 1   CONTACT_NUMBER            29620 non-null  int64 \n",
      " 2   Referred Other customers  29620 non-null  object\n",
      " 3   Gender                    29620 non-null  object\n",
      " 4   Location                  29620 non-null  object\n",
      " 5   Acquired Channel          29620 non-null  object\n",
      "dtypes: int64(1), object(5)\n",
      "memory usage: 1.4+ MB\n"
     ]
    }
   ],
   "source": [
    "cust.info()"
   ]
  },
  {
   "cell_type": "code",
   "execution_count": 5,
   "id": "c96ebb1f",
   "metadata": {},
   "outputs": [
    {
     "data": {
      "text/plain": [
       "CUSTOMER_KEY                0\n",
       "CONTACT_NUMBER              0\n",
       "Referred Other customers    0\n",
       "Gender                      0\n",
       "Location                    0\n",
       "Acquired Channel            0\n",
       "dtype: int64"
      ]
     },
     "execution_count": 5,
     "metadata": {},
     "output_type": "execute_result"
    }
   ],
   "source": [
    "cust.isnull().sum()"
   ]
  },
  {
   "cell_type": "code",
   "execution_count": 6,
   "id": "ff24dd04",
   "metadata": {},
   "outputs": [
    {
     "data": {
      "text/html": [
       "<div>\n",
       "<style scoped>\n",
       "    .dataframe tbody tr th:only-of-type {\n",
       "        vertical-align: middle;\n",
       "    }\n",
       "\n",
       "    .dataframe tbody tr th {\n",
       "        vertical-align: top;\n",
       "    }\n",
       "\n",
       "    .dataframe thead th {\n",
       "        text-align: right;\n",
       "    }\n",
       "</style>\n",
       "<table border=\"1\" class=\"dataframe\">\n",
       "  <thead>\n",
       "    <tr style=\"text-align: right;\">\n",
       "      <th></th>\n",
       "      <th>ORDER_NUMBER</th>\n",
       "      <th>CUSTOMER_KEY</th>\n",
       "      <th>ORDER_TOTAL</th>\n",
       "      <th>DISCOUNT</th>\n",
       "      <th>ORDER_DATE</th>\n",
       "      <th>ORDER_STATUS</th>\n",
       "      <th>DELIVERY_STATUS</th>\n",
       "    </tr>\n",
       "  </thead>\n",
       "  <tbody>\n",
       "    <tr>\n",
       "      <th>0</th>\n",
       "      <td>O100000</td>\n",
       "      <td>C100000</td>\n",
       "      <td>85.00</td>\n",
       "      <td>0.0</td>\n",
       "      <td>2016-05-18</td>\n",
       "      <td>Delivered</td>\n",
       "      <td>ON-TIME</td>\n",
       "    </tr>\n",
       "    <tr>\n",
       "      <th>1</th>\n",
       "      <td>O100001</td>\n",
       "      <td>C100001</td>\n",
       "      <td>307.52</td>\n",
       "      <td>0.0</td>\n",
       "      <td>2016-05-18</td>\n",
       "      <td>Delivered</td>\n",
       "      <td>ON-TIME</td>\n",
       "    </tr>\n",
       "    <tr>\n",
       "      <th>2</th>\n",
       "      <td>O100002</td>\n",
       "      <td>C100002</td>\n",
       "      <td>0.00</td>\n",
       "      <td>0.0</td>\n",
       "      <td>2016-05-18</td>\n",
       "      <td>Delivered</td>\n",
       "      <td>ON-TIME</td>\n",
       "    </tr>\n",
       "    <tr>\n",
       "      <th>3</th>\n",
       "      <td>O100003</td>\n",
       "      <td>C100003</td>\n",
       "      <td>153.73</td>\n",
       "      <td>0.0</td>\n",
       "      <td>2016-05-18</td>\n",
       "      <td>Delivered</td>\n",
       "      <td>ON-TIME</td>\n",
       "    </tr>\n",
       "    <tr>\n",
       "      <th>4</th>\n",
       "      <td>O100004</td>\n",
       "      <td>C100004</td>\n",
       "      <td>-39.55</td>\n",
       "      <td>0.0</td>\n",
       "      <td>2016-05-18</td>\n",
       "      <td>Delivered</td>\n",
       "      <td>ON-TIME</td>\n",
       "    </tr>\n",
       "    <tr>\n",
       "      <th>...</th>\n",
       "      <td>...</td>\n",
       "      <td>...</td>\n",
       "      <td>...</td>\n",
       "      <td>...</td>\n",
       "      <td>...</td>\n",
       "      <td>...</td>\n",
       "      <td>...</td>\n",
       "    </tr>\n",
       "    <tr>\n",
       "      <th>29611</th>\n",
       "      <td>O129611</td>\n",
       "      <td>C14309</td>\n",
       "      <td>776.40</td>\n",
       "      <td>400.0</td>\n",
       "      <td>2016-07-19</td>\n",
       "      <td>Delivered</td>\n",
       "      <td>ON-TIME</td>\n",
       "    </tr>\n",
       "    <tr>\n",
       "      <th>29612</th>\n",
       "      <td>O129612</td>\n",
       "      <td>C12892</td>\n",
       "      <td>1071.50</td>\n",
       "      <td>0.0</td>\n",
       "      <td>2016-07-19</td>\n",
       "      <td>Delivered</td>\n",
       "      <td>ON-TIME</td>\n",
       "    </tr>\n",
       "    <tr>\n",
       "      <th>29613</th>\n",
       "      <td>O129613</td>\n",
       "      <td>C10207</td>\n",
       "      <td>137.28</td>\n",
       "      <td>0.0</td>\n",
       "      <td>2016-07-19</td>\n",
       "      <td>Delivered</td>\n",
       "      <td>ON-TIME</td>\n",
       "    </tr>\n",
       "    <tr>\n",
       "      <th>29614</th>\n",
       "      <td>O129614</td>\n",
       "      <td>C10222</td>\n",
       "      <td>16.70</td>\n",
       "      <td>0.0</td>\n",
       "      <td>2016-07-19</td>\n",
       "      <td>Delivered</td>\n",
       "      <td>ON-TIME</td>\n",
       "    </tr>\n",
       "    <tr>\n",
       "      <th>29615</th>\n",
       "      <td>O129615</td>\n",
       "      <td>C14004</td>\n",
       "      <td>876.64</td>\n",
       "      <td>0.0</td>\n",
       "      <td>2016-07-19</td>\n",
       "      <td>Delivered</td>\n",
       "      <td>ON-TIME</td>\n",
       "    </tr>\n",
       "  </tbody>\n",
       "</table>\n",
       "<p>29616 rows × 7 columns</p>\n",
       "</div>"
      ],
      "text/plain": [
       "      ORDER_NUMBER CUSTOMER_KEY  ORDER_TOTAL  DISCOUNT ORDER_DATE  \\\n",
       "0          O100000      C100000        85.00       0.0 2016-05-18   \n",
       "1          O100001      C100001       307.52       0.0 2016-05-18   \n",
       "2          O100002      C100002         0.00       0.0 2016-05-18   \n",
       "3          O100003      C100003       153.73       0.0 2016-05-18   \n",
       "4          O100004      C100004       -39.55       0.0 2016-05-18   \n",
       "...            ...          ...          ...       ...        ...   \n",
       "29611      O129611       C14309       776.40     400.0 2016-07-19   \n",
       "29612      O129612       C12892      1071.50       0.0 2016-07-19   \n",
       "29613      O129613       C10207       137.28       0.0 2016-07-19   \n",
       "29614      O129614       C10222        16.70       0.0 2016-07-19   \n",
       "29615      O129615       C14004       876.64       0.0 2016-07-19   \n",
       "\n",
       "      ORDER_STATUS DELIVERY_STATUS  \n",
       "0        Delivered         ON-TIME  \n",
       "1        Delivered         ON-TIME  \n",
       "2        Delivered         ON-TIME  \n",
       "3        Delivered         ON-TIME  \n",
       "4        Delivered         ON-TIME  \n",
       "...            ...             ...  \n",
       "29611    Delivered         ON-TIME  \n",
       "29612    Delivered         ON-TIME  \n",
       "29613    Delivered         ON-TIME  \n",
       "29614    Delivered         ON-TIME  \n",
       "29615    Delivered         ON-TIME  \n",
       "\n",
       "[29616 rows x 7 columns]"
      ]
     },
     "execution_count": 6,
     "metadata": {},
     "output_type": "execute_result"
    }
   ],
   "source": [
    "orders"
   ]
  },
  {
   "cell_type": "code",
   "execution_count": 7,
   "id": "80ac98cd",
   "metadata": {},
   "outputs": [
    {
     "name": "stdout",
     "output_type": "stream",
     "text": [
      "<class 'pandas.core.frame.DataFrame'>\n",
      "RangeIndex: 29616 entries, 0 to 29615\n",
      "Data columns (total 7 columns):\n",
      " #   Column           Non-Null Count  Dtype         \n",
      "---  ------           --------------  -----         \n",
      " 0   ORDER_NUMBER     29616 non-null  object        \n",
      " 1   CUSTOMER_KEY     29616 non-null  object        \n",
      " 2   ORDER_TOTAL      29465 non-null  float64       \n",
      " 3   DISCOUNT         29275 non-null  float64       \n",
      " 4   ORDER_DATE       29616 non-null  datetime64[ns]\n",
      " 5   ORDER_STATUS     29616 non-null  object        \n",
      " 6   DELIVERY_STATUS  29452 non-null  object        \n",
      "dtypes: datetime64[ns](1), float64(2), object(4)\n",
      "memory usage: 1.6+ MB\n"
     ]
    }
   ],
   "source": [
    "orders.info()"
   ]
  },
  {
   "cell_type": "code",
   "execution_count": 8,
   "id": "587fafdf",
   "metadata": {},
   "outputs": [
    {
     "data": {
      "text/plain": [
       "ORDER_NUMBER         0\n",
       "CUSTOMER_KEY         0\n",
       "ORDER_TOTAL        151\n",
       "DISCOUNT           341\n",
       "ORDER_DATE           0\n",
       "ORDER_STATUS         0\n",
       "DELIVERY_STATUS    164\n",
       "dtype: int64"
      ]
     },
     "execution_count": 8,
     "metadata": {},
     "output_type": "execute_result"
    }
   ],
   "source": [
    "orders.isnull().sum()"
   ]
  },
  {
   "cell_type": "code",
   "execution_count": 9,
   "id": "6ba7443e",
   "metadata": {},
   "outputs": [
    {
     "data": {
      "text/plain": [
       "DELIVERY_STATUS\n",
       "ON-TIME    27814\n",
       "LATE        1638\n",
       "Name: count, dtype: int64"
      ]
     },
     "execution_count": 9,
     "metadata": {},
     "output_type": "execute_result"
    }
   ],
   "source": [
    "orders.DELIVERY_STATUS.value_counts()"
   ]
  },
  {
   "cell_type": "code",
   "execution_count": 10,
   "id": "638bb60e",
   "metadata": {},
   "outputs": [],
   "source": [
    "orders[\"ORDER_TOTAL\"]=np.where(orders.ORDER_TOTAL.isnull(),orders.ORDER_TOTAL.mean(),orders.ORDER_TOTAL)\n",
    "orders[\"DISCOUNT\"]=np.where(orders.DISCOUNT.isnull(),orders.DISCOUNT.mean(),orders.DISCOUNT)\n",
    "orders[\"DELIVERY_STATUS\"]=np.where(orders.DELIVERY_STATUS.isnull(),orders.DELIVERY_STATUS.mode(),orders.DELIVERY_STATUS)"
   ]
  },
  {
   "cell_type": "code",
   "execution_count": 11,
   "id": "f0066879",
   "metadata": {},
   "outputs": [
    {
     "data": {
      "text/plain": [
       "ORDER_NUMBER       0\n",
       "CUSTOMER_KEY       0\n",
       "ORDER_TOTAL        0\n",
       "DISCOUNT           0\n",
       "ORDER_DATE         0\n",
       "ORDER_STATUS       0\n",
       "DELIVERY_STATUS    0\n",
       "dtype: int64"
      ]
     },
     "execution_count": 11,
     "metadata": {},
     "output_type": "execute_result"
    }
   ],
   "source": [
    "orders.isnull().sum()"
   ]
  },
  {
   "cell_type": "markdown",
   "id": "75802d45",
   "metadata": {},
   "source": [
    "### Q1. Total Revenue (order value)"
   ]
  },
  {
   "cell_type": "code",
   "execution_count": 12,
   "id": "38635c5e",
   "metadata": {},
   "outputs": [
    {
     "name": "stdout",
     "output_type": "stream",
     "text": [
      "Total Revenue : 22319821.315223627\n"
     ]
    }
   ],
   "source": [
    "orders[\"Total_Revenue\"]=(orders.ORDER_TOTAL-orders.DISCOUNT)\n",
    "print(\"Total Revenue :\",orders[\"Total_Revenue\"].sum())"
   ]
  },
  {
   "cell_type": "markdown",
   "id": "62d69e80",
   "metadata": {},
   "source": [
    "### Q2. Total Revenue (order value) by top 25 Customers"
   ]
  },
  {
   "cell_type": "code",
   "execution_count": 13,
   "id": "5cc5fd75",
   "metadata": {},
   "outputs": [
    {
     "data": {
      "text/plain": [
       "CUSTOMER_KEY\n",
       "C11039      68780.510000\n",
       "C100213     65667.860000\n",
       "C13887      55252.870000\n",
       "C10373      52764.619205\n",
       "C15598      51637.500000\n",
       "C10252      48204.600000\n",
       "C100915     48018.890000\n",
       "C15021      47904.130000\n",
       "C10416      46030.940000\n",
       "C11644      45897.890000\n",
       "C10207      45631.920000\n",
       "C1001270    43069.810000\n",
       "C100113     38683.201313\n",
       "C15337      38331.700000\n",
       "C10714      37507.520000\n",
       "C10778      34729.410000\n",
       "C10879      34496.060000\n",
       "C10176      32703.229074\n",
       "C11620      32657.290000\n",
       "C10048      31016.410644\n",
       "C11758      30954.500000\n",
       "C10115      30785.770000\n",
       "C100725     30210.780203\n",
       "C11377      28984.360000\n",
       "C10078      28894.390000\n",
       "Name: Total_Revenue, dtype: float64"
      ]
     },
     "execution_count": 13,
     "metadata": {},
     "output_type": "execute_result"
    }
   ],
   "source": [
    "orders.groupby(\"CUSTOMER_KEY\")[\"Total_Revenue\"].sum().sort_values(ascending=False).head(25)"
   ]
  },
  {
   "cell_type": "markdown",
   "id": "0f9da91c",
   "metadata": {},
   "source": [
    "### Q3. Total number of orders"
   ]
  },
  {
   "cell_type": "code",
   "execution_count": 14,
   "id": "e3b9c49f",
   "metadata": {},
   "outputs": [
    {
     "data": {
      "text/plain": [
       "29616"
      ]
     },
     "execution_count": 14,
     "metadata": {},
     "output_type": "execute_result"
    }
   ],
   "source": [
    "orders.ORDER_NUMBER.count()"
   ]
  },
  {
   "cell_type": "markdown",
   "id": "b90298dc",
   "metadata": {},
   "source": [
    "### Q4. Total orders by top 10 customers"
   ]
  },
  {
   "cell_type": "code",
   "execution_count": 15,
   "id": "022214f2",
   "metadata": {},
   "outputs": [
    {
     "data": {
      "text/plain": [
       "CUSTOMER_KEY\n",
       "C10373     63\n",
       "C10115     40\n",
       "C10041     34\n",
       "C10465     33\n",
       "C10348     32\n",
       "C10146     31\n",
       "C10201     30\n",
       "C10067     29\n",
       "C100755    27\n",
       "C11039     26\n",
       "Name: ORDER_NUMBER, dtype: int64"
      ]
     },
     "execution_count": 15,
     "metadata": {},
     "output_type": "execute_result"
    }
   ],
   "source": [
    "orders.groupby(\"CUSTOMER_KEY\")[\"ORDER_NUMBER\"].count().sort_values(ascending=False).head(10)"
   ]
  },
  {
   "cell_type": "markdown",
   "id": "2e08452a",
   "metadata": {},
   "source": [
    "### Q6. Number of customers ordered once"
   ]
  },
  {
   "cell_type": "code",
   "execution_count": 16,
   "id": "17cd9ae9",
   "metadata": {},
   "outputs": [
    {
     "name": "stdout",
     "output_type": "stream",
     "text": [
      " Number of customers ordered once : 5491\n"
     ]
    }
   ],
   "source": [
    "customers=orders.groupby(\"CUSTOMER_KEY\")[\"ORDER_NUMBER\"].count()\n",
    "print(\" Number of customers ordered once :\",customers[customers.values==1].count())"
   ]
  },
  {
   "cell_type": "markdown",
   "id": "ab11a156",
   "metadata": {},
   "source": [
    "### Q7. Number of customers ordered multiple times"
   ]
  },
  {
   "cell_type": "code",
   "execution_count": 17,
   "id": "397001b2",
   "metadata": {},
   "outputs": [
    {
     "name": "stdout",
     "output_type": "stream",
     "text": [
      " Number of customers ordered once : 5645\n"
     ]
    }
   ],
   "source": [
    "customers=orders.groupby(\"CUSTOMER_KEY\")[\"ORDER_NUMBER\"].count()\n",
    "print(\" Number of customers ordered once :\",customers[customers.values>1].count())"
   ]
  },
  {
   "cell_type": "markdown",
   "id": "3af4248d",
   "metadata": {},
   "source": [
    "### Q8. Number of customers reffered to other customers"
   ]
  },
  {
   "cell_type": "code",
   "execution_count": 18,
   "id": "7dee06e6",
   "metadata": {},
   "outputs": [
    {
     "name": "stdout",
     "output_type": "stream",
     "text": [
      " Number of customers reffered to other customers 66\n"
     ]
    }
   ],
   "source": [
    "customers=cust.CUSTOMER_KEY[cust[\"Referred Other customers\"]==\"Y\"].count()\n",
    "print(\" Number of customers reffered to other customers\",customers)"
   ]
  },
  {
   "cell_type": "markdown",
   "id": "0d45051c",
   "metadata": {},
   "source": [
    "### Q9. Which Month have maximum Revenue?"
   ]
  },
  {
   "cell_type": "code",
   "execution_count": 19,
   "id": "39ddb2ed",
   "metadata": {},
   "outputs": [
    {
     "data": {
      "text/plain": [
       "ORDER_DATE\n",
       "June    5.708735e+06\n",
       "Name: Total_Revenue, dtype: float64"
      ]
     },
     "execution_count": 19,
     "metadata": {},
     "output_type": "execute_result"
    }
   ],
   "source": [
    "orders.groupby(orders.ORDER_DATE.dt.month_name())[\"Total_Revenue\"].sum().sort_values(ascending=False).head(1)"
   ]
  },
  {
   "cell_type": "markdown",
   "id": "52f0c8f0",
   "metadata": {},
   "source": [
    "### Q10. Number of customers are inactive (that haven't ordered in the last 60 days)"
   ]
  },
  {
   "cell_type": "code",
   "execution_count": 20,
   "id": "7cb91da6",
   "metadata": {},
   "outputs": [
    {
     "name": "stdout",
     "output_type": "stream",
     "text": [
      "inactive_customers : 6533\n"
     ]
    }
   ],
   "source": [
    "date=orders.ORDER_DATE.max()-dt.timedelta(days=60) #finding time period before 60 days\n",
    "inactive_customers=orders.CUSTOMER_KEY[orders['ORDER_DATE']<date].nunique() # finding unique values\n",
    "print(\"inactive_customers :\",inactive_customers)"
   ]
  },
  {
   "cell_type": "markdown",
   "id": "113312d8",
   "metadata": {},
   "source": [
    "### Q11. Growth Rate  (%) in Orders (from Nov’15 to July’16)"
   ]
  },
  {
   "cell_type": "code",
   "execution_count": 21,
   "id": "5f9e2f81",
   "metadata": {},
   "outputs": [
    {
     "name": "stdout",
     "output_type": "stream",
     "text": [
      "ORDER_DATE\n",
      "November          NaN\n",
      "December    72.476221\n",
      "January     25.920695\n",
      "February    58.516348\n",
      "March        6.082353\n",
      "April       34.777729\n",
      "May         23.191250\n",
      "July         9.320153\n",
      "June        54.644467\n",
      "Name: ORDER_TOTAL, dtype: float64\n"
     ]
    }
   ],
   "source": [
    "date=orders[(orders[\"ORDER_DATE\"] >= \"2015-11-01\") & (orders[\"ORDER_DATE\"] <= \"2016-07-31\")] #filtering\n",
    "monthly_orders=date.groupby(date[\"ORDER_DATE\"].dt.month_name())[\"ORDER_TOTAL\"].sum().sort_values() #summarising\n",
    "growth=monthly_orders.pct_change()*100 #converting int percentage\n",
    "print(growth)"
   ]
  },
  {
   "cell_type": "markdown",
   "id": "965ea5fb",
   "metadata": {},
   "source": [
    "### Q12. Growth Rate (%) in Revenue (from Nov'15 to July'16)"
   ]
  },
  {
   "cell_type": "code",
   "execution_count": 22,
   "id": "b143a018",
   "metadata": {},
   "outputs": [
    {
     "name": "stdout",
     "output_type": "stream",
     "text": [
      "ORDER_DATE\n",
      "November          NaN\n",
      "December    72.476221\n",
      "January     25.920695\n",
      "February    58.467578\n",
      "March        6.063606\n",
      "April       34.830562\n",
      "May         22.859614\n",
      "July         7.038783\n",
      "June        56.263035\n",
      "Name: Total_Revenue, dtype: float64\n"
     ]
    }
   ],
   "source": [
    "date=orders[(orders[\"ORDER_DATE\"] >= \"2015-11-01\") & (orders[\"ORDER_DATE\"] <= \"2016-07-31\")] #filtering\n",
    "monthly_orders=date.groupby(date[\"ORDER_DATE\"].dt.month_name())[\"Total_Revenue\"].sum().sort_values() #summarising\n",
    "growth=monthly_orders.pct_change()*100 #converting into percentage\n",
    "print(growth)"
   ]
  },
  {
   "cell_type": "code",
   "execution_count": 23,
   "id": "57c5fee7",
   "metadata": {},
   "outputs": [
    {
     "data": {
      "text/html": [
       "<div>\n",
       "<style scoped>\n",
       "    .dataframe tbody tr th:only-of-type {\n",
       "        vertical-align: middle;\n",
       "    }\n",
       "\n",
       "    .dataframe tbody tr th {\n",
       "        vertical-align: top;\n",
       "    }\n",
       "\n",
       "    .dataframe thead th {\n",
       "        text-align: right;\n",
       "    }\n",
       "</style>\n",
       "<table border=\"1\" class=\"dataframe\">\n",
       "  <thead>\n",
       "    <tr style=\"text-align: right;\">\n",
       "      <th></th>\n",
       "      <th>CUSTOMER_KEY</th>\n",
       "      <th>CONTACT_NUMBER</th>\n",
       "      <th>Referred Other customers</th>\n",
       "      <th>Gender</th>\n",
       "      <th>Location</th>\n",
       "      <th>Acquired Channel</th>\n",
       "    </tr>\n",
       "  </thead>\n",
       "  <tbody>\n",
       "    <tr>\n",
       "      <th>0</th>\n",
       "      <td>C100000</td>\n",
       "      <td>9693593216</td>\n",
       "      <td>N</td>\n",
       "      <td>M</td>\n",
       "      <td>Chennai</td>\n",
       "      <td>APP</td>\n",
       "    </tr>\n",
       "    <tr>\n",
       "      <th>1</th>\n",
       "      <td>C100001</td>\n",
       "      <td>9770151476</td>\n",
       "      <td>Y</td>\n",
       "      <td>M</td>\n",
       "      <td>Bangalore</td>\n",
       "      <td>WEBSITE</td>\n",
       "    </tr>\n",
       "    <tr>\n",
       "      <th>2</th>\n",
       "      <td>C100002</td>\n",
       "      <td>9779085726</td>\n",
       "      <td>N</td>\n",
       "      <td>M</td>\n",
       "      <td>Gurgaon</td>\n",
       "      <td>WEBSITE</td>\n",
       "    </tr>\n",
       "    <tr>\n",
       "      <th>3</th>\n",
       "      <td>C100003</td>\n",
       "      <td>9298611643</td>\n",
       "      <td>N</td>\n",
       "      <td>M</td>\n",
       "      <td>Gurgaon</td>\n",
       "      <td>APP</td>\n",
       "    </tr>\n",
       "    <tr>\n",
       "      <th>4</th>\n",
       "      <td>C100004</td>\n",
       "      <td>9929250328</td>\n",
       "      <td>Y</td>\n",
       "      <td>M</td>\n",
       "      <td>Chennai</td>\n",
       "      <td>APP</td>\n",
       "    </tr>\n",
       "    <tr>\n",
       "      <th>...</th>\n",
       "      <td>...</td>\n",
       "      <td>...</td>\n",
       "      <td>...</td>\n",
       "      <td>...</td>\n",
       "      <td>...</td>\n",
       "      <td>...</td>\n",
       "    </tr>\n",
       "    <tr>\n",
       "      <th>29615</th>\n",
       "      <td>C14004</td>\n",
       "      <td>9872549883</td>\n",
       "      <td>N</td>\n",
       "      <td>M</td>\n",
       "      <td>Gurgaon</td>\n",
       "      <td>WEBSITE</td>\n",
       "    </tr>\n",
       "    <tr>\n",
       "      <th>29616</th>\n",
       "      <td>C100005</td>\n",
       "      <td>9912345421</td>\n",
       "      <td>N</td>\n",
       "      <td>F</td>\n",
       "      <td>Chennai</td>\n",
       "      <td>APP</td>\n",
       "    </tr>\n",
       "    <tr>\n",
       "      <th>29617</th>\n",
       "      <td>C100141</td>\n",
       "      <td>9712348986</td>\n",
       "      <td>N</td>\n",
       "      <td>F</td>\n",
       "      <td>Bangalore</td>\n",
       "      <td>WEBSITE</td>\n",
       "    </tr>\n",
       "    <tr>\n",
       "      <th>29618</th>\n",
       "      <td>C1001648</td>\n",
       "      <td>9631532242</td>\n",
       "      <td>N</td>\n",
       "      <td>M</td>\n",
       "      <td>Chennai</td>\n",
       "      <td>WEBSITE</td>\n",
       "    </tr>\n",
       "    <tr>\n",
       "      <th>29619</th>\n",
       "      <td>C1001350</td>\n",
       "      <td>9585233220</td>\n",
       "      <td>N</td>\n",
       "      <td>F</td>\n",
       "      <td>Chennai</td>\n",
       "      <td>WEBSITE</td>\n",
       "    </tr>\n",
       "  </tbody>\n",
       "</table>\n",
       "<p>29620 rows × 6 columns</p>\n",
       "</div>"
      ],
      "text/plain": [
       "      CUSTOMER_KEY  CONTACT_NUMBER Referred Other customers Gender   Location  \\\n",
       "0          C100000      9693593216                        N      M    Chennai   \n",
       "1          C100001      9770151476                        Y      M  Bangalore   \n",
       "2          C100002      9779085726                        N      M    Gurgaon   \n",
       "3          C100003      9298611643                        N      M    Gurgaon   \n",
       "4          C100004      9929250328                        Y      M    Chennai   \n",
       "...            ...             ...                      ...    ...        ...   \n",
       "29615       C14004      9872549883                        N      M    Gurgaon   \n",
       "29616      C100005      9912345421                        N      F    Chennai   \n",
       "29617      C100141      9712348986                        N      F  Bangalore   \n",
       "29618     C1001648      9631532242                        N      M    Chennai   \n",
       "29619     C1001350      9585233220                        N      F    Chennai   \n",
       "\n",
       "      Acquired Channel  \n",
       "0                  APP  \n",
       "1              WEBSITE  \n",
       "2              WEBSITE  \n",
       "3                  APP  \n",
       "4                  APP  \n",
       "...                ...  \n",
       "29615          WEBSITE  \n",
       "29616              APP  \n",
       "29617          WEBSITE  \n",
       "29618          WEBSITE  \n",
       "29619          WEBSITE  \n",
       "\n",
       "[29620 rows x 6 columns]"
      ]
     },
     "execution_count": 23,
     "metadata": {},
     "output_type": "execute_result"
    }
   ],
   "source": [
    "cust"
   ]
  },
  {
   "cell_type": "markdown",
   "id": "4390feaa",
   "metadata": {},
   "source": [
    "### Q13. What is the percentage of Male customers exists?\n"
   ]
  },
  {
   "cell_type": "code",
   "execution_count": 24,
   "id": "3f41639e",
   "metadata": {},
   "outputs": [
    {
     "data": {
      "text/plain": [
       "Gender\n",
       "F    0.303376\n",
       "M    0.696624\n",
       "Name: CUSTOMER_KEY, dtype: float64"
      ]
     },
     "execution_count": 24,
     "metadata": {},
     "output_type": "execute_result"
    }
   ],
   "source": [
    "gender=cust.groupby(\"Gender\")[\"CUSTOMER_KEY\"].count() #summarising\n",
    "per=gender/gender.sum()\n",
    "per "
   ]
  },
  {
   "cell_type": "markdown",
   "id": "49821fab",
   "metadata": {},
   "source": [
    "### Q14. Which location have maximum customers?"
   ]
  },
  {
   "cell_type": "code",
   "execution_count": 25,
   "id": "72e65953",
   "metadata": {},
   "outputs": [
    {
     "data": {
      "text/plain": [
       "Location\n",
       "Gurgaon    11817\n",
       "Name: CUSTOMER_KEY, dtype: int64"
      ]
     },
     "execution_count": 25,
     "metadata": {},
     "output_type": "execute_result"
    }
   ],
   "source": [
    "loc=cust.groupby(\"Location\")[\"CUSTOMER_KEY\"].count() #summarising\n",
    "loc.sort_values(ascending=False).head(1) #max-customers"
   ]
  },
  {
   "cell_type": "markdown",
   "id": "1d1bc6d6",
   "metadata": {},
   "source": [
    "### Q15. How many orders are returned? (Returns can be found if the order total value is negative value)"
   ]
  },
  {
   "cell_type": "code",
   "execution_count": 26,
   "id": "9bb844ca",
   "metadata": {},
   "outputs": [
    {
     "name": "stdout",
     "output_type": "stream",
     "text": [
      "77 orders are returned\n"
     ]
    }
   ],
   "source": [
    "returned_order=orders[orders.ORDER_TOTAL<0] #filtering negative values\n",
    "print(returned_order.CUSTOMER_KEY.count(),\"orders are returned\") #counting negative orders"
   ]
  },
  {
   "cell_type": "markdown",
   "id": "6b8569b5",
   "metadata": {},
   "source": [
    "### Q16. Which Acquisition channel is more efficient in terms of customer acquisition?"
   ]
  },
  {
   "cell_type": "code",
   "execution_count": 27,
   "id": "1158d6f0",
   "metadata": {},
   "outputs": [
    {
     "data": {
      "text/plain": [
       "Acquired Channel\n",
       "WEBSITE    17818\n",
       "APP        11802\n",
       "Name: CUSTOMER_KEY, dtype: int64"
      ]
     },
     "execution_count": 27,
     "metadata": {},
     "output_type": "execute_result"
    }
   ],
   "source": [
    "cust.groupby(\"Acquired Channel\")[\"CUSTOMER_KEY\"].count().sort_values(ascending=False)\n",
    "#Website is more efficient in terms of customer acquisition "
   ]
  },
  {
   "cell_type": "code",
   "execution_count": 28,
   "id": "92953573",
   "metadata": {},
   "outputs": [
    {
     "data": {
      "text/html": [
       "<div>\n",
       "<style scoped>\n",
       "    .dataframe tbody tr th:only-of-type {\n",
       "        vertical-align: middle;\n",
       "    }\n",
       "\n",
       "    .dataframe tbody tr th {\n",
       "        vertical-align: top;\n",
       "    }\n",
       "\n",
       "    .dataframe thead th {\n",
       "        text-align: right;\n",
       "    }\n",
       "</style>\n",
       "<table border=\"1\" class=\"dataframe\">\n",
       "  <thead>\n",
       "    <tr style=\"text-align: right;\">\n",
       "      <th></th>\n",
       "      <th>CUSTOMER_KEY</th>\n",
       "      <th>CONTACT_NUMBER</th>\n",
       "      <th>Referred Other customers</th>\n",
       "      <th>Gender</th>\n",
       "      <th>Location</th>\n",
       "      <th>Acquired Channel</th>\n",
       "      <th>ORDER_NUMBER</th>\n",
       "      <th>ORDER_TOTAL</th>\n",
       "      <th>DISCOUNT</th>\n",
       "      <th>ORDER_DATE</th>\n",
       "      <th>ORDER_STATUS</th>\n",
       "      <th>DELIVERY_STATUS</th>\n",
       "      <th>Total_Revenue</th>\n",
       "    </tr>\n",
       "  </thead>\n",
       "  <tbody>\n",
       "    <tr>\n",
       "      <th>0</th>\n",
       "      <td>C100000</td>\n",
       "      <td>9693593216</td>\n",
       "      <td>N</td>\n",
       "      <td>M</td>\n",
       "      <td>Chennai</td>\n",
       "      <td>APP</td>\n",
       "      <td>O100000</td>\n",
       "      <td>85.00</td>\n",
       "      <td>0.0</td>\n",
       "      <td>2016-05-18</td>\n",
       "      <td>Delivered</td>\n",
       "      <td>ON-TIME</td>\n",
       "      <td>85.00</td>\n",
       "    </tr>\n",
       "    <tr>\n",
       "      <th>1</th>\n",
       "      <td>C100000</td>\n",
       "      <td>9693593216</td>\n",
       "      <td>N</td>\n",
       "      <td>M</td>\n",
       "      <td>Chennai</td>\n",
       "      <td>APP</td>\n",
       "      <td>O100010</td>\n",
       "      <td>335.15</td>\n",
       "      <td>0.0</td>\n",
       "      <td>2016-05-19</td>\n",
       "      <td>Delivered</td>\n",
       "      <td>ON-TIME</td>\n",
       "      <td>335.15</td>\n",
       "    </tr>\n",
       "    <tr>\n",
       "      <th>2</th>\n",
       "      <td>C100000</td>\n",
       "      <td>9693593216</td>\n",
       "      <td>N</td>\n",
       "      <td>M</td>\n",
       "      <td>Chennai</td>\n",
       "      <td>APP</td>\n",
       "      <td>O100017</td>\n",
       "      <td>224.73</td>\n",
       "      <td>0.0</td>\n",
       "      <td>2016-05-20</td>\n",
       "      <td>Delivered</td>\n",
       "      <td>ON-TIME</td>\n",
       "      <td>224.73</td>\n",
       "    </tr>\n",
       "    <tr>\n",
       "      <th>3</th>\n",
       "      <td>C100000</td>\n",
       "      <td>9693593216</td>\n",
       "      <td>N</td>\n",
       "      <td>M</td>\n",
       "      <td>Chennai</td>\n",
       "      <td>APP</td>\n",
       "      <td>O100025</td>\n",
       "      <td>0.00</td>\n",
       "      <td>0.0</td>\n",
       "      <td>2016-05-20</td>\n",
       "      <td>Delivered</td>\n",
       "      <td>ON-TIME</td>\n",
       "      <td>0.00</td>\n",
       "    </tr>\n",
       "    <tr>\n",
       "      <th>4</th>\n",
       "      <td>C100000</td>\n",
       "      <td>9693593216</td>\n",
       "      <td>N</td>\n",
       "      <td>M</td>\n",
       "      <td>Chennai</td>\n",
       "      <td>APP</td>\n",
       "      <td>O106017</td>\n",
       "      <td>127.62</td>\n",
       "      <td>0.0</td>\n",
       "      <td>2016-07-15</td>\n",
       "      <td>Delivered</td>\n",
       "      <td>ON-TIME</td>\n",
       "      <td>127.62</td>\n",
       "    </tr>\n",
       "    <tr>\n",
       "      <th>...</th>\n",
       "      <td>...</td>\n",
       "      <td>...</td>\n",
       "      <td>...</td>\n",
       "      <td>...</td>\n",
       "      <td>...</td>\n",
       "      <td>...</td>\n",
       "      <td>...</td>\n",
       "      <td>...</td>\n",
       "      <td>...</td>\n",
       "      <td>...</td>\n",
       "      <td>...</td>\n",
       "      <td>...</td>\n",
       "      <td>...</td>\n",
       "    </tr>\n",
       "    <tr>\n",
       "      <th>173643</th>\n",
       "      <td>C19486</td>\n",
       "      <td>9623798327</td>\n",
       "      <td>N</td>\n",
       "      <td>M</td>\n",
       "      <td>Gurgaon</td>\n",
       "      <td>WEBSITE</td>\n",
       "      <td>O129592</td>\n",
       "      <td>751.38</td>\n",
       "      <td>0.0</td>\n",
       "      <td>2016-07-18</td>\n",
       "      <td>Delivered</td>\n",
       "      <td>ON-TIME</td>\n",
       "      <td>751.38</td>\n",
       "    </tr>\n",
       "    <tr>\n",
       "      <th>173644</th>\n",
       "      <td>C19487</td>\n",
       "      <td>9703385893</td>\n",
       "      <td>N</td>\n",
       "      <td>M</td>\n",
       "      <td>Others</td>\n",
       "      <td>WEBSITE</td>\n",
       "      <td>O129593</td>\n",
       "      <td>104.11</td>\n",
       "      <td>0.0</td>\n",
       "      <td>2016-07-18</td>\n",
       "      <td>Delivered</td>\n",
       "      <td>ON-TIME</td>\n",
       "      <td>104.11</td>\n",
       "    </tr>\n",
       "    <tr>\n",
       "      <th>173645</th>\n",
       "      <td>C19488</td>\n",
       "      <td>9200667897</td>\n",
       "      <td>N</td>\n",
       "      <td>F</td>\n",
       "      <td>Chennai</td>\n",
       "      <td>WEBSITE</td>\n",
       "      <td>O129596</td>\n",
       "      <td>2310.99</td>\n",
       "      <td>200.0</td>\n",
       "      <td>2016-07-18</td>\n",
       "      <td>Delivered</td>\n",
       "      <td>ON-TIME</td>\n",
       "      <td>2110.99</td>\n",
       "    </tr>\n",
       "    <tr>\n",
       "      <th>173646</th>\n",
       "      <td>C19489</td>\n",
       "      <td>9485447390</td>\n",
       "      <td>N</td>\n",
       "      <td>M</td>\n",
       "      <td>Bangalore</td>\n",
       "      <td>WEBSITE</td>\n",
       "      <td>O129601</td>\n",
       "      <td>91.77</td>\n",
       "      <td>0.0</td>\n",
       "      <td>2016-07-19</td>\n",
       "      <td>Delivered</td>\n",
       "      <td>ON-TIME</td>\n",
       "      <td>91.77</td>\n",
       "    </tr>\n",
       "    <tr>\n",
       "      <th>173647</th>\n",
       "      <td>C19490</td>\n",
       "      <td>9306904398</td>\n",
       "      <td>N</td>\n",
       "      <td>M</td>\n",
       "      <td>Bangalore</td>\n",
       "      <td>WEBSITE</td>\n",
       "      <td>O129605</td>\n",
       "      <td>542.72</td>\n",
       "      <td>0.0</td>\n",
       "      <td>2016-07-19</td>\n",
       "      <td>Delivered</td>\n",
       "      <td>ON-TIME</td>\n",
       "      <td>542.72</td>\n",
       "    </tr>\n",
       "  </tbody>\n",
       "</table>\n",
       "<p>173648 rows × 13 columns</p>\n",
       "</div>"
      ],
      "text/plain": [
       "       CUSTOMER_KEY  CONTACT_NUMBER Referred Other customers Gender  \\\n",
       "0           C100000      9693593216                        N      M   \n",
       "1           C100000      9693593216                        N      M   \n",
       "2           C100000      9693593216                        N      M   \n",
       "3           C100000      9693593216                        N      M   \n",
       "4           C100000      9693593216                        N      M   \n",
       "...             ...             ...                      ...    ...   \n",
       "173643       C19486      9623798327                        N      M   \n",
       "173644       C19487      9703385893                        N      M   \n",
       "173645       C19488      9200667897                        N      F   \n",
       "173646       C19489      9485447390                        N      M   \n",
       "173647       C19490      9306904398                        N      M   \n",
       "\n",
       "         Location Acquired Channel ORDER_NUMBER  ORDER_TOTAL  DISCOUNT  \\\n",
       "0         Chennai              APP      O100000        85.00       0.0   \n",
       "1         Chennai              APP      O100010       335.15       0.0   \n",
       "2         Chennai              APP      O100017       224.73       0.0   \n",
       "3         Chennai              APP      O100025         0.00       0.0   \n",
       "4         Chennai              APP      O106017       127.62       0.0   \n",
       "...           ...              ...          ...          ...       ...   \n",
       "173643    Gurgaon          WEBSITE      O129592       751.38       0.0   \n",
       "173644     Others          WEBSITE      O129593       104.11       0.0   \n",
       "173645    Chennai          WEBSITE      O129596      2310.99     200.0   \n",
       "173646  Bangalore          WEBSITE      O129601        91.77       0.0   \n",
       "173647  Bangalore          WEBSITE      O129605       542.72       0.0   \n",
       "\n",
       "       ORDER_DATE ORDER_STATUS DELIVERY_STATUS  Total_Revenue  \n",
       "0      2016-05-18    Delivered         ON-TIME          85.00  \n",
       "1      2016-05-19    Delivered         ON-TIME         335.15  \n",
       "2      2016-05-20    Delivered         ON-TIME         224.73  \n",
       "3      2016-05-20    Delivered         ON-TIME           0.00  \n",
       "4      2016-07-15    Delivered         ON-TIME         127.62  \n",
       "...           ...          ...             ...            ...  \n",
       "173643 2016-07-18    Delivered         ON-TIME         751.38  \n",
       "173644 2016-07-18    Delivered         ON-TIME         104.11  \n",
       "173645 2016-07-18    Delivered         ON-TIME        2110.99  \n",
       "173646 2016-07-19    Delivered         ON-TIME          91.77  \n",
       "173647 2016-07-19    Delivered         ON-TIME         542.72  \n",
       "\n",
       "[173648 rows x 13 columns]"
      ]
     },
     "execution_count": 28,
     "metadata": {},
     "output_type": "execute_result"
    }
   ],
   "source": [
    "### Merging both the tables\n",
    "merged=pd.merge(cust,orders,on=\"CUSTOMER_KEY\",how='inner')\n",
    "merged"
   ]
  },
  {
   "cell_type": "markdown",
   "id": "5dadd691",
   "metadata": {},
   "source": [
    "### Q17. Which location having more orders with discount amount?"
   ]
  },
  {
   "cell_type": "code",
   "execution_count": 29,
   "id": "095ae20e",
   "metadata": {},
   "outputs": [
    {
     "data": {
      "text/plain": [
       "Location\n",
       "Bangalore     982\n",
       "Chennai      1877\n",
       "Gurgaon      2012\n",
       "Others        222\n",
       "Name: CUSTOMER_KEY, dtype: int64"
      ]
     },
     "execution_count": 29,
     "metadata": {},
     "output_type": "execute_result"
    }
   ],
   "source": [
    "discounted_orders = merged[merged[\"DISCOUNT\"] > 0]\n",
    "discounted_orders.groupby(\"Location\")[\"CUSTOMER_KEY\"].count() "
   ]
  },
  {
   "cell_type": "code",
   "execution_count": 30,
   "id": "51cc532e",
   "metadata": {},
   "outputs": [
    {
     "data": {
      "text/plain": [
       "DELIVERY_STATUS\n",
       "ON-TIME    164184\n",
       "LATE         9464\n",
       "Name: count, dtype: int64"
      ]
     },
     "execution_count": 30,
     "metadata": {},
     "output_type": "execute_result"
    }
   ],
   "source": [
    "merged[\"DELIVERY_STATUS\"].value_counts()"
   ]
  },
  {
   "cell_type": "markdown",
   "id": "094dde5e",
   "metadata": {},
   "source": [
    "### Q18. Which location having maximum orders delivered in delay"
   ]
  },
  {
   "cell_type": "code",
   "execution_count": 31,
   "id": "1c34e223",
   "metadata": {},
   "outputs": [
    {
     "data": {
      "text/plain": [
       "Location\n",
       "Gurgaon    3777\n",
       "Name: CUSTOMER_KEY, dtype: int64"
      ]
     },
     "execution_count": 31,
     "metadata": {},
     "output_type": "execute_result"
    }
   ],
   "source": [
    "loc=merged[merged[\"DELIVERY_STATUS\"]==\"LATE\"] #delayed orders\n",
    "loc.groupby(\"Location\")[\"CUSTOMER_KEY\"].count().sort_values(ascending=False).head(1) #summarising"
   ]
  },
  {
   "cell_type": "markdown",
   "id": "d8b20f59",
   "metadata": {},
   "source": [
    "### Q19. What is the percentage of customers who are males acquired by APP channel?"
   ]
  },
  {
   "cell_type": "code",
   "execution_count": 32,
   "id": "62557deb",
   "metadata": {},
   "outputs": [
    {
     "data": {
      "text/plain": [
       "Gender\n",
       "F    0.29644\n",
       "M    0.70356\n",
       "Name: CUSTOMER_KEY, dtype: float64"
      ]
     },
     "execution_count": 32,
     "metadata": {},
     "output_type": "execute_result"
    }
   ],
   "source": [
    "filter_data=merged[merged[\"Acquired Channel\"]==\"APP\"] #filtering\n",
    "gender_filter_data=filter_data.groupby(\"Gender\")[\"CUSTOMER_KEY\"].count() #summarising\n",
    "gender_filter_data/gender_filter_data.sum() #percentage of customers"
   ]
  },
  {
   "cell_type": "markdown",
   "id": "582e1928",
   "metadata": {},
   "source": [
    "### Q20. What is the percentage of orders got canceled?"
   ]
  },
  {
   "cell_type": "code",
   "execution_count": 36,
   "id": "5804a495",
   "metadata": {},
   "outputs": [
    {
     "name": "stdout",
     "output_type": "stream",
     "text": [
      "0.0064 % of orders got canceled\n"
     ]
    }
   ],
   "source": [
    "total_orders=merged.ORDER_TOTAL.count() #total orders\n",
    "canceled_order=merged.CUSTOMER_KEY[merged['ORDER_STATUS']==\"Cancelled\"] #canceled_order\n",
    "percentage=canceled_order.count()/total_orders #percenatge\n",
    "percentage=round(percentage,4)\n",
    "print(percentage,\"% of orders got canceled\")"
   ]
  },
  {
   "cell_type": "markdown",
   "id": "eaf675c9",
   "metadata": {},
   "source": [
    "### Q21. What is the percentage of orders done by happy customers (Note: Happy customers mean customer who referred other customers)?\n"
   ]
  },
  {
   "cell_type": "code",
   "execution_count": 71,
   "id": "01ed7e3f",
   "metadata": {},
   "outputs": [
    {
     "name": "stdout",
     "output_type": "stream",
     "text": [
      "0.49871 % of orders done by happy customers \n"
     ]
    }
   ],
   "source": [
    "total_orders=merged.CUSTOMER_KEY.count()\n",
    "happy_cust=merged.CUSTOMER_KEY[merged[\"Referred Other customers\"]==\"Y\"].count()\n",
    "perc=(happy_cust/total_orders)*100\n",
    "perc=round(perc,5)\n",
    "print(perc,\"% of orders done by happy customers \")"
   ]
  },
  {
   "cell_type": "markdown",
   "id": "7a1e51fd",
   "metadata": {},
   "source": [
    "### Q22. Which Location having maximum customers through reference?"
   ]
  },
  {
   "cell_type": "code",
   "execution_count": 40,
   "id": "1d4752f3",
   "metadata": {},
   "outputs": [
    {
     "data": {
      "text/plain": [
       "Location\n",
       "Gurgaon    390\n",
       "Name: CUSTOMER_KEY, dtype: int64"
      ]
     },
     "execution_count": 40,
     "metadata": {},
     "output_type": "execute_result"
    }
   ],
   "source": [
    "data=merged[merged[\"Referred Other customers\"]==\"Y\"]\n",
    "data.groupby(\"Location\")['CUSTOMER_KEY'].count().sort_values(ascending=False).head(1)"
   ]
  },
  {
   "cell_type": "markdown",
   "id": "ca761aa6",
   "metadata": {},
   "source": [
    "### Q23. What is order_total value of male customers who are belongs to Chennai and Happy customers (Happy customer definition is same in question 21)?"
   ]
  },
  {
   "cell_type": "code",
   "execution_count": 48,
   "id": "41e5f6af",
   "metadata": {},
   "outputs": [
    {
     "data": {
      "text/plain": [
       "521391.0"
      ]
     },
     "execution_count": 48,
     "metadata": {},
     "output_type": "execute_result"
    }
   ],
   "source": [
    "data=merged[(merged.Gender==\"M\")&(merged.Location==\"Chennai\")&(merged[\"Referred Other customers\"]==\"Y\")] #Filtering the data\n",
    "round(data.ORDER_TOTAL.sum(),2) #suming the order value and rounding off"
   ]
  },
  {
   "cell_type": "markdown",
   "id": "b66768bf",
   "metadata": {},
   "source": [
    "### Q24. Which month having maximum order value from male customers belongs to Chennai? "
   ]
  },
  {
   "cell_type": "code",
   "execution_count": 58,
   "id": "8470f3f0",
   "metadata": {},
   "outputs": [
    {
     "data": {
      "text/plain": [
       "ORDER_DATE\n",
       "June    9487\n",
       "Name: ORDER_NUMBER, dtype: int64"
      ]
     },
     "execution_count": 58,
     "metadata": {},
     "output_type": "execute_result"
    }
   ],
   "source": [
    "data=merged[(merged.Gender==\"M\")&(merged.Location==\"Chennai\")]\n",
    "monthly_data=data.groupby(data.ORDER_DATE.dt.month_name())[\"ORDER_NUMBER\"].count()\n",
    "monthly_data.sort_values(ascending=False).head(1)"
   ]
  },
  {
   "cell_type": "markdown",
   "id": "5e552cc0",
   "metadata": {},
   "source": [
    "### Q25. What are number of discounted orders ordered by female customers who were acquired by website from Bangalore and delivered orders  on time?"
   ]
  },
  {
   "cell_type": "code",
   "execution_count": 69,
   "id": "5b16fa9f",
   "metadata": {},
   "outputs": [
    {
     "name": "stdout",
     "output_type": "stream",
     "text": [
      "number of discounted orders ordered by female customers who were acquired by website from Bangalore and delivered orders on time 182\n"
     ]
    }
   ],
   "source": [
    "filtered_data=merged[(merged.Gender==\"F\")&(merged[\"Acquired Channel\"]==\"WEBSITE\")&(merged.Location==\"Bangalore\")&(merged.DELIVERY_STATUS==\"ON-TIME\")&(merged.DISCOUNT>0)]\n",
    "#filtering data on all the above conditions\n",
    "print(\"number of discounted orders ordered by female customers who were acquired by website from Bangalore and delivered orders on time\",filtered_data.shape[0])"
   ]
  },
  {
   "cell_type": "code",
   "execution_count": null,
   "id": "32ef0ba8",
   "metadata": {},
   "outputs": [],
   "source": []
  }
 ],
 "metadata": {
  "kernelspec": {
   "display_name": "Python 3 (ipykernel)",
   "language": "python",
   "name": "python3"
  },
  "language_info": {
   "codemirror_mode": {
    "name": "ipython",
    "version": 3
   },
   "file_extension": ".py",
   "mimetype": "text/x-python",
   "name": "python",
   "nbconvert_exporter": "python",
   "pygments_lexer": "ipython3",
   "version": "3.11.5"
  }
 },
 "nbformat": 4,
 "nbformat_minor": 5
}
